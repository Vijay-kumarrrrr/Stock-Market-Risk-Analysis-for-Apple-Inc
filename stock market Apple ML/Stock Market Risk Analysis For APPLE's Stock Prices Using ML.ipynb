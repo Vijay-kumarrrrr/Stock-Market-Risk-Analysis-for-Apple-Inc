{
 "cells": [
  {
   "cell_type": "markdown",
   "metadata": {},
   "source": [
    "# Stock market Risk Analysis for Apple's Stock Prices"
   ]
  },
  {
   "cell_type": "markdown",
   "metadata": {},
   "source": [
    "The Visualisations in this project have been made using the Plotly package which may not be visible In github repository, To see those plots or the complete program with visualisation You can click on the link in README.md file."
   ]
  },
  {
   "cell_type": "markdown",
   "metadata": {},
   "source": [
    "#### Importing Essential Libraries and packages"
   ]
  },
  {
   "cell_type": "code",
   "execution_count": 1,
   "metadata": {},
   "outputs": [],
   "source": [
    "import numpy as np\n",
    "import pandas as pd\n",
    "from pandas import Series, DataFrame\n",
    "import seaborn as sns\n",
    "import matplotlib.pyplot as plt\n",
    "sns.set_style('darkgrid')\n",
    "import plotly\n",
    "import chart_studio.plotly as py\n",
    "import plotly.graph_objs as go\n",
    "from plotly.offline import plot"
   ]
  },
  {
   "cell_type": "code",
   "execution_count": 2,
   "metadata": {},
   "outputs": [
    {
     "data": {
      "text/html": [
       "        <script type=\"text/javascript\">\n",
       "        window.PlotlyConfig = {MathJaxConfig: 'local'};\n",
       "        if (window.MathJax) {MathJax.Hub.Config({SVG: {font: \"STIX-Web\"}});}\n",
       "        if (typeof require !== 'undefined') {\n",
       "        require.undef(\"plotly\");\n",
       "        requirejs.config({\n",
       "            paths: {\n",
       "                'plotly': ['https://cdn.plot.ly/plotly-latest.min']\n",
       "            }\n",
       "        });\n",
       "        require(['plotly'], function(Plotly) {\n",
       "            window._Plotly = Plotly;\n",
       "        });\n",
       "        }\n",
       "        </script>\n",
       "        "
      ]
     },
     "metadata": {},
     "output_type": "display_data"
    }
   ],
   "source": [
    "from plotly.offline import init_notebook_mode, plot, iplot, download_plotlyjs\n",
    "init_notebook_mode(connected = True)"
   ]
  },
  {
   "cell_type": "markdown",
   "metadata": {},
   "source": [
    "#### Importing Stock market data from the Internet"
   ]
  },
  {
   "cell_type": "code",
   "execution_count": 3,
   "metadata": {},
   "outputs": [],
   "source": [
    "import pandas_datareader.data as web"
   ]
  },
  {
   "cell_type": "code",
   "execution_count": 4,
   "metadata": {},
   "outputs": [],
   "source": [
    "from datetime import datetime"
   ]
  },
  {
   "cell_type": "code",
   "execution_count": 5,
   "metadata": {},
   "outputs": [],
   "source": [
    "# Setting the Start and End date for Stock Market Analysis\n",
    "# Data of past 2 year\n",
    "\n",
    "end = datetime.now()\n",
    "start = datetime(end.year-2,end.month,end.day)"
   ]
  },
  {
   "cell_type": "code",
   "execution_count": 6,
   "metadata": {},
   "outputs": [],
   "source": [
    "# Importing Apple's Stock Prices\n",
    "\n",
    "APPLE = web.DataReader('AAPL','yahoo',start,end)"
   ]
  },
  {
   "cell_type": "code",
   "execution_count": 7,
   "metadata": {},
   "outputs": [],
   "source": [
    "APPLE.to_csv('APPLE.csv')"
   ]
  },
  {
   "cell_type": "code",
   "execution_count": 8,
   "metadata": {},
   "outputs": [],
   "source": [
    "APPLE = pd.read_csv('APPLE.csv')"
   ]
  },
  {
   "cell_type": "code",
   "execution_count": 9,
   "metadata": {},
   "outputs": [
    {
     "data": {
      "text/html": [
       "<div>\n",
       "<style scoped>\n",
       "    .dataframe tbody tr th:only-of-type {\n",
       "        vertical-align: middle;\n",
       "    }\n",
       "\n",
       "    .dataframe tbody tr th {\n",
       "        vertical-align: top;\n",
       "    }\n",
       "\n",
       "    .dataframe thead th {\n",
       "        text-align: right;\n",
       "    }\n",
       "</style>\n",
       "<table border=\"1\" class=\"dataframe\">\n",
       "  <thead>\n",
       "    <tr style=\"text-align: right;\">\n",
       "      <th></th>\n",
       "      <th>Date</th>\n",
       "      <th>High</th>\n",
       "      <th>Low</th>\n",
       "      <th>Open</th>\n",
       "      <th>Close</th>\n",
       "      <th>Volume</th>\n",
       "      <th>Adj Close</th>\n",
       "    </tr>\n",
       "  </thead>\n",
       "  <tbody>\n",
       "    <tr>\n",
       "      <th>0</th>\n",
       "      <td>2018-09-04</td>\n",
       "      <td>57.294998</td>\n",
       "      <td>56.657501</td>\n",
       "      <td>57.102501</td>\n",
       "      <td>57.090000</td>\n",
       "      <td>109560400.0</td>\n",
       "      <td>55.665325</td>\n",
       "    </tr>\n",
       "    <tr>\n",
       "      <th>1</th>\n",
       "      <td>2018-09-05</td>\n",
       "      <td>57.417500</td>\n",
       "      <td>56.275002</td>\n",
       "      <td>57.247501</td>\n",
       "      <td>56.717499</td>\n",
       "      <td>133332000.0</td>\n",
       "      <td>55.302128</td>\n",
       "    </tr>\n",
       "    <tr>\n",
       "      <th>2</th>\n",
       "      <td>2018-09-06</td>\n",
       "      <td>56.837502</td>\n",
       "      <td>55.325001</td>\n",
       "      <td>56.557499</td>\n",
       "      <td>55.775002</td>\n",
       "      <td>137160000.0</td>\n",
       "      <td>54.383144</td>\n",
       "    </tr>\n",
       "    <tr>\n",
       "      <th>3</th>\n",
       "      <td>2018-09-07</td>\n",
       "      <td>56.342499</td>\n",
       "      <td>55.177502</td>\n",
       "      <td>55.462502</td>\n",
       "      <td>55.325001</td>\n",
       "      <td>150479200.0</td>\n",
       "      <td>53.944374</td>\n",
       "    </tr>\n",
       "    <tr>\n",
       "      <th>4</th>\n",
       "      <td>2018-09-10</td>\n",
       "      <td>55.462502</td>\n",
       "      <td>54.117500</td>\n",
       "      <td>55.237499</td>\n",
       "      <td>54.582500</td>\n",
       "      <td>158066000.0</td>\n",
       "      <td>53.220398</td>\n",
       "    </tr>\n",
       "    <tr>\n",
       "      <th>...</th>\n",
       "      <td>...</td>\n",
       "      <td>...</td>\n",
       "      <td>...</td>\n",
       "      <td>...</td>\n",
       "      <td>...</td>\n",
       "      <td>...</td>\n",
       "      <td>...</td>\n",
       "    </tr>\n",
       "    <tr>\n",
       "      <th>498</th>\n",
       "      <td>2020-08-26</td>\n",
       "      <td>126.992500</td>\n",
       "      <td>125.082497</td>\n",
       "      <td>126.180000</td>\n",
       "      <td>126.522499</td>\n",
       "      <td>163022400.0</td>\n",
       "      <td>126.522499</td>\n",
       "    </tr>\n",
       "    <tr>\n",
       "      <th>499</th>\n",
       "      <td>2020-08-27</td>\n",
       "      <td>127.485001</td>\n",
       "      <td>123.832497</td>\n",
       "      <td>127.142502</td>\n",
       "      <td>125.010002</td>\n",
       "      <td>155552400.0</td>\n",
       "      <td>125.010002</td>\n",
       "    </tr>\n",
       "    <tr>\n",
       "      <th>500</th>\n",
       "      <td>2020-08-28</td>\n",
       "      <td>126.442497</td>\n",
       "      <td>124.577499</td>\n",
       "      <td>126.012497</td>\n",
       "      <td>124.807503</td>\n",
       "      <td>187630000.0</td>\n",
       "      <td>124.807503</td>\n",
       "    </tr>\n",
       "    <tr>\n",
       "      <th>501</th>\n",
       "      <td>2020-08-31</td>\n",
       "      <td>131.000000</td>\n",
       "      <td>126.000000</td>\n",
       "      <td>127.580002</td>\n",
       "      <td>129.039993</td>\n",
       "      <td>225702700.0</td>\n",
       "      <td>129.039993</td>\n",
       "    </tr>\n",
       "    <tr>\n",
       "      <th>502</th>\n",
       "      <td>2020-09-01</td>\n",
       "      <td>134.800003</td>\n",
       "      <td>130.529999</td>\n",
       "      <td>132.759995</td>\n",
       "      <td>134.179993</td>\n",
       "      <td>151948100.0</td>\n",
       "      <td>134.179993</td>\n",
       "    </tr>\n",
       "  </tbody>\n",
       "</table>\n",
       "<p>503 rows × 7 columns</p>\n",
       "</div>"
      ],
      "text/plain": [
       "           Date        High         Low        Open       Close       Volume  \\\n",
       "0    2018-09-04   57.294998   56.657501   57.102501   57.090000  109560400.0   \n",
       "1    2018-09-05   57.417500   56.275002   57.247501   56.717499  133332000.0   \n",
       "2    2018-09-06   56.837502   55.325001   56.557499   55.775002  137160000.0   \n",
       "3    2018-09-07   56.342499   55.177502   55.462502   55.325001  150479200.0   \n",
       "4    2018-09-10   55.462502   54.117500   55.237499   54.582500  158066000.0   \n",
       "..          ...         ...         ...         ...         ...          ...   \n",
       "498  2020-08-26  126.992500  125.082497  126.180000  126.522499  163022400.0   \n",
       "499  2020-08-27  127.485001  123.832497  127.142502  125.010002  155552400.0   \n",
       "500  2020-08-28  126.442497  124.577499  126.012497  124.807503  187630000.0   \n",
       "501  2020-08-31  131.000000  126.000000  127.580002  129.039993  225702700.0   \n",
       "502  2020-09-01  134.800003  130.529999  132.759995  134.179993  151948100.0   \n",
       "\n",
       "      Adj Close  \n",
       "0     55.665325  \n",
       "1     55.302128  \n",
       "2     54.383144  \n",
       "3     53.944374  \n",
       "4     53.220398  \n",
       "..          ...  \n",
       "498  126.522499  \n",
       "499  125.010002  \n",
       "500  124.807503  \n",
       "501  129.039993  \n",
       "502  134.179993  \n",
       "\n",
       "[503 rows x 7 columns]"
      ]
     },
     "execution_count": 9,
     "metadata": {},
     "output_type": "execute_result"
    }
   ],
   "source": [
    "APPLE"
   ]
  },
  {
   "cell_type": "code",
   "execution_count": 10,
   "metadata": {},
   "outputs": [],
   "source": [
    "APPLE['Date'] = pd.to_datetime(APPLE['Date'])"
   ]
  },
  {
   "cell_type": "code",
   "execution_count": 11,
   "metadata": {},
   "outputs": [
    {
     "name": "stdout",
     "output_type": "stream",
     "text": [
      "<class 'pandas.core.frame.DataFrame'>\n",
      "RangeIndex: 503 entries, 0 to 502\n",
      "Data columns (total 7 columns):\n",
      " #   Column     Non-Null Count  Dtype         \n",
      "---  ------     --------------  -----         \n",
      " 0   Date       503 non-null    datetime64[ns]\n",
      " 1   High       503 non-null    float64       \n",
      " 2   Low        503 non-null    float64       \n",
      " 3   Open       503 non-null    float64       \n",
      " 4   Close      503 non-null    float64       \n",
      " 5   Volume     503 non-null    float64       \n",
      " 6   Adj Close  503 non-null    float64       \n",
      "dtypes: datetime64[ns](1), float64(6)\n",
      "memory usage: 27.6 KB\n"
     ]
    }
   ],
   "source": [
    "# Checking if there are any null values or not\n",
    "\n",
    "APPLE.info()"
   ]
  },
  {
   "cell_type": "code",
   "execution_count": 12,
   "metadata": {},
   "outputs": [
    {
     "data": {
      "text/html": [
       "<div>\n",
       "<style scoped>\n",
       "    .dataframe tbody tr th:only-of-type {\n",
       "        vertical-align: middle;\n",
       "    }\n",
       "\n",
       "    .dataframe tbody tr th {\n",
       "        vertical-align: top;\n",
       "    }\n",
       "\n",
       "    .dataframe thead th {\n",
       "        text-align: right;\n",
       "    }\n",
       "</style>\n",
       "<table border=\"1\" class=\"dataframe\">\n",
       "  <thead>\n",
       "    <tr style=\"text-align: right;\">\n",
       "      <th></th>\n",
       "      <th>High</th>\n",
       "      <th>Low</th>\n",
       "      <th>Open</th>\n",
       "      <th>Close</th>\n",
       "      <th>Volume</th>\n",
       "      <th>Adj Close</th>\n",
       "    </tr>\n",
       "  </thead>\n",
       "  <tbody>\n",
       "    <tr>\n",
       "      <th>count</th>\n",
       "      <td>503.000000</td>\n",
       "      <td>503.000000</td>\n",
       "      <td>503.000000</td>\n",
       "      <td>503.000000</td>\n",
       "      <td>5.030000e+02</td>\n",
       "      <td>503.000000</td>\n",
       "    </tr>\n",
       "    <tr>\n",
       "      <th>mean</th>\n",
       "      <td>63.027137</td>\n",
       "      <td>61.584170</td>\n",
       "      <td>62.254379</td>\n",
       "      <td>62.366700</td>\n",
       "      <td>1.398888e+08</td>\n",
       "      <td>61.754127</td>\n",
       "    </tr>\n",
       "    <tr>\n",
       "      <th>std</th>\n",
       "      <td>19.364983</td>\n",
       "      <td>18.833704</td>\n",
       "      <td>19.071081</td>\n",
       "      <td>19.175020</td>\n",
       "      <td>6.410072e+07</td>\n",
       "      <td>19.422856</td>\n",
       "    </tr>\n",
       "    <tr>\n",
       "      <th>min</th>\n",
       "      <td>36.430000</td>\n",
       "      <td>35.500000</td>\n",
       "      <td>35.994999</td>\n",
       "      <td>35.547501</td>\n",
       "      <td>4.544800e+07</td>\n",
       "      <td>34.781353</td>\n",
       "    </tr>\n",
       "    <tr>\n",
       "      <th>25%</th>\n",
       "      <td>49.763750</td>\n",
       "      <td>48.482500</td>\n",
       "      <td>49.108749</td>\n",
       "      <td>49.250000</td>\n",
       "      <td>9.650020e+07</td>\n",
       "      <td>48.488377</td>\n",
       "    </tr>\n",
       "    <tr>\n",
       "      <th>50%</th>\n",
       "      <td>56.057499</td>\n",
       "      <td>54.860001</td>\n",
       "      <td>55.537498</td>\n",
       "      <td>55.555000</td>\n",
       "      <td>1.244968e+08</td>\n",
       "      <td>54.563526</td>\n",
       "    </tr>\n",
       "    <tr>\n",
       "      <th>75%</th>\n",
       "      <td>74.610001</td>\n",
       "      <td>71.602501</td>\n",
       "      <td>72.486248</td>\n",
       "      <td>73.196251</td>\n",
       "      <td>1.644680e+08</td>\n",
       "      <td>72.867264</td>\n",
       "    </tr>\n",
       "    <tr>\n",
       "      <th>max</th>\n",
       "      <td>134.800003</td>\n",
       "      <td>130.529999</td>\n",
       "      <td>132.759995</td>\n",
       "      <td>134.179993</td>\n",
       "      <td>4.268848e+08</td>\n",
       "      <td>134.179993</td>\n",
       "    </tr>\n",
       "  </tbody>\n",
       "</table>\n",
       "</div>"
      ],
      "text/plain": [
       "             High         Low        Open       Close        Volume  \\\n",
       "count  503.000000  503.000000  503.000000  503.000000  5.030000e+02   \n",
       "mean    63.027137   61.584170   62.254379   62.366700  1.398888e+08   \n",
       "std     19.364983   18.833704   19.071081   19.175020  6.410072e+07   \n",
       "min     36.430000   35.500000   35.994999   35.547501  4.544800e+07   \n",
       "25%     49.763750   48.482500   49.108749   49.250000  9.650020e+07   \n",
       "50%     56.057499   54.860001   55.537498   55.555000  1.244968e+08   \n",
       "75%     74.610001   71.602501   72.486248   73.196251  1.644680e+08   \n",
       "max    134.800003  130.529999  132.759995  134.179993  4.268848e+08   \n",
       "\n",
       "        Adj Close  \n",
       "count  503.000000  \n",
       "mean    61.754127  \n",
       "std     19.422856  \n",
       "min     34.781353  \n",
       "25%     48.488377  \n",
       "50%     54.563526  \n",
       "75%     72.867264  \n",
       "max    134.179993  "
      ]
     },
     "execution_count": 12,
     "metadata": {},
     "output_type": "execute_result"
    }
   ],
   "source": [
    "APPLE.describe()"
   ]
  },
  {
   "cell_type": "markdown",
   "metadata": {},
   "source": [
    "## Data Visualization"
   ]
  },
  {
   "cell_type": "code",
   "execution_count": 13,
   "metadata": {},
   "outputs": [
    {
     "data": {
      "image/png": "[encoded data removed]",
      "text/plain": [
       "<Figure size 720x360 with 1 Axes>"
      ]
     },
     "metadata": {},
     "output_type": "display_data"
    }
   ],
   "source": [
    "# Plotting Adjusted Closing price for Apple's Stock\n",
    "\n",
    "APPLE['Adj Close'].plot(legend=True,figsize=(10,5))\n",
    "plt.show()"
   ]
  },
  {
   "cell_type": "code",
   "execution_count": 14,
   "metadata": {},
   "outputs": [
    {
     "data": {
      "image/png": "[encoded data removed]",
      "text/plain": [
       "<Figure size 864x288 with 1 Axes>"
      ]
     },
     "metadata": {},
     "output_type": "display_data"
    }
   ],
   "source": [
    "# Plotting Volume for Tesla Motors Stock\n",
    "\n",
    "APPLE['Volume'].plot(legend=True,figsize=(12,4))\n",
    "plt.show()"
   ]
  },
  {
   "cell_type": "code",
   "execution_count": 15,
   "metadata": {},
   "outputs": [
    {
     "data": {
      "image/png": "[encoded data removed]",
      "text/plain": [
       "<Figure size 864x288 with 1 Axes>"
      ]
     },
     "metadata": {},
     "output_type": "display_data"
    }
   ],
   "source": [
    "# Plotting Closing price for Tesla Motors Stock\n",
    "\n",
    "APPLE['Close'].plot(legend=True,figsize=(12,4))\n",
    "plt.show()"
   ]
  },
  {
   "cell_type": "code",
   "execution_count": 16,
   "metadata": {},
   "outputs": [
    {
     "data": {
      "image/png": "[encoded data removed]",
      "text/plain": [
       "<Figure size 720x288 with 1 Axes>"
      ]
     },
     "metadata": {},
     "output_type": "display_data"
    }
   ],
   "source": [
    "APPLE[['Open','High','Low','Close','Adj Close']].plot(kind = 'area',figsize = (10,4))\n",
    "plt.show()"
   ]
  },
  {
   "cell_type": "code",
   "execution_count": 17,
   "metadata": {},
   "outputs": [
    {
     "data": {
      "image/png": "[encoded data removed]",
      "text/plain": [
       "<Figure size 720x504 with 1 Axes>"
      ]
     },
     "metadata": {},
     "output_type": "display_data"
    }
   ],
   "source": [
    "APPLE[['Open','High','Low','Close','Adj Close']].plot(kind = 'box',figsize = (10,7))\n",
    "plt.show()"
   ]
  },
  {
   "cell_type": "code",
   "execution_count": 18,
   "metadata": {},
   "outputs": [],
   "source": [
    "# setting layout\n",
    "layout = go.Layout(title = \"Apple's Stock Prices\", xaxis = dict(title = 'Date'), yaxis = dict(title = 'Price'))"
   ]
  },
  {
   "cell_type": "markdown",
   "metadata": {},
   "source": [
    " ### Apple's Stock Prices"
   ]
  },
  {
   "cell_type": "code",
   "execution_count": 19,
   "metadata": {},
   "outputs": [
    {
     "data": {
      "application/vnd.plotly.v1+json": {
       "config": {
        "linkText": "Export to plot.ly",
        "plotlyServerURL": "https://plot.ly",
        "showLink": false
       },
       "data": [
        {
         "type": "scatter",
         "x": [
          "2018-09-04T00:00:00",
          "2018-09-05T00:00:00",
          "2018-09-06T00:00:00",
          "2018-09-07T00:00:00",
          "2018-09-10T00:00:00",
          "2018-09-11T00:00:00",
          "2018-09-12T00:00:00",
          "2018-09-13T00:00:00",
          "2018-09-14T00:00:00",
          "2018-09-17T00:00:00",
          "2018-09-18T00:00:00",
          "2018-09-19T00:00:00",
          "2018-09-20T00:00:00",
          "2018-09-21T00:00:00",
          "2018-09-24T00:00:00",
          "2018-09-25T00:00:00",
          "2018-09-26T00:00:00",
          "2018-09-27T00:00:00",
          "2018-09-28T00:00:00",
          "2018-10-01T00:00:00",
          "2018-10-02T00:00:00",
          "2018-10-03T00:00:00",
          "2018-10-04T00:00:00",
          "2018-10-05T00:00:00",
          "2018-10-08T00:00:00",
          "2018-10-09T00:00:00",
          "2018-10-10T00:00:00",
          "2018-10-11T00:00:00",
          "2018-10-12T00:00:00",
          "2018-10-15T00:00:00",
          "2018-10-16T00:00:00",
          "2018-10-17T00:00:00",
          "2018-10-18T00:00:00",
          "2018-10-19T00:00:00",
          "2018-10-22T00:00:00",
          "2018-10-23T00:00:00",
          "2018-10-24T00:00:00",
          "2018-10-25T00:00:00",
          "2018-10-26T00:00:00",
          "2018-10-29T00:00:00",
          "2018-10-30T00:00:00",
          "2018-10-31T00:00:00",
          "2018-11-01T00:00:00",
          "2018-11-02T00:00:00",
          "2018-11-05T00:00:00",
          "2018-11-06T00:00:00",
          "2018-11-07T00:00:00",
          "2018-11-08T00:00:00",
          "2018-11-09T00:00:00",
          "2018-11-12T00:00:00",
          "2018-11-13T00:00:00",
          "2018-11-14T00:00:00",
          "2018-11-15T00:00:00",
          "2018-11-16T00:00:00",
          "2018-11-19T00:00:00",
          "2018-11-20T00:00:00",
          "2018-11-21T00:00:00",
          "2018-11-23T00:00:00",
          "2018-11-26T00:00:00",
          "2018-11-27T00:00:00",
          "2018-11-28T00:00:00",
          "2018-11-29T00:00:00",
          "2018-11-30T00:00:00",
          "2018-12-03T00:00:00",
          "2018-12-04T00:00:00",
          "2018-12-06T00:00:00",
          "2018-12-07T00:00:00",
          "2018-12-10T00:00:00",
          "2018-12-11T00:00:00",
          "2018-12-12T00:00:00",
          "2018-12-13T00:00:00",
          "2018-12-14T00:00:00",
          "2018-12-17T00:00:00",
          "2018-12-18T00:00:00",
          "2018-12-19T00:00:00",
          "2018-12-20T00:00:00",
          "2018-12-21T00:00:00",
          "2018-12-24T00:00:00",
          "2018-12-26T00:00:00",
          "2018-12-27T00:00:00",
          "2018-12-28T00:00:00",
          "2018-12-31T00:00:00",
          "2019-01-02T00:00:00",
          "2019-01-03T00:00:00",
          "2019-01-04T00:00:00",
          "2019-01-07T00:00:00",
          "2019-01-08T00:00:00",
          "2019-01-09T00:00:00",
          "2019-01-10T00:00:00",
          "2019-01-11T00:00:00",
          "2019-01-14T00:00:00",
          "2019-01-15T00:00:00",
          "2019-01-16T00:00:00",
          "2019-01-17T00:00:00",
          "2019-01-18T00:00:00",
          "2019-01-22T00:00:00",
          "2019-01-23T00:00:00",
          "2019-01-24T00:00:00",
          "2019-01-25T00:00:00",
          "2019-01-28T00:00:00",
          "2019-01-29T00:00:00",
          "2019-01-30T00:00:00",
          "2019-01-31T00:00:00",
          "2019-02-01T00:00:00",
          "2019-02-04T00:00:00",
          "2019-02-05T00:00:00",
          "2019-02-06T00:00:00",
          "2019-02-07T00:00:00",
          "2019-02-08T00:00:00",
          "2019-02-11T00:00:00",
          "2019-02-12T00:00:00",
          "2019-02-13T00:00:00",
          "2019-02-14T00:00:00",
          "2019-02-15T00:00:00",
          "2019-02-19T00:00:00",
          "2019-02-20T00:00:00",
          "2019-02-21T00:00:00",
          "2019-02-22T00:00:00",
          "2019-02-25T00:00:00",
          "2019-02-26T00:00:00",
          "2019-02-27T00:00:00",
          "2019-02-28T00:00:00",
          "2019-03-01T00:00:00",
          "2019-03-04T00:00:00",
          "2019-03-05T00:00:00",
          "2019-03-06T00:00:00",
          "2019-03-07T00:00:00",
          "2019-03-08T00:00:00",
          "2019-03-11T00:00:00",
          "2019-03-12T00:00:00",
          "2019-03-13T00:00:00",
          "2019-03-14T00:00:00",
          "2019-03-15T00:00:00",
          "2019-03-18T00:00:00",
          "2019-03-19T00:00:00",
          "2019-03-20T00:00:00",
          "2019-03-21T00:00:00",
          "2019-03-22T00:00:00",
          "2019-03-25T00:00:00",
          "2019-03-26T00:00:00",
          "2019-03-27T00:00:00",
          "2019-03-28T00:00:00",
          "2019-03-29T00:00:00",
          "2019-04-01T00:00:00",
          "2019-04-02T00:00:00",
          "2019-04-03T00:00:00",
          "2019-04-04T00:00:00",
          "2019-04-05T00:00:00",
          "2019-04-08T00:00:00",
          "2019-04-09T00:00:00",
          "2019-04-10T00:00:00",
          "2019-04-11T00:00:00",
          "2019-04-12T00:00:00",
          "2019-04-15T00:00:00",
          "2019-04-16T00:00:00",
          "2019-04-17T00:00:00",
          "2019-04-18T00:00:00",
          "2019-04-22T00:00:00",
          "2019-04-23T00:00:00",
          "2019-04-24T00:00:00",
          "2019-04-25T00:00:00",
          "2019-04-26T00:00:00",
          "2019-04-29T00:00:00",
          "2019-04-30T00:00:00",
          "2019-05-01T00:00:00",
          "2019-05-02T00:00:00",
          "2019-05-03T00:00:00",
          "2019-05-06T00:00:00",
          "2019-05-07T00:00:00",
          "2019-05-08T00:00:00",
          "2019-05-09T00:00:00",
          "2019-05-10T00:00:00",
          "2019-05-13T00:00:00",
          "2019-05-14T00:00:00",
          "2019-05-15T00:00:00",
          "2019-05-16T00:00:00",
          "2019-05-17T00:00:00",
          "2019-05-20T00:00:00",
          "2019-05-21T00:00:00",
          "2019-05-22T00:00:00",
          "2019-05-23T00:00:00",
          "2019-05-24T00:00:00",
          "2019-05-28T00:00:00",
          "2019-05-29T00:00:00",
          "2019-05-30T00:00:00",
          "2019-05-31T00:00:00",
          "2019-06-03T00:00:00",
          "2019-06-04T00:00:00",
          "2019-06-05T00:00:00",
          "2019-06-06T00:00:00",
          "2019-06-07T00:00:00",
          "2019-06-10T00:00:00",
          "2019-06-11T00:00:00",
          "2019-06-12T00:00:00",
          "2019-06-13T00:00:00",
          "2019-06-14T00:00:00",
          "2019-06-17T00:00:00",
          "2019-06-18T00:00:00",
          "2019-06-19T00:00:00",
          "2019-06-20T00:00:00",
          "2019-06-21T00:00:00",
          "2019-06-24T00:00:00",
          "2019-06-25T00:00:00",
          "2019-06-26T00:00:00",
          "2019-06-27T00:00:00",
          "2019-06-28T00:00:00",
          "2019-07-01T00:00:00",
          "2019-07-02T00:00:00",
          "2019-07-03T00:00:00",
          "2019-07-05T00:00:00",
          "2019-07-08T00:00:00",
          "2019-07-09T00:00:00",
          "2019-07-10T00:00:00",
          "2019-07-11T00:00:00",
          "2019-07-12T00:00:00",
          "2019-07-15T00:00:00",
          "2019-07-16T00:00:00",
          "2019-07-17T00:00:00",
          "2019-07-18T00:00:00",
          "2019-07-19T00:00:00",
          "2019-07-22T00:00:00",
          "2019-07-23T00:00:00",
          "2019-07-24T00:00:00",
          "2019-07-25T00:00:00",
          "2019-07-26T00:00:00",
          "2019-07-29T00:00:00",
          "2019-07-30T00:00:00",
          "2019-07-31T00:00:00",
          "2019-08-01T00:00:00",
          "2019-08-02T00:00:00",
          "2019-08-05T00:00:00",
          "2019-08-06T00:00:00",
          "2019-08-07T00:00:00",
          "2019-08-08T00:00:00",
          "2019-08-09T00:00:00",
          "2019-08-12T00:00:00",
          "2019-08-13T00:00:00",
          "2019-08-14T00:00:00",
          "2019-08-15T00:00:00",
          "2019-08-16T00:00:00",
          "2019-08-19T00:00:00",
          "2019-08-20T00:00:00",
          "2019-08-21T00:00:00",
          "2019-08-22T00:00:00",
          "2019-08-23T00:00:00",
          "2019-08-26T00:00:00",
          "2019-08-27T00:00:00",
          "2019-08-28T00:00:00",
          "2019-08-29T00:00:00",
          "2019-08-30T00:00:00",
          "2019-09-03T00:00:00",
          "2019-09-04T00:00:00",
          "2019-09-05T00:00:00",
          "2019-09-06T00:00:00",
          "2019-09-09T00:00:00",
          "2019-09-10T00:00:00",
          "2019-09-11T00:00:00",
          "2019-09-12T00:00:00",
          "2019-09-13T00:00:00",
          "2019-09-16T00:00:00",
          "2019-09-17T00:00:00",
          "2019-09-18T00:00:00",
          "2019-09-19T00:00:00",
          "2019-09-20T00:00:00",
          "2019-09-23T00:00:00",
          "2019-09-24T00:00:00",
          "2019-09-25T00:00:00",
          "2019-09-26T00:00:00",
          "2019-09-27T00:00:00",
          "2019-09-30T00:00:00",
          "2019-10-01T00:00:00",
          "2019-10-02T00:00:00",
          "2019-10-03T00:00:00",
          "2019-10-04T00:00:00",
          "2019-10-07T00:00:00",
          "2019-10-08T00:00:00",
          "2019-10-09T00:00:00",
          "2019-10-10T00:00:00",
          "2019-10-11T00:00:00",
          "2019-10-14T00:00:00",
          "2019-10-15T00:00:00",
          "2019-10-16T00:00:00",
          "2019-10-17T00:00:00",
          "2019-10-18T00:00:00",
          "2019-10-21T00:00:00",
          "2019-10-22T00:00:00",
          "2019-10-23T00:00:00",
          "2019-10-24T00:00:00",
          "2019-10-25T00:00:00",
          "2019-10-28T00:00:00",
          "2019-10-29T00:00:00",
          "2019-10-30T00:00:00",
          "2019-10-31T00:00:00",
          "2019-11-01T00:00:00",
          "2019-11-04T00:00:00",
          "2019-11-05T00:00:00",
          "2019-11-06T00:00:00",
          "2019-11-07T00:00:00",
          "2019-11-08T00:00:00",
          "2019-11-11T00:00:00",
          "2019-11-12T00:00:00",
          "2019-11-13T00:00:00",
          "2019-11-14T00:00:00",
          "2019-11-15T00:00:00",
          "2019-11-18T00:00:00",
          "2019-11-19T00:00:00",
          "2019-11-20T00:00:00",
          "2019-11-21T00:00:00",
          "2019-11-22T00:00:00",
          "2019-11-25T00:00:00",
          "2019-11-26T00:00:00",
          "2019-11-27T00:00:00",
          "2019-11-29T00:00:00",
          "2019-12-02T00:00:00",
          "2019-12-03T00:00:00",
          "2019-12-04T00:00:00",
          "2019-12-05T00:00:00",
          "2019-12-06T00:00:00",
          "2019-12-09T00:00:00",
          "2019-12-10T00:00:00",
          "2019-12-11T00:00:00",
          "2019-12-12T00:00:00",
          "2019-12-13T00:00:00",
          "2019-12-16T00:00:00",
          "2019-12-17T00:00:00",
          "2019-12-18T00:00:00",
          "2019-12-19T00:00:00",
          "2019-12-20T00:00:00",
          "2019-12-23T00:00:00",
          "2019-12-24T00:00:00",
          "2019-12-26T00:00:00",
          "2019-12-27T00:00:00",
          "2019-12-30T00:00:00",
          "2019-12-31T00:00:00",
          "2020-01-02T00:00:00",
          "2020-01-03T00:00:00",
          "2020-01-06T00:00:00",
          "2020-01-07T00:00:00",
          "2020-01-08T00:00:00",
          "2020-01-09T00:00:00",
          "2020-01-10T00:00:00",
          "2020-01-13T00:00:00",
          "2020-01-14T00:00:00",
          "2020-01-15T00:00:00",
          "2020-01-16T00:00:00",
          "2020-01-17T00:00:00",
          "2020-01-21T00:00:00",
          "2020-01-22T00:00:00",
          "2020-01-23T00:00:00",
          "2020-01-24T00:00:00",
          "2020-01-27T00:00:00",
          "2020-01-28T00:00:00",
          "2020-01-29T00:00:00",
          "2020-01-30T00:00:00",
          "2020-01-31T00:00:00",
          "2020-02-03T00:00:00",
          "2020-02-04T00:00:00",
          "2020-02-05T00:00:00",
          "2020-02-06T00:00:00",
          "2020-02-07T00:00:00",
          "2020-02-10T00:00:00",
          "2020-02-11T00:00:00",
          "2020-02-12T00:00:00",
          "2020-02-13T00:00:00",
          "2020-02-14T00:00:00",
          "2020-02-18T00:00:00",
          "2020-02-19T00:00:00",
          "2020-02-20T00:00:00",
          "2020-02-21T00:00:00",
          "2020-02-24T00:00:00",
          "2020-02-25T00:00:00",
          "2020-02-26T00:00:00",
          "2020-02-27T00:00:00",
          "2020-02-28T00:00:00",
          "2020-03-02T00:00:00",
          "2020-03-03T00:00:00",
          "2020-03-04T00:00:00",
          "2020-03-05T00:00:00",
          "2020-03-06T00:00:00",
          "2020-03-09T00:00:00",
          "2020-03-10T00:00:00",
          "2020-03-11T00:00:00",
          "2020-03-12T00:00:00",
          "2020-03-13T00:00:00",
          "2020-03-16T00:00:00",
          "2020-03-17T00:00:00",
          "2020-03-18T00:00:00",
          "2020-03-19T00:00:00",
          "2020-03-20T00:00:00",
          "2020-03-23T00:00:00",
          "2020-03-24T00:00:00",
          "2020-03-25T00:00:00",
          "2020-03-26T00:00:00",
          "2020-03-27T00:00:00",
          "2020-03-30T00:00:00",
          "2020-03-31T00:00:00",
          "2020-04-01T00:00:00",
          "2020-04-02T00:00:00",
          "2020-04-03T00:00:00",
          "2020-04-06T00:00:00",
          "2020-04-07T00:00:00",
          "2020-04-08T00:00:00",
          "2020-04-09T00:00:00",
          "2020-04-13T00:00:00",
          "2020-04-14T00:00:00",
          "2020-04-15T00:00:00",
          "2020-04-16T00:00:00",
          "2020-04-17T00:00:00",
          "2020-04-20T00:00:00",
          "2020-04-21T00:00:00",
          "2020-04-22T00:00:00",
          "2020-04-23T00:00:00",
          "2020-04-24T00:00:00",
          "2020-04-27T00:00:00",
          "2020-04-28T00:00:00",
          "2020-04-29T00:00:00",
          "2020-04-30T00:00:00",
          "2020-05-01T00:00:00",
          "2020-05-04T00:00:00",
          "2020-05-05T00:00:00",
          "2020-05-06T00:00:00",
          "2020-05-07T00:00:00",
          "2020-05-08T00:00:00",
          "2020-05-11T00:00:00",
          "2020-05-12T00:00:00",
          "2020-05-13T00:00:00",
          "2020-05-14T00:00:00",
          "2020-05-15T00:00:00",
          "2020-05-18T00:00:00",
          "2020-05-19T00:00:00",
          "2020-05-20T00:00:00",
          "2020-05-21T00:00:00",
          "2020-05-22T00:00:00",
          "2020-05-26T00:00:00",
          "2020-05-27T00:00:00",
          "2020-05-28T00:00:00",
          "2020-05-29T00:00:00",
          "2020-06-01T00:00:00",
          "2020-06-02T00:00:00",
          "2020-06-03T00:00:00",
          "2020-06-04T00:00:00",
          "2020-06-05T00:00:00",
          "2020-06-08T00:00:00",
          "2020-06-09T00:00:00",
          "2020-06-10T00:00:00",
          "2020-06-11T00:00:00",
          "2020-06-12T00:00:00",
          "2020-06-15T00:00:00",
          "2020-06-16T00:00:00",
          "2020-06-17T00:00:00",
          "2020-06-18T00:00:00",
          "2020-06-19T00:00:00",
          "2020-06-22T00:00:00",
          "2020-06-23T00:00:00",
          "2020-06-24T00:00:00",
          "2020-06-25T00:00:00",
          "2020-06-26T00:00:00",
          "2020-06-29T00:00:00",
          "2020-06-30T00:00:00",
          "2020-07-01T00:00:00",
          "2020-07-02T00:00:00",
          "2020-07-06T00:00:00",
          "2020-07-07T00:00:00",
          "2020-07-08T00:00:00",
          "2020-07-09T00:00:00",
          "2020-07-10T00:00:00",
          "2020-07-13T00:00:00",
          "2020-07-14T00:00:00",
          "2020-07-15T00:00:00",
          "2020-07-16T00:00:00",
          "2020-07-17T00:00:00",
          "2020-07-20T00:00:00",
          "2020-07-21T00:00:00",
          "2020-07-22T00:00:00",
          "2020-07-23T00:00:00",
          "2020-07-24T00:00:00",
          "2020-07-27T00:00:00",
          "2020-07-28T00:00:00",
          "2020-07-29T00:00:00",
          "2020-07-30T00:00:00",
          "2020-07-31T00:00:00",
          "2020-08-03T00:00:00",
          "2020-08-04T00:00:00",
          "2020-08-05T00:00:00",
          "2020-08-06T00:00:00",
          "2020-08-07T00:00:00",
          "2020-08-10T00:00:00",
          "2020-08-11T00:00:00",
          "2020-08-12T00:00:00",
          "2020-08-13T00:00:00",
          "2020-08-14T00:00:00",
          "2020-08-17T00:00:00",
          "2020-08-18T00:00:00",
          "2020-08-19T00:00:00",
          "2020-08-20T00:00:00",
          "2020-08-21T00:00:00",
          "2020-08-24T00:00:00",
          "2020-08-25T00:00:00",
          "2020-08-26T00:00:00",
          "2020-08-27T00:00:00",
          "2020-08-28T00:00:00",
          "2020-08-31T00:00:00",
          "2020-09-01T00:00:00"
         ],
         "y": [
          55.66532516479492,
          55.30212783813477,
          54.38314437866211,
          53.944374084472656,
          53.22039794921875,
          54.56597137451172,
          53.88830947875977,
          55.18999099731445,
          54.56352615356445,
          53.11071014404297,
          53.198463439941406,
          53.23014450073242,
          53.63479995727539,
          53.05708312988281,
          53.82005310058594,
          54.16131973266602,
          53.7298583984375,
          54.83409881591797,
          55.02667236328125,
          55.39718627929688,
          55.88958740234375,
          56.569679260253906,
          55.57513427734375,
          54.67321395874024,
          54.546470642089844,
          55.30212783813477,
          52.74018478393555,
          52.27460861206055,
          54.14181900024414,
          52.98394775390625,
          54.15156555175781,
          53.91756057739258,
          52.65730667114258,
          53.45928192138672,
          53.78592300415039,
          54.29294967651367,
          52.43061447143555,
          53.57873153686523,
          52.72556686401367,
          51.73589324951172,
          51.99428176879883,
          53.34959411621094,
          54.16862869262695,
          50.57558822631836,
          49.13983154296875,
          49.67123794555664,
          51.17767715454102,
          50.99911117553711,
          50.0157699584961,
          47.49626922607422,
          47.02172470092773,
          45.69348526000977,
          46.821144104003906,
          47.3397216796875,
          45.46355056762695,
          43.29139709472656,
          43.24247360229492,
          42.1441650390625,
          42.714111328125,
          42.62116241455078,
          44.26006317138672,
          43.9200439453125,
          43.682777404785156,
          45.20915222167969,
          43.220458984375,
          42.73857498168945,
          41.21464538574219,
          41.48616409301758,
          41.2488899230957,
          41.363853454589844,
          41.81638717651367,
          40.47835922241211,
          40.101661682128906,
          40.62268829345703,
          39.3555908203125,
          38.362464904785156,
          36.87033462524414,
          35.91635513305664,
          38.44563674926758,
          38.19613265991211,
          38.21570205688477,
          38.58506774902344,
          38.62909698486328,
          34.78135299682617,
          36.26614379882813,
          36.18542861938477,
          36.87522888183594,
          37.50143432617188,
          37.62129974365234,
          37.251930236816406,
          36.6917724609375,
          37.44273376464844,
          37.9001579284668,
          38.12519454956055,
          38.360023498535156,
          37.49898910522461,
          37.65065002441406,
          37.35221862792969,
          38.58996200561523,
          38.232826232910156,
          37.83655166625977,
          40.42210388183594,
          40.71318435668945,
          40.732757568359375,
          41.8897705078125,
          42.606483459472656,
          42.62116241455078,
          41.813941955566406,
          41.86307907104492,
          41.62232208251953,
          41.98099136352539,
          41.80656814575195,
          41.958885192871094,
          41.86553192138672,
          41.990814208984375,
          42.261043548583984,
          42.02275466918945,
          42.49196243286133,
          42.80149459838867,
          42.8260612487793,
          42.95872116088867,
          42.53618240356445,
          42.98328018188477,
          43.19947052001953,
          43.120853424072266,
          42.87274169921875,
          42.37650680541992,
          42.47722625732422,
          43.94873046875,
          44.44251251220703,
          44.6390380859375,
          45.13527297973633,
          45.7224006652832,
          46.18916320800781,
          45.82312774658203,
          46.22355651855469,
          47.92597961425781,
          46.93351364135742,
          46.36603164672852,
          45.88699722290039,
          46.29970932006836,
          46.361122131347656,
          46.66328811645508,
          46.98019409179688,
          47.66312789916992,
          47.98986053466797,
          48.0733757019043,
          48.39519119262695,
          49.15674209594727,
          49.00934600830078,
          49.28448486328125,
          48.87423324584961,
          48.85457992553711,
          48.9430160522461,
          48.94793319702149,
          49.90109634399414,
          50.0804328918457,
          50.24502563476562,
          50.96971893310547,
          50.89110946655274,
          50.42927169799805,
          50.18852233886719,
          50.26467895507813,
          49.29677200317383,
          51.71653366088867,
          51.37997436523438,
          52.01869583129883,
          51.21538543701172,
          49.83477401733398,
          49.8445930480957,
          49.30905151367188,
          48.625953674316406,
          45.799842834472656,
          46.524864196777344,
          47.08219528198242,
          46.87504959106445,
          46.60871505737305,
          45.15126419067383,
          46.0168571472168,
          45.07481384277344,
          44.30540084838867,
          44.13524627685547,
          43.95275497436523,
          43.74313735961914,
          43.97002029418945,
          43.17347717285156,
          42.736976623535156,
          44.30046844482422,
          45.015621185302734,
          45.676536560058594,
          46.89230346679688,
          47.49156188964844,
          48.0414924621582,
          47.88860321044922,
          47.87873077392578,
          47.53102111816406,
          47.81462097167969,
          48.93914413452149,
          48.79611587524414,
          49.18821716308594,
          49.02052307128906,
          48.9712028503418,
          48.228919982910156,
          49.27206802368164,
          49.25727081298828,
          48.80844116210938,
          49.70363235473633,
          49.99462127685547,
          50.40892028808594,
          50.36452865600586,
          49.3263168334961,
          49.62718200683594,
          50.11792755126953,
          49.75294876098633,
          50.13519287109375,
          50.60620880126953,
          50.43111801147461,
          50.14751815795898,
          50.71718215942383,
          49.9600944519043,
          51.10189056396485,
          51.50138854980469,
          51.45947265625,
          51.05257034301758,
          51.2301254272461,
          51.70853805541992,
          51.48659133911133,
          52.53713989257813,
          51.4002799987793,
          50.31274795532226,
          47.67898178100586,
          48.58156204223633,
          49.08464050292969,
          50.1672477722168,
          49.75384902954102,
          49.627601623535156,
          51.72925186157226,
          50.18952560424805,
          49.93950653076172,
          51.11781311035156,
          52.07086181640625,
          52.07333755493164,
          52.63773727416992,
          52.59318161010742,
          50.16230010986328,
          51.11533737182617,
          50.5385627746582,
          50.87770080566406,
          51.73915100097656,
          51.67231369018555,
          50.919776916503906,
          51.7837142944336,
          52.79616165161133,
          52.79121017456055,
          53.0164794921875,
          53.64276123046875,
          55.34834289550781,
          55.22456741333008,
          54.15023040771485,
          54.43490219116211,
          54.63294219970703,
          55.14535903930664,
          54.697303771972656,
          53.897727966308594,
          54.14280319213867,
          53.8853530883789,
          54.71462631225586,
          54.43243026733398,
          54.16756057739258,
          55.4424057006836,
          55.59588623046875,
          54.20221328735352,
          54.66264343261719,
          56.19494247436523,
          56.20731735229492,
          55.5488510131836,
          56.19989395141602,
          56.957374572753906,
          58.47234344482422,
          58.38817977905274,
          58.25203323364258,
          58.01686096191406,
          58.24213027954102,
          58.52185821533203,
          59.536781311035156,
          59.400634765625,
          60.19772720336914,
          60.2967414855957,
          61.03937530517578,
          61.65081024169922,
          60.224952697753906,
          60.21752548217773,
          61.57902145385742,
          63.3266830444336,
          63.7425537109375,
          63.65097045898438,
          63.67819213867188,
          64.41311645507811,
          64.58940887451172,
          65.10087585449219,
          65.04128265380861,
          65.66448974609375,
          65.21012115478516,
          65.98477935791016,
          66.31748962402344,
          66.11637115478516,
          65.34668731689453,
          65.05370330810547,
          64.99659729003906,
          66.13623046875,
          65.61978912353516,
          66.50121307373047,
          66.35472869873047,
          65.58751678466797,
          64.4180908203125,
          64.98666381835939,
          65.94008636474611,
          67.21379852294922,
          66.27278900146484,
          66.66012573242189,
          67.22869873046875,
          67.40001678466797,
          68.31619262695311,
          69.48561859130861,
          69.6221923828125,
          69.45583343505861,
          69.52535247802734,
          69.38134765625,
          70.51353454589844,
          70.58056640625,
          71.98091125488281,
          71.95359802246094,
          72.38065338134766,
          72.90950012207031,
          74.57303619384766,
          73.84803009033203,
          74.43647003173828,
          74.08639526367188,
          75.27816009521484,
          76.87713623046875,
          77.0509262084961,
          78.69707489013672,
          77.63440704345703,
          77.30170440673828,
          78.27001953125,
          79.13655090332031,
          78.60025024414062,
          78.88082122802734,
          79.26069641113281,
          79.03226470947266,
          76.70829772949219,
          78.87832641601562,
          80.52943420410156,
          80.4127426147461,
          76.84734344482422,
          76.63629913330078,
          79.16633605957031,
          79.81189727783203,
          80.74544525146484,
          79.64789581298828,
          80.02619171142578,
          79.54336547851562,
          81.4323501586914,
          80.85246276855469,
          80.87237548828125,
          79.39155578613281,
          80.54136657714844,
          79.715087890625,
          77.9107437133789,
          74.20994567871094,
          71.69629669189453,
          72.83366394042969,
          68.07266235351561,
          68.0328369140625,
          74.36673736572266,
          72.00491333007812,
          75.3448257446289,
          72.90086364746094,
          71.9327392578125,
          66.24342346191406,
          71.0143814086914,
          68.54801177978516,
          61.77857971191406,
          69.18016052246094,
          60.28034591674805,
          62.93087768554688,
          61.39033126831055,
          60.91995239257813,
          57.05241775512695,
          55.84038543701172,
          61.44259643554688,
          61.10412216186523,
          64.31961059570311,
          61.6566276550293,
          63.41618347167969,
          63.28676986694336,
          59.95680618286133,
          60.9572868347168,
          60.08124160766602,
          65.32257843017578,
          64.56599426269531,
          66.21853637695311,
          66.69637298583984,
          68.00547027587889,
          71.43995666503906,
          70.78790283203125,
          71.3503646850586,
          70.38223266601562,
          68.92132568359375,
          66.79094696044922,
          68.71475982666016,
          68.44846343994139,
          70.42454528808594,
          70.47431945800781,
          69.33197021484375,
          71.60919952392578,
          73.119873046875,
          71.94268798828125,
          72.9605941772461,
          74.05564880371094,
          74.81969451904297,
          75.59369659423828,
          77.39295959472656,
          78.61076354980469,
          77.71238708496094,
          76.7740707397461,
          77.2457275390625,
          76.78904724121094,
          78.59828186035156,
          78.14411163330078,
          79.66387176513672,
          79.06993865966797,
          79.57902526855469,
          79.03999328613281,
          79.38436889648438,
          79.41930389404297,
          79.34194946289062,
          80.31768798828125,
          80.68951416015625,
          81.13371276855469,
          80.43497467041016,
          82.72584533691406,
          83.21495819091797,
          85.84272003173828,
          88.05123901367188,
          83.82386016845703,
          84.54755401611328,
          85.59317016601562,
          87.86157989501953,
          87.73930358886719,
          87.77424621582031,
          87.27264404296875,
          89.5560302734375,
          91.46758270263672,
          89.85299682617188,
          91.04584503173828,
          88.2483901977539,
          90.28221893310548,
          91.03585815429688,
          90.8636703491211,
          90.8636703491211,
          93.2942886352539,
          93.00481414794922,
          95.17090606689452,
          95.58016967773438,
          95.74736785888672,
          95.3056640625,
          96.88282012939452,
          97.5491180419922,
          96.3487777709961,
          96.15412902832031,
          98.18048095703124,
          96.82542419433594,
          97.0974349975586,
          92.67790222167969,
          92.44831085205078,
          94.6393585205078,
          93.0846710205078,
          94.86894989013672,
          96.01688385009766,
          106.06875610351562,
          108.74143981933594,
          109.4676284790039,
          109.86441040039062,
          113.69750213623048,
          111.1125030517578,
          112.72750091552734,
          109.375,
          113.01000213623048,
          115.01000213623048,
          114.90750122070312,
          114.60749816894531,
          115.5625,
          115.7074966430664,
          118.2750015258789,
          124.37000274658205,
          125.85749816894531,
          124.8249969482422,
          126.52249908447266,
          125.01000213623048,
          124.80750274658205,
          129.03999328613278,
          134.17999267578122
         ]
        }
       ],
       "layout": {
        "template": {
         "data": {
          "bar": [
           {
            "error_x": {
             "color": "#2a3f5f"
            },
            "error_y": {
             "color": "#2a3f5f"
            },
            "marker": {
             "line": {
              "color": "#E5ECF6",
              "width": 0.5
             }
            },
            "type": "bar"
           }
          ],
          "barpolar": [
           {
            "marker": {
             "line": {
              "color": "#E5ECF6",
              "width": 0.5
             }
            },
            "type": "barpolar"
           }
          ],
          "carpet": [
           {
            "aaxis": {
             "endlinecolor": "#2a3f5f",
             "gridcolor": "white",
             "linecolor": "white",
             "minorgridcolor": "white",
             "startlinecolor": "#2a3f5f"
            },
            "baxis": {
             "endlinecolor": "#2a3f5f",
             "gridcolor": "white",
             "linecolor": "white",
             "minorgridcolor": "white",
             "startlinecolor": "#2a3f5f"
            },
            "type": "carpet"
           }
          ],
          "choropleth": [
           {
            "colorbar": {
             "outlinewidth": 0,
             "ticks": ""
            },
            "type": "choropleth"
           }
          ],
          "contour": [
           {
            "colorbar": {
             "outlinewidth": 0,
             "ticks": ""
            },
            "colorscale": [
             [
              0,
              "#0d0887"
             ],
             [
              0.1111111111111111,
              "#46039f"
             ],
             [
              0.2222222222222222,
              "#7201a8"
             ],
             [
              0.3333333333333333,
              "#9c179e"
             ],
             [
              0.4444444444444444,
              "#bd3786"
             ],
             [
              0.5555555555555556,
              "#d8576b"
             ],
             [
              0.6666666666666666,
              "#ed7953"
             ],
             [
              0.7777777777777778,
              "#fb9f3a"
             ],
             [
              0.8888888888888888,
              "#fdca26"
             ],
             [
              1,
              "#f0f921"
             ]
            ],
            "type": "contour"
           }
          ],
          "contourcarpet": [
           {
            "colorbar": {
             "outlinewidth": 0,
             "ticks": ""
            },
            "type": "contourcarpet"
           }
          ],
          "heatmap": [
           {
            "colorbar": {
             "outlinewidth": 0,
             "ticks": ""
            },
            "colorscale": [
             [
              0,
              "#0d0887"
             ],
             [
              0.1111111111111111,
              "#46039f"
             ],
             [
              0.2222222222222222,
              "#7201a8"
             ],
             [
              0.3333333333333333,
              "#9c179e"
             ],
             [
              0.4444444444444444,
              "#bd3786"
             ],
             [
              0.5555555555555556,
              "#d8576b"
             ],
             [
              0.6666666666666666,
              "#ed7953"
             ],
             [
              0.7777777777777778,
              "#fb9f3a"
             ],
             [
              0.8888888888888888,
              "#fdca26"
             ],
             [
              1,
              "#f0f921"
             ]
            ],
            "type": "heatmap"
           }
          ],
          "heatmapgl": [
           {
            "colorbar": {
             "outlinewidth": 0,
             "ticks": ""
            },
            "colorscale": [
             [
              0,
              "#0d0887"
             ],
             [
              0.1111111111111111,
              "#46039f"
             ],
             [
              0.2222222222222222,
              "#7201a8"
             ],
             [
              0.3333333333333333,
              "#9c179e"
             ],
             [
              0.4444444444444444,
              "#bd3786"
             ],
             [
              0.5555555555555556,
              "#d8576b"
             ],
             [
              0.6666666666666666,
              "#ed7953"
             ],
             [
              0.7777777777777778,
              "#fb9f3a"
             ],
             [
              0.8888888888888888,
              "#fdca26"
             ],
             [
              1,
              "#f0f921"
             ]
            ],
            "type": "heatmapgl"
           }
          ],
          "histogram": [
           {
            "marker": {
             "colorbar": {
              "outlinewidth": 0,
              "ticks": ""
             }
            },
            "type": "histogram"
           }
          ],
          "histogram2d": [
           {
            "colorbar": {
             "outlinewidth": 0,
             "ticks": ""
            },
            "colorscale": [
             [
              0,
              "#0d0887"
             ],
             [
              0.1111111111111111,
              "#46039f"
             ],
             [
              0.2222222222222222,
              "#7201a8"
             ],
             [
              0.3333333333333333,
              "#9c179e"
             ],
             [
              0.4444444444444444,
              "#bd3786"
             ],
             [
              0.5555555555555556,
              "#d8576b"
             ],
             [
              0.6666666666666666,
              "#ed7953"
             ],
             [
              0.7777777777777778,
              "#fb9f3a"
             ],
             [
              0.8888888888888888,
              "#fdca26"
             ],
             [
              1,
              "#f0f921"
             ]
            ],
            "type": "histogram2d"
           }
          ],
          "histogram2dcontour": [
           {
            "colorbar": {
             "outlinewidth": 0,
             "ticks": ""
            },
            "colorscale": [
             [
              0,
              "#0d0887"
             ],
             [
              0.1111111111111111,
              "#46039f"
             ],
             [
              0.2222222222222222,
              "#7201a8"
             ],
             [
              0.3333333333333333,
              "#9c179e"
             ],
             [
              0.4444444444444444,
              "#bd3786"
             ],
             [
              0.5555555555555556,
              "#d8576b"
             ],
             [
              0.6666666666666666,
              "#ed7953"
             ],
             [
              0.7777777777777778,
              "#fb9f3a"
             ],
             [
              0.8888888888888888,
              "#fdca26"
             ],
             [
              1,
              "#f0f921"
             ]
            ],
            "type": "histogram2dcontour"
           }
          ],
          "mesh3d": [
           {
            "colorbar": {
             "outlinewidth": 0,
             "ticks": ""
            },
            "type": "mesh3d"
           }
          ],
          "parcoords": [
           {
            "line": {
             "colorbar": {
              "outlinewidth": 0,
              "ticks": ""
             }
            },
            "type": "parcoords"
           }
          ],
          "pie": [
           {
            "automargin": true,
            "type": "pie"
           }
          ],
          "scatter": [
           {
            "marker": {
             "colorbar": {
              "outlinewidth": 0,
              "ticks": ""
             }
            },
            "type": "scatter"
           }
          ],
          "scatter3d": [
           {
            "line": {
             "colorbar": {
              "outlinewidth": 0,
              "ticks": ""
             }
            },
            "marker": {
             "colorbar": {
              "outlinewidth": 0,
              "ticks": ""
             }
            },
            "type": "scatter3d"
           }
          ],
          "scattercarpet": [
           {
            "marker": {
             "colorbar": {
              "outlinewidth": 0,
              "ticks": ""
             }
            },
            "type": "scattercarpet"
           }
          ],
          "scattergeo": [
           {
            "marker": {
             "colorbar": {
              "outlinewidth": 0,
              "ticks": ""
             }
            },
            "type": "scattergeo"
           }
          ],
          "scattergl": [
           {
            "marker": {
             "colorbar": {
              "outlinewidth": 0,
              "ticks": ""
             }
            },
            "type": "scattergl"
           }
          ],
          "scattermapbox": [
           {
            "marker": {
             "colorbar": {
              "outlinewidth": 0,
              "ticks": ""
             }
            },
            "type": "scattermapbox"
           }
          ],
          "scatterpolar": [
           {
            "marker": {
             "colorbar": {
              "outlinewidth": 0,
              "ticks": ""
             }
            },
            "type": "scatterpolar"
           }
          ],
          "scatterpolargl": [
           {
            "marker": {
             "colorbar": {
              "outlinewidth": 0,
              "ticks": ""
             }
            },
            "type": "scatterpolargl"
           }
          ],
          "scatterternary": [
           {
            "marker": {
             "colorbar": {
              "outlinewidth": 0,
              "ticks": ""
             }
            },
            "type": "scatterternary"
           }
          ],
          "surface": [
           {
            "colorbar": {
             "outlinewidth": 0,
             "ticks": ""
            },
            "colorscale": [
             [
              0,
              "#0d0887"
             ],
             [
              0.1111111111111111,
              "#46039f"
             ],
             [
              0.2222222222222222,
              "#7201a8"
             ],
             [
              0.3333333333333333,
              "#9c179e"
             ],
             [
              0.4444444444444444,
              "#bd3786"
             ],
             [
              0.5555555555555556,
              "#d8576b"
             ],
             [
              0.6666666666666666,
              "#ed7953"
             ],
             [
              0.7777777777777778,
              "#fb9f3a"
             ],
             [
              0.8888888888888888,
              "#fdca26"
             ],
             [
              1,
              "#f0f921"
             ]
            ],
            "type": "surface"
           }
          ],
          "table": [
           {
            "cells": {
             "fill": {
              "color": "#EBF0F8"
             },
             "line": {
              "color": "white"
             }
            },
            "header": {
             "fill": {
              "color": "#C8D4E3"
             },
             "line": {
              "color": "white"
             }
            },
            "type": "table"
           }
          ]
         },
         "layout": {
          "annotationdefaults": {
           "arrowcolor": "#2a3f5f",
           "arrowhead": 0,
           "arrowwidth": 1
          },
          "coloraxis": {
           "colorbar": {
            "outlinewidth": 0,
            "ticks": ""
           }
          },
          "colorscale": {
           "diverging": [
            [
             0,
             "#8e0152"
            ],
            [
             0.1,
             "#c51b7d"
            ],
            [
             0.2,
             "#de77ae"
            ],
            [
             0.3,
             "#f1b6da"
            ],
            [
             0.4,
             "#fde0ef"
            ],
            [
             0.5,
             "#f7f7f7"
            ],
            [
             0.6,
             "#e6f5d0"
            ],
            [
             0.7,
             "#b8e186"
            ],
            [
             0.8,
             "#7fbc41"
            ],
            [
             0.9,
             "#4d9221"
            ],
            [
             1,
             "#276419"
            ]
           ],
           "sequential": [
            [
             0,
             "#0d0887"
            ],
            [
             0.1111111111111111,
             "#46039f"
            ],
            [
             0.2222222222222222,
             "#7201a8"
            ],
            [
             0.3333333333333333,
             "#9c179e"
            ],
            [
             0.4444444444444444,
             "#bd3786"
            ],
            [
             0.5555555555555556,
             "#d8576b"
            ],
            [
             0.6666666666666666,
             "#ed7953"
            ],
            [
             0.7777777777777778,
             "#fb9f3a"
            ],
            [
             0.8888888888888888,
             "#fdca26"
            ],
            [
             1,
             "#f0f921"
            ]
           ],
           "sequentialminus": [
            [
             0,
             "#0d0887"
            ],
            [
             0.1111111111111111,
             "#46039f"
            ],
            [
             0.2222222222222222,
             "#7201a8"
            ],
            [
             0.3333333333333333,
             "#9c179e"
            ],
            [
             0.4444444444444444,
             "#bd3786"
            ],
            [
             0.5555555555555556,
             "#d8576b"
            ],
            [
             0.6666666666666666,
             "#ed7953"
            ],
            [
             0.7777777777777778,
             "#fb9f3a"
            ],
            [
             0.8888888888888888,
             "#fdca26"
            ],
            [
             1,
             "#f0f921"
            ]
           ]
          },
          "colorway": [
           "#636efa",
           "#EF553B",
           "#00cc96",
           "#ab63fa",
           "#FFA15A",
           "#19d3f3",
           "#FF6692",
           "#B6E880",
           "#FF97FF",
           "#FECB52"
          ],
          "font": {
           "color": "#2a3f5f"
          },
          "geo": {
           "bgcolor": "white",
           "lakecolor": "white",
           "landcolor": "#E5ECF6",
           "showlakes": true,
           "showland": true,
           "subunitcolor": "white"
          },
          "hoverlabel": {
           "align": "left"
          },
          "hovermode": "closest",
          "mapbox": {
           "style": "light"
          },
          "paper_bgcolor": "white",
          "plot_bgcolor": "#E5ECF6",
          "polar": {
           "angularaxis": {
            "gridcolor": "white",
            "linecolor": "white",
            "ticks": ""
           },
           "bgcolor": "#E5ECF6",
           "radialaxis": {
            "gridcolor": "white",
            "linecolor": "white",
            "ticks": ""
           }
          },
          "scene": {
           "xaxis": {
            "backgroundcolor": "#E5ECF6",
            "gridcolor": "white",
            "gridwidth": 2,
            "linecolor": "white",
            "showbackground": true,
            "ticks": "",
            "zerolinecolor": "white"
           },
           "yaxis": {
            "backgroundcolor": "#E5ECF6",
            "gridcolor": "white",
            "gridwidth": 2,
            "linecolor": "white",
            "showbackground": true,
            "ticks": "",
            "zerolinecolor": "white"
           },
           "zaxis": {
            "backgroundcolor": "#E5ECF6",
            "gridcolor": "white",
            "gridwidth": 2,
            "linecolor": "white",
            "showbackground": true,
            "ticks": "",
            "zerolinecolor": "white"
           }
          },
          "shapedefaults": {
           "line": {
            "color": "#2a3f5f"
           }
          },
          "ternary": {
           "aaxis": {
            "gridcolor": "white",
            "linecolor": "white",
            "ticks": ""
           },
           "baxis": {
            "gridcolor": "white",
            "linecolor": "white",
            "ticks": ""
           },
           "bgcolor": "#E5ECF6",
           "caxis": {
            "gridcolor": "white",
            "linecolor": "white",
            "ticks": ""
           }
          },
          "title": {
           "x": 0.05
          },
          "xaxis": {
           "automargin": true,
           "gridcolor": "white",
           "linecolor": "white",
           "ticks": "",
           "title": {
            "standoff": 15
           },
           "zerolinecolor": "white",
           "zerolinewidth": 2
          },
          "yaxis": {
           "automargin": true,
           "gridcolor": "white",
           "linecolor": "white",
           "ticks": "",
           "title": {
            "standoff": 15
           },
           "zerolinecolor": "white",
           "zerolinewidth": 2
          }
         }
        },
        "title": {
         "text": "Apple's Stock Prices"
        },
        "xaxis": {
         "title": {
          "text": "Date"
         }
        },
        "yaxis": {
         "title": {
          "text": "Price"
         }
        }
       }
      },
      "text/html": [
       "<div>\n",
       "        \n",
       "        \n",
       "            <div id=\"1b2678df-3dd8-4e8a-b09f-a77eebf5c4b8\" class=\"plotly-graph-div\" style=\"height:525px; width:100%;\"></div>\n",
       "            <script type=\"text/javascript\">\n",
       "                require([\"plotly\"], function(Plotly) {\n",
       "                    window.PLOTLYENV=window.PLOTLYENV || {};\n",
       "                    \n",
       "                if (document.getElementById(\"1b2678df-3dd8-4e8a-b09f-a77eebf5c4b8\")) {\n",
       "                    Plotly.newPlot(\n",
       "                        '1b2678df-3dd8-4e8a-b09f-a77eebf5c4b8',\n",
       "                        [{\"type\": \"scatter\", \"x\": [\"2018-09-04T00:00:00\", \"2018-09-05T00:00:00\", \"2018-09-06T00:00:00\", \"2018-09-07T00:00:00\", \"2018-09-10T00:00:00\", \"2018-09-11T00:00:00\", \"2018-09-12T00:00:00\", \"2018-09-13T00:00:00\", \"2018-09-14T00:00:00\", \"2018-09-17T00:00:00\", \"2018-09-18T00:00:00\", \"2018-09-19T00:00:00\", \"2018-09-20T00:00:00\", \"2018-09-21T00:00:00\", \"2018-09-24T00:00:00\", \"2018-09-25T00:00:00\", \"2018-09-26T00:00:00\", \"2018-09-27T00:00:00\", \"2018-09-28T00:00:00\", \"2018-10-01T00:00:00\", \"2018-10-02T00:00:00\", \"2018-10-03T00:00:00\", \"2018-10-04T00:00:00\", \"2018-10-05T00:00:00\", \"2018-10-08T00:00:00\", \"2018-10-09T00:00:00\", \"2018-10-10T00:00:00\", \"2018-10-11T00:00:00\", \"2018-10-12T00:00:00\", \"2018-10-15T00:00:00\", \"2018-10-16T00:00:00\", \"2018-10-17T00:00:00\", \"2018-10-18T00:00:00\", \"2018-10-19T00:00:00\", \"2018-10-22T00:00:00\", \"2018-10-23T00:00:00\", \"2018-10-24T00:00:00\", \"2018-10-25T00:00:00\", \"2018-10-26T00:00:00\", \"2018-10-29T00:00:00\", \"2018-10-30T00:00:00\", \"2018-10-31T00:00:00\", \"2018-11-01T00:00:00\", \"2018-11-02T00:00:00\", \"2018-11-05T00:00:00\", \"2018-11-06T00:00:00\", \"2018-11-07T00:00:00\", \"2018-11-08T00:00:00\", \"2018-11-09T00:00:00\", \"2018-11-12T00:00:00\", \"2018-11-13T00:00:00\", \"2018-11-14T00:00:00\", \"2018-11-15T00:00:00\", \"2018-11-16T00:00:00\", \"2018-11-19T00:00:00\", \"2018-11-20T00:00:00\", \"2018-11-21T00:00:00\", \"2018-11-23T00:00:00\", \"2018-11-26T00:00:00\", \"2018-11-27T00:00:00\", \"2018-11-28T00:00:00\", \"2018-11-29T00:00:00\", \"2018-11-30T00:00:00\", \"2018-12-03T00:00:00\", \"2018-12-04T00:00:00\", \"2018-12-06T00:00:00\", \"2018-12-07T00:00:00\", \"2018-12-10T00:00:00\", \"2018-12-11T00:00:00\", \"2018-12-12T00:00:00\", \"2018-12-13T00:00:00\", \"2018-12-14T00:00:00\", \"2018-12-17T00:00:00\", \"2018-12-18T00:00:00\", \"2018-12-19T00:00:00\", \"2018-12-20T00:00:00\", \"2018-12-21T00:00:00\", \"2018-12-24T00:00:00\", \"2018-12-26T00:00:00\", \"2018-12-27T00:00:00\", \"2018-12-28T00:00:00\", \"2018-12-31T00:00:00\", \"2019-01-02T00:00:00\", \"2019-01-03T00:00:00\", \"2019-01-04T00:00:00\", \"2019-01-07T00:00:00\", \"2019-01-08T00:00:00\", \"2019-01-09T00:00:00\", \"2019-01-10T00:00:00\", \"2019-01-11T00:00:00\", \"2019-01-14T00:00:00\", \"2019-01-15T00:00:00\", \"2019-01-16T00:00:00\", \"2019-01-17T00:00:00\", \"2019-01-18T00:00:00\", \"2019-01-22T00:00:00\", \"2019-01-23T00:00:00\", \"2019-01-24T00:00:00\", \"2019-01-25T00:00:00\", \"2019-01-28T00:00:00\", \"2019-01-29T00:00:00\", \"2019-01-30T00:00:00\", \"2019-01-31T00:00:00\", \"2019-02-01T00:00:00\", \"2019-02-04T00:00:00\", \"2019-02-05T00:00:00\", \"2019-02-06T00:00:00\", \"2019-02-07T00:00:00\", \"2019-02-08T00:00:00\", \"2019-02-11T00:00:00\", \"2019-02-12T00:00:00\", \"2019-02-13T00:00:00\", \"2019-02-14T00:00:00\", \"2019-02-15T00:00:00\", \"2019-02-19T00:00:00\", \"2019-02-20T00:00:00\", \"2019-02-21T00:00:00\", \"2019-02-22T00:00:00\", \"2019-02-25T00:00:00\", \"2019-02-26T00:00:00\", \"2019-02-27T00:00:00\", \"2019-02-28T00:00:00\", \"2019-03-01T00:00:00\", \"2019-03-04T00:00:00\", \"2019-03-05T00:00:00\", \"2019-03-06T00:00:00\", \"2019-03-07T00:00:00\", \"2019-03-08T00:00:00\", \"2019-03-11T00:00:00\", \"2019-03-12T00:00:00\", \"2019-03-13T00:00:00\", \"2019-03-14T00:00:00\", \"2019-03-15T00:00:00\", \"2019-03-18T00:00:00\", \"2019-03-19T00:00:00\", \"2019-03-20T00:00:00\", \"2019-03-21T00:00:00\", \"2019-03-22T00:00:00\", \"2019-03-25T00:00:00\", \"2019-03-26T00:00:00\", \"2019-03-27T00:00:00\", \"2019-03-28T00:00:00\", \"2019-03-29T00:00:00\", \"2019-04-01T00:00:00\", \"2019-04-02T00:00:00\", \"2019-04-03T00:00:00\", \"2019-04-04T00:00:00\", \"2019-04-05T00:00:00\", \"2019-04-08T00:00:00\", \"2019-04-09T00:00:00\", \"2019-04-10T00:00:00\", \"2019-04-11T00:00:00\", \"2019-04-12T00:00:00\", \"2019-04-15T00:00:00\", \"2019-04-16T00:00:00\", \"2019-04-17T00:00:00\", \"2019-04-18T00:00:00\", \"2019-04-22T00:00:00\", \"2019-04-23T00:00:00\", \"2019-04-24T00:00:00\", \"2019-04-25T00:00:00\", \"2019-04-26T00:00:00\", \"2019-04-29T00:00:00\", \"2019-04-30T00:00:00\", \"2019-05-01T00:00:00\", \"2019-05-02T00:00:00\", \"2019-05-03T00:00:00\", \"2019-05-06T00:00:00\", \"2019-05-07T00:00:00\", \"2019-05-08T00:00:00\", \"2019-05-09T00:00:00\", \"2019-05-10T00:00:00\", \"2019-05-13T00:00:00\", \"2019-05-14T00:00:00\", \"2019-05-15T00:00:00\", \"2019-05-16T00:00:00\", \"2019-05-17T00:00:00\", \"2019-05-20T00:00:00\", \"2019-05-21T00:00:00\", \"2019-05-22T00:00:00\", \"2019-05-23T00:00:00\", \"2019-05-24T00:00:00\", \"2019-05-28T00:00:00\", \"2019-05-29T00:00:00\", \"2019-05-30T00:00:00\", \"2019-05-31T00:00:00\", \"2019-06-03T00:00:00\", \"2019-06-04T00:00:00\", \"2019-06-05T00:00:00\", \"2019-06-06T00:00:00\", \"2019-06-07T00:00:00\", \"2019-06-10T00:00:00\", \"2019-06-11T00:00:00\", \"2019-06-12T00:00:00\", \"2019-06-13T00:00:00\", \"2019-06-14T00:00:00\", \"2019-06-17T00:00:00\", \"2019-06-18T00:00:00\", \"2019-06-19T00:00:00\", \"2019-06-20T00:00:00\", \"2019-06-21T00:00:00\", \"2019-06-24T00:00:00\", \"2019-06-25T00:00:00\", \"2019-06-26T00:00:00\", \"2019-06-27T00:00:00\", \"2019-06-28T00:00:00\", \"2019-07-01T00:00:00\", \"2019-07-02T00:00:00\", \"2019-07-03T00:00:00\", \"2019-07-05T00:00:00\", \"2019-07-08T00:00:00\", \"2019-07-09T00:00:00\", \"2019-07-10T00:00:00\", \"2019-07-11T00:00:00\", \"2019-07-12T00:00:00\", \"2019-07-15T00:00:00\", \"2019-07-16T00:00:00\", \"2019-07-17T00:00:00\", \"2019-07-18T00:00:00\", \"2019-07-19T00:00:00\", \"2019-07-22T00:00:00\", \"2019-07-23T00:00:00\", \"2019-07-24T00:00:00\", \"2019-07-25T00:00:00\", \"2019-07-26T00:00:00\", \"2019-07-29T00:00:00\", \"2019-07-30T00:00:00\", \"2019-07-31T00:00:00\", \"2019-08-01T00:00:00\", \"2019-08-02T00:00:00\", \"2019-08-05T00:00:00\", \"2019-08-06T00:00:00\", \"2019-08-07T00:00:00\", \"2019-08-08T00:00:00\", \"2019-08-09T00:00:00\", \"2019-08-12T00:00:00\", \"2019-08-13T00:00:00\", \"2019-08-14T00:00:00\", \"2019-08-15T00:00:00\", \"2019-08-16T00:00:00\", \"2019-08-19T00:00:00\", \"2019-08-20T00:00:00\", \"2019-08-21T00:00:00\", \"2019-08-22T00:00:00\", \"2019-08-23T00:00:00\", \"2019-08-26T00:00:00\", \"2019-08-27T00:00:00\", \"2019-08-28T00:00:00\", \"2019-08-29T00:00:00\", \"2019-08-30T00:00:00\", \"2019-09-03T00:00:00\", \"2019-09-04T00:00:00\", \"2019-09-05T00:00:00\", \"2019-09-06T00:00:00\", \"2019-09-09T00:00:00\", \"2019-09-10T00:00:00\", \"2019-09-11T00:00:00\", \"2019-09-12T00:00:00\", \"2019-09-13T00:00:00\", \"2019-09-16T00:00:00\", \"2019-09-17T00:00:00\", \"2019-09-18T00:00:00\", \"2019-09-19T00:00:00\", \"2019-09-20T00:00:00\", \"2019-09-23T00:00:00\", \"2019-09-24T00:00:00\", \"2019-09-25T00:00:00\", \"2019-09-26T00:00:00\", \"2019-09-27T00:00:00\", \"2019-09-30T00:00:00\", \"2019-10-01T00:00:00\", \"2019-10-02T00:00:00\", \"2019-10-03T00:00:00\", \"2019-10-04T00:00:00\", \"2019-10-07T00:00:00\", \"2019-10-08T00:00:00\", \"2019-10-09T00:00:00\", \"2019-10-10T00:00:00\", \"2019-10-11T00:00:00\", \"2019-10-14T00:00:00\", \"2019-10-15T00:00:00\", \"2019-10-16T00:00:00\", \"2019-10-17T00:00:00\", \"2019-10-18T00:00:00\", \"2019-10-21T00:00:00\", \"2019-10-22T00:00:00\", \"2019-10-23T00:00:00\", \"2019-10-24T00:00:00\", \"2019-10-25T00:00:00\", \"2019-10-28T00:00:00\", \"2019-10-29T00:00:00\", \"2019-10-30T00:00:00\", \"2019-10-31T00:00:00\", \"2019-11-01T00:00:00\", \"2019-11-04T00:00:00\", \"2019-11-05T00:00:00\", \"2019-11-06T00:00:00\", \"2019-11-07T00:00:00\", \"2019-11-08T00:00:00\", \"2019-11-11T00:00:00\", \"2019-11-12T00:00:00\", \"2019-11-13T00:00:00\", \"2019-11-14T00:00:00\", \"2019-11-15T00:00:00\", \"2019-11-18T00:00:00\", \"2019-11-19T00:00:00\", \"2019-11-20T00:00:00\", \"2019-11-21T00:00:00\", \"2019-11-22T00:00:00\", \"2019-11-25T00:00:00\", \"2019-11-26T00:00:00\", \"2019-11-27T00:00:00\", \"2019-11-29T00:00:00\", \"2019-12-02T00:00:00\", \"2019-12-03T00:00:00\", \"2019-12-04T00:00:00\", \"2019-12-05T00:00:00\", \"2019-12-06T00:00:00\", \"2019-12-09T00:00:00\", \"2019-12-10T00:00:00\", \"2019-12-11T00:00:00\", \"2019-12-12T00:00:00\", \"2019-12-13T00:00:00\", \"2019-12-16T00:00:00\", \"2019-12-17T00:00:00\", \"2019-12-18T00:00:00\", \"2019-12-19T00:00:00\", \"2019-12-20T00:00:00\", \"2019-12-23T00:00:00\", \"2019-12-24T00:00:00\", \"2019-12-26T00:00:00\", \"2019-12-27T00:00:00\", \"2019-12-30T00:00:00\", \"2019-12-31T00:00:00\", \"2020-01-02T00:00:00\", \"2020-01-03T00:00:00\", \"2020-01-06T00:00:00\", \"2020-01-07T00:00:00\", \"2020-01-08T00:00:00\", \"2020-01-09T00:00:00\", \"2020-01-10T00:00:00\", \"2020-01-13T00:00:00\", \"2020-01-14T00:00:00\", \"2020-01-15T00:00:00\", \"2020-01-16T00:00:00\", \"2020-01-17T00:00:00\", \"2020-01-21T00:00:00\", \"2020-01-22T00:00:00\", \"2020-01-23T00:00:00\", \"2020-01-24T00:00:00\", \"2020-01-27T00:00:00\", \"2020-01-28T00:00:00\", \"2020-01-29T00:00:00\", \"2020-01-30T00:00:00\", \"2020-01-31T00:00:00\", \"2020-02-03T00:00:00\", \"2020-02-04T00:00:00\", \"2020-02-05T00:00:00\", \"2020-02-06T00:00:00\", \"2020-02-07T00:00:00\", \"2020-02-10T00:00:00\", \"2020-02-11T00:00:00\", \"2020-02-12T00:00:00\", \"2020-02-13T00:00:00\", \"2020-02-14T00:00:00\", \"2020-02-18T00:00:00\", \"2020-02-19T00:00:00\", \"2020-02-20T00:00:00\", \"2020-02-21T00:00:00\", \"2020-02-24T00:00:00\", \"2020-02-25T00:00:00\", \"2020-02-26T00:00:00\", \"2020-02-27T00:00:00\", \"2020-02-28T00:00:00\", \"2020-03-02T00:00:00\", \"2020-03-03T00:00:00\", \"2020-03-04T00:00:00\", \"2020-03-05T00:00:00\", \"2020-03-06T00:00:00\", \"2020-03-09T00:00:00\", \"2020-03-10T00:00:00\", \"2020-03-11T00:00:00\", \"2020-03-12T00:00:00\", \"2020-03-13T00:00:00\", \"2020-03-16T00:00:00\", \"2020-03-17T00:00:00\", \"2020-03-18T00:00:00\", \"2020-03-19T00:00:00\", \"2020-03-20T00:00:00\", \"2020-03-23T00:00:00\", \"2020-03-24T00:00:00\", \"2020-03-25T00:00:00\", \"2020-03-26T00:00:00\", \"2020-03-27T00:00:00\", \"2020-03-30T00:00:00\", \"2020-03-31T00:00:00\", \"2020-04-01T00:00:00\", \"2020-04-02T00:00:00\", \"2020-04-03T00:00:00\", \"2020-04-06T00:00:00\", \"2020-04-07T00:00:00\", \"2020-04-08T00:00:00\", \"2020-04-09T00:00:00\", \"2020-04-13T00:00:00\", \"2020-04-14T00:00:00\", \"2020-04-15T00:00:00\", \"2020-04-16T00:00:00\", \"2020-04-17T00:00:00\", \"2020-04-20T00:00:00\", \"2020-04-21T00:00:00\", \"2020-04-22T00:00:00\", \"2020-04-23T00:00:00\", \"2020-04-24T00:00:00\", \"2020-04-27T00:00:00\", \"2020-04-28T00:00:00\", \"2020-04-29T00:00:00\", \"2020-04-30T00:00:00\", \"2020-05-01T00:00:00\", \"2020-05-04T00:00:00\", \"2020-05-05T00:00:00\", \"2020-05-06T00:00:00\", \"2020-05-07T00:00:00\", \"2020-05-08T00:00:00\", \"2020-05-11T00:00:00\", \"2020-05-12T00:00:00\", \"2020-05-13T00:00:00\", \"2020-05-14T00:00:00\", \"2020-05-15T00:00:00\", \"2020-05-18T00:00:00\", \"2020-05-19T00:00:00\", \"2020-05-20T00:00:00\", \"2020-05-21T00:00:00\", \"2020-05-22T00:00:00\", \"2020-05-26T00:00:00\", \"2020-05-27T00:00:00\", \"2020-05-28T00:00:00\", \"2020-05-29T00:00:00\", \"2020-06-01T00:00:00\", \"2020-06-02T00:00:00\", \"2020-06-03T00:00:00\", \"2020-06-04T00:00:00\", \"2020-06-05T00:00:00\", \"2020-06-08T00:00:00\", \"2020-06-09T00:00:00\", \"2020-06-10T00:00:00\", \"2020-06-11T00:00:00\", \"2020-06-12T00:00:00\", \"2020-06-15T00:00:00\", \"2020-06-16T00:00:00\", \"2020-06-17T00:00:00\", \"2020-06-18T00:00:00\", \"2020-06-19T00:00:00\", \"2020-06-22T00:00:00\", \"2020-06-23T00:00:00\", \"2020-06-24T00:00:00\", \"2020-06-25T00:00:00\", \"2020-06-26T00:00:00\", \"2020-06-29T00:00:00\", \"2020-06-30T00:00:00\", \"2020-07-01T00:00:00\", \"2020-07-02T00:00:00\", \"2020-07-06T00:00:00\", \"2020-07-07T00:00:00\", \"2020-07-08T00:00:00\", \"2020-07-09T00:00:00\", \"2020-07-10T00:00:00\", \"2020-07-13T00:00:00\", \"2020-07-14T00:00:00\", \"2020-07-15T00:00:00\", \"2020-07-16T00:00:00\", \"2020-07-17T00:00:00\", \"2020-07-20T00:00:00\", \"2020-07-21T00:00:00\", \"2020-07-22T00:00:00\", \"2020-07-23T00:00:00\", \"2020-07-24T00:00:00\", \"2020-07-27T00:00:00\", \"2020-07-28T00:00:00\", \"2020-07-29T00:00:00\", \"2020-07-30T00:00:00\", \"2020-07-31T00:00:00\", \"2020-08-03T00:00:00\", \"2020-08-04T00:00:00\", \"2020-08-05T00:00:00\", \"2020-08-06T00:00:00\", \"2020-08-07T00:00:00\", \"2020-08-10T00:00:00\", \"2020-08-11T00:00:00\", \"2020-08-12T00:00:00\", \"2020-08-13T00:00:00\", \"2020-08-14T00:00:00\", \"2020-08-17T00:00:00\", \"2020-08-18T00:00:00\", \"2020-08-19T00:00:00\", \"2020-08-20T00:00:00\", \"2020-08-21T00:00:00\", \"2020-08-24T00:00:00\", \"2020-08-25T00:00:00\", \"2020-08-26T00:00:00\", \"2020-08-27T00:00:00\", \"2020-08-28T00:00:00\", \"2020-08-31T00:00:00\", \"2020-09-01T00:00:00\"], \"y\": [55.66532516479492, 55.30212783813477, 54.38314437866211, 53.944374084472656, 53.22039794921875, 54.56597137451172, 53.88830947875977, 55.18999099731445, 54.56352615356445, 53.11071014404297, 53.198463439941406, 53.23014450073242, 53.63479995727539, 53.05708312988281, 53.82005310058594, 54.16131973266602, 53.7298583984375, 54.83409881591797, 55.02667236328125, 55.39718627929688, 55.88958740234375, 56.569679260253906, 55.57513427734375, 54.67321395874024, 54.546470642089844, 55.30212783813477, 52.74018478393555, 52.27460861206055, 54.14181900024414, 52.98394775390625, 54.15156555175781, 53.91756057739258, 52.65730667114258, 53.45928192138672, 53.78592300415039, 54.29294967651367, 52.43061447143555, 53.57873153686523, 52.72556686401367, 51.73589324951172, 51.99428176879883, 53.34959411621094, 54.16862869262695, 50.57558822631836, 49.13983154296875, 49.67123794555664, 51.17767715454102, 50.99911117553711, 50.0157699584961, 47.49626922607422, 47.02172470092773, 45.69348526000977, 46.821144104003906, 47.3397216796875, 45.46355056762695, 43.29139709472656, 43.24247360229492, 42.1441650390625, 42.714111328125, 42.62116241455078, 44.26006317138672, 43.9200439453125, 43.682777404785156, 45.20915222167969, 43.220458984375, 42.73857498168945, 41.21464538574219, 41.48616409301758, 41.2488899230957, 41.363853454589844, 41.81638717651367, 40.47835922241211, 40.101661682128906, 40.62268829345703, 39.3555908203125, 38.362464904785156, 36.87033462524414, 35.91635513305664, 38.44563674926758, 38.19613265991211, 38.21570205688477, 38.58506774902344, 38.62909698486328, 34.78135299682617, 36.26614379882813, 36.18542861938477, 36.87522888183594, 37.50143432617188, 37.62129974365234, 37.251930236816406, 36.6917724609375, 37.44273376464844, 37.9001579284668, 38.12519454956055, 38.360023498535156, 37.49898910522461, 37.65065002441406, 37.35221862792969, 38.58996200561523, 38.232826232910156, 37.83655166625977, 40.42210388183594, 40.71318435668945, 40.732757568359375, 41.8897705078125, 42.606483459472656, 42.62116241455078, 41.813941955566406, 41.86307907104492, 41.62232208251953, 41.98099136352539, 41.80656814575195, 41.958885192871094, 41.86553192138672, 41.990814208984375, 42.261043548583984, 42.02275466918945, 42.49196243286133, 42.80149459838867, 42.8260612487793, 42.95872116088867, 42.53618240356445, 42.98328018188477, 43.19947052001953, 43.120853424072266, 42.87274169921875, 42.37650680541992, 42.47722625732422, 43.94873046875, 44.44251251220703, 44.6390380859375, 45.13527297973633, 45.7224006652832, 46.18916320800781, 45.82312774658203, 46.22355651855469, 47.92597961425781, 46.93351364135742, 46.36603164672852, 45.88699722290039, 46.29970932006836, 46.361122131347656, 46.66328811645508, 46.98019409179688, 47.66312789916992, 47.98986053466797, 48.0733757019043, 48.39519119262695, 49.15674209594727, 49.00934600830078, 49.28448486328125, 48.87423324584961, 48.85457992553711, 48.9430160522461, 48.94793319702149, 49.90109634399414, 50.0804328918457, 50.24502563476562, 50.96971893310547, 50.89110946655274, 50.42927169799805, 50.18852233886719, 50.26467895507813, 49.29677200317383, 51.71653366088867, 51.37997436523438, 52.01869583129883, 51.21538543701172, 49.83477401733398, 49.8445930480957, 49.30905151367188, 48.625953674316406, 45.799842834472656, 46.524864196777344, 47.08219528198242, 46.87504959106445, 46.60871505737305, 45.15126419067383, 46.0168571472168, 45.07481384277344, 44.30540084838867, 44.13524627685547, 43.95275497436523, 43.74313735961914, 43.97002029418945, 43.17347717285156, 42.736976623535156, 44.30046844482422, 45.015621185302734, 45.676536560058594, 46.89230346679688, 47.49156188964844, 48.0414924621582, 47.88860321044922, 47.87873077392578, 47.53102111816406, 47.81462097167969, 48.93914413452149, 48.79611587524414, 49.18821716308594, 49.02052307128906, 48.9712028503418, 48.228919982910156, 49.27206802368164, 49.25727081298828, 48.80844116210938, 49.70363235473633, 49.99462127685547, 50.40892028808594, 50.36452865600586, 49.3263168334961, 49.62718200683594, 50.11792755126953, 49.75294876098633, 50.13519287109375, 50.60620880126953, 50.43111801147461, 50.14751815795898, 50.71718215942383, 49.9600944519043, 51.10189056396485, 51.50138854980469, 51.45947265625, 51.05257034301758, 51.2301254272461, 51.70853805541992, 51.48659133911133, 52.53713989257813, 51.4002799987793, 50.31274795532226, 47.67898178100586, 48.58156204223633, 49.08464050292969, 50.1672477722168, 49.75384902954102, 49.627601623535156, 51.72925186157226, 50.18952560424805, 49.93950653076172, 51.11781311035156, 52.07086181640625, 52.07333755493164, 52.63773727416992, 52.59318161010742, 50.16230010986328, 51.11533737182617, 50.5385627746582, 50.87770080566406, 51.73915100097656, 51.67231369018555, 50.919776916503906, 51.7837142944336, 52.79616165161133, 52.79121017456055, 53.0164794921875, 53.64276123046875, 55.34834289550781, 55.22456741333008, 54.15023040771485, 54.43490219116211, 54.63294219970703, 55.14535903930664, 54.697303771972656, 53.897727966308594, 54.14280319213867, 53.8853530883789, 54.71462631225586, 54.43243026733398, 54.16756057739258, 55.4424057006836, 55.59588623046875, 54.20221328735352, 54.66264343261719, 56.19494247436523, 56.20731735229492, 55.5488510131836, 56.19989395141602, 56.957374572753906, 58.47234344482422, 58.38817977905274, 58.25203323364258, 58.01686096191406, 58.24213027954102, 58.52185821533203, 59.536781311035156, 59.400634765625, 60.19772720336914, 60.2967414855957, 61.03937530517578, 61.65081024169922, 60.224952697753906, 60.21752548217773, 61.57902145385742, 63.3266830444336, 63.7425537109375, 63.65097045898438, 63.67819213867188, 64.41311645507811, 64.58940887451172, 65.10087585449219, 65.04128265380861, 65.66448974609375, 65.21012115478516, 65.98477935791016, 66.31748962402344, 66.11637115478516, 65.34668731689453, 65.05370330810547, 64.99659729003906, 66.13623046875, 65.61978912353516, 66.50121307373047, 66.35472869873047, 65.58751678466797, 64.4180908203125, 64.98666381835939, 65.94008636474611, 67.21379852294922, 66.27278900146484, 66.66012573242189, 67.22869873046875, 67.40001678466797, 68.31619262695311, 69.48561859130861, 69.6221923828125, 69.45583343505861, 69.52535247802734, 69.38134765625, 70.51353454589844, 70.58056640625, 71.98091125488281, 71.95359802246094, 72.38065338134766, 72.90950012207031, 74.57303619384766, 73.84803009033203, 74.43647003173828, 74.08639526367188, 75.27816009521484, 76.87713623046875, 77.0509262084961, 78.69707489013672, 77.63440704345703, 77.30170440673828, 78.27001953125, 79.13655090332031, 78.60025024414062, 78.88082122802734, 79.26069641113281, 79.03226470947266, 76.70829772949219, 78.87832641601562, 80.52943420410156, 80.4127426147461, 76.84734344482422, 76.63629913330078, 79.16633605957031, 79.81189727783203, 80.74544525146484, 79.64789581298828, 80.02619171142578, 79.54336547851562, 81.4323501586914, 80.85246276855469, 80.87237548828125, 79.39155578613281, 80.54136657714844, 79.715087890625, 77.9107437133789, 74.20994567871094, 71.69629669189453, 72.83366394042969, 68.07266235351561, 68.0328369140625, 74.36673736572266, 72.00491333007812, 75.3448257446289, 72.90086364746094, 71.9327392578125, 66.24342346191406, 71.0143814086914, 68.54801177978516, 61.77857971191406, 69.18016052246094, 60.28034591674805, 62.93087768554688, 61.39033126831055, 60.91995239257813, 57.05241775512695, 55.84038543701172, 61.44259643554688, 61.10412216186523, 64.31961059570311, 61.6566276550293, 63.41618347167969, 63.28676986694336, 59.95680618286133, 60.9572868347168, 60.08124160766602, 65.32257843017578, 64.56599426269531, 66.21853637695311, 66.69637298583984, 68.00547027587889, 71.43995666503906, 70.78790283203125, 71.3503646850586, 70.38223266601562, 68.92132568359375, 66.79094696044922, 68.71475982666016, 68.44846343994139, 70.42454528808594, 70.47431945800781, 69.33197021484375, 71.60919952392578, 73.119873046875, 71.94268798828125, 72.9605941772461, 74.05564880371094, 74.81969451904297, 75.59369659423828, 77.39295959472656, 78.61076354980469, 77.71238708496094, 76.7740707397461, 77.2457275390625, 76.78904724121094, 78.59828186035156, 78.14411163330078, 79.66387176513672, 79.06993865966797, 79.57902526855469, 79.03999328613281, 79.38436889648438, 79.41930389404297, 79.34194946289062, 80.31768798828125, 80.68951416015625, 81.13371276855469, 80.43497467041016, 82.72584533691406, 83.21495819091797, 85.84272003173828, 88.05123901367188, 83.82386016845703, 84.54755401611328, 85.59317016601562, 87.86157989501953, 87.73930358886719, 87.77424621582031, 87.27264404296875, 89.5560302734375, 91.46758270263672, 89.85299682617188, 91.04584503173828, 88.2483901977539, 90.28221893310548, 91.03585815429688, 90.8636703491211, 90.8636703491211, 93.2942886352539, 93.00481414794922, 95.17090606689452, 95.58016967773438, 95.74736785888672, 95.3056640625, 96.88282012939452, 97.5491180419922, 96.3487777709961, 96.15412902832031, 98.18048095703124, 96.82542419433594, 97.0974349975586, 92.67790222167969, 92.44831085205078, 94.6393585205078, 93.0846710205078, 94.86894989013672, 96.01688385009766, 106.06875610351562, 108.74143981933594, 109.4676284790039, 109.86441040039062, 113.69750213623048, 111.1125030517578, 112.72750091552734, 109.375, 113.01000213623048, 115.01000213623048, 114.90750122070312, 114.60749816894531, 115.5625, 115.7074966430664, 118.2750015258789, 124.37000274658205, 125.85749816894531, 124.8249969482422, 126.52249908447266, 125.01000213623048, 124.80750274658205, 129.03999328613278, 134.17999267578122]}],\n",
       "                        {\"template\": {\"data\": {\"bar\": [{\"error_x\": {\"color\": \"#2a3f5f\"}, \"error_y\": {\"color\": \"#2a3f5f\"}, \"marker\": {\"line\": {\"color\": \"#E5ECF6\", \"width\": 0.5}}, \"type\": \"bar\"}], \"barpolar\": [{\"marker\": {\"line\": {\"color\": \"#E5ECF6\", \"width\": 0.5}}, \"type\": \"barpolar\"}], \"carpet\": [{\"aaxis\": {\"endlinecolor\": \"#2a3f5f\", \"gridcolor\": \"white\", \"linecolor\": \"white\", \"minorgridcolor\": \"white\", \"startlinecolor\": \"#2a3f5f\"}, \"baxis\": {\"endlinecolor\": \"#2a3f5f\", \"gridcolor\": \"white\", \"linecolor\": \"white\", \"minorgridcolor\": \"white\", \"startlinecolor\": \"#2a3f5f\"}, \"type\": \"carpet\"}], \"choropleth\": [{\"colorbar\": {\"outlinewidth\": 0, \"ticks\": \"\"}, \"type\": \"choropleth\"}], \"contour\": [{\"colorbar\": {\"outlinewidth\": 0, \"ticks\": \"\"}, \"colorscale\": [[0.0, \"#0d0887\"], [0.1111111111111111, \"#46039f\"], [0.2222222222222222, \"#7201a8\"], [0.3333333333333333, \"#9c179e\"], [0.4444444444444444, \"#bd3786\"], [0.5555555555555556, \"#d8576b\"], [0.6666666666666666, \"#ed7953\"], [0.7777777777777778, \"#fb9f3a\"], [0.8888888888888888, \"#fdca26\"], [1.0, \"#f0f921\"]], \"type\": \"contour\"}], \"contourcarpet\": [{\"colorbar\": {\"outlinewidth\": 0, \"ticks\": \"\"}, \"type\": \"contourcarpet\"}], \"heatmap\": [{\"colorbar\": {\"outlinewidth\": 0, \"ticks\": \"\"}, \"colorscale\": [[0.0, \"#0d0887\"], [0.1111111111111111, \"#46039f\"], [0.2222222222222222, \"#7201a8\"], [0.3333333333333333, \"#9c179e\"], [0.4444444444444444, \"#bd3786\"], [0.5555555555555556, \"#d8576b\"], [0.6666666666666666, \"#ed7953\"], [0.7777777777777778, \"#fb9f3a\"], [0.8888888888888888, \"#fdca26\"], [1.0, \"#f0f921\"]], \"type\": \"heatmap\"}], \"heatmapgl\": [{\"colorbar\": {\"outlinewidth\": 0, \"ticks\": \"\"}, \"colorscale\": [[0.0, \"#0d0887\"], [0.1111111111111111, \"#46039f\"], [0.2222222222222222, \"#7201a8\"], [0.3333333333333333, \"#9c179e\"], [0.4444444444444444, \"#bd3786\"], [0.5555555555555556, \"#d8576b\"], [0.6666666666666666, \"#ed7953\"], [0.7777777777777778, \"#fb9f3a\"], [0.8888888888888888, \"#fdca26\"], [1.0, \"#f0f921\"]], \"type\": \"heatmapgl\"}], \"histogram\": [{\"marker\": {\"colorbar\": {\"outlinewidth\": 0, \"ticks\": \"\"}}, \"type\": \"histogram\"}], \"histogram2d\": [{\"colorbar\": {\"outlinewidth\": 0, \"ticks\": \"\"}, \"colorscale\": [[0.0, \"#0d0887\"], [0.1111111111111111, \"#46039f\"], [0.2222222222222222, \"#7201a8\"], [0.3333333333333333, \"#9c179e\"], [0.4444444444444444, \"#bd3786\"], [0.5555555555555556, \"#d8576b\"], [0.6666666666666666, \"#ed7953\"], [0.7777777777777778, \"#fb9f3a\"], [0.8888888888888888, \"#fdca26\"], [1.0, \"#f0f921\"]], \"type\": \"histogram2d\"}], \"histogram2dcontour\": [{\"colorbar\": {\"outlinewidth\": 0, \"ticks\": \"\"}, \"colorscale\": [[0.0, \"#0d0887\"], [0.1111111111111111, \"#46039f\"], [0.2222222222222222, \"#7201a8\"], [0.3333333333333333, \"#9c179e\"], [0.4444444444444444, \"#bd3786\"], [0.5555555555555556, \"#d8576b\"], [0.6666666666666666, \"#ed7953\"], [0.7777777777777778, \"#fb9f3a\"], [0.8888888888888888, \"#fdca26\"], [1.0, \"#f0f921\"]], \"type\": \"histogram2dcontour\"}], \"mesh3d\": [{\"colorbar\": {\"outlinewidth\": 0, \"ticks\": \"\"}, \"type\": \"mesh3d\"}], \"parcoords\": [{\"line\": {\"colorbar\": {\"outlinewidth\": 0, \"ticks\": \"\"}}, \"type\": \"parcoords\"}], \"pie\": [{\"automargin\": true, \"type\": \"pie\"}], \"scatter\": [{\"marker\": {\"colorbar\": {\"outlinewidth\": 0, \"ticks\": \"\"}}, \"type\": \"scatter\"}], \"scatter3d\": [{\"line\": {\"colorbar\": {\"outlinewidth\": 0, \"ticks\": \"\"}}, \"marker\": {\"colorbar\": {\"outlinewidth\": 0, \"ticks\": \"\"}}, \"type\": \"scatter3d\"}], \"scattercarpet\": [{\"marker\": {\"colorbar\": {\"outlinewidth\": 0, \"ticks\": \"\"}}, \"type\": \"scattercarpet\"}], \"scattergeo\": [{\"marker\": {\"colorbar\": {\"outlinewidth\": 0, \"ticks\": \"\"}}, \"type\": \"scattergeo\"}], \"scattergl\": [{\"marker\": {\"colorbar\": {\"outlinewidth\": 0, \"ticks\": \"\"}}, \"type\": \"scattergl\"}], \"scattermapbox\": [{\"marker\": {\"colorbar\": {\"outlinewidth\": 0, \"ticks\": \"\"}}, \"type\": \"scattermapbox\"}], \"scatterpolar\": [{\"marker\": {\"colorbar\": {\"outlinewidth\": 0, \"ticks\": \"\"}}, \"type\": \"scatterpolar\"}], \"scatterpolargl\": [{\"marker\": {\"colorbar\": {\"outlinewidth\": 0, \"ticks\": \"\"}}, \"type\": \"scatterpolargl\"}], \"scatterternary\": [{\"marker\": {\"colorbar\": {\"outlinewidth\": 0, \"ticks\": \"\"}}, \"type\": \"scatterternary\"}], \"surface\": [{\"colorbar\": {\"outlinewidth\": 0, \"ticks\": \"\"}, \"colorscale\": [[0.0, \"#0d0887\"], [0.1111111111111111, \"#46039f\"], [0.2222222222222222, \"#7201a8\"], [0.3333333333333333, \"#9c179e\"], [0.4444444444444444, \"#bd3786\"], [0.5555555555555556, \"#d8576b\"], [0.6666666666666666, \"#ed7953\"], [0.7777777777777778, \"#fb9f3a\"], [0.8888888888888888, \"#fdca26\"], [1.0, \"#f0f921\"]], \"type\": \"surface\"}], \"table\": [{\"cells\": {\"fill\": {\"color\": \"#EBF0F8\"}, \"line\": {\"color\": \"white\"}}, \"header\": {\"fill\": {\"color\": \"#C8D4E3\"}, \"line\": {\"color\": \"white\"}}, \"type\": \"table\"}]}, \"layout\": {\"annotationdefaults\": {\"arrowcolor\": \"#2a3f5f\", \"arrowhead\": 0, \"arrowwidth\": 1}, \"coloraxis\": {\"colorbar\": {\"outlinewidth\": 0, \"ticks\": \"\"}}, \"colorscale\": {\"diverging\": [[0, \"#8e0152\"], [0.1, \"#c51b7d\"], [0.2, \"#de77ae\"], [0.3, \"#f1b6da\"], [0.4, \"#fde0ef\"], [0.5, \"#f7f7f7\"], [0.6, \"#e6f5d0\"], [0.7, \"#b8e186\"], [0.8, \"#7fbc41\"], [0.9, \"#4d9221\"], [1, \"#276419\"]], \"sequential\": [[0.0, \"#0d0887\"], [0.1111111111111111, \"#46039f\"], [0.2222222222222222, \"#7201a8\"], [0.3333333333333333, \"#9c179e\"], [0.4444444444444444, \"#bd3786\"], [0.5555555555555556, \"#d8576b\"], [0.6666666666666666, \"#ed7953\"], [0.7777777777777778, \"#fb9f3a\"], [0.8888888888888888, \"#fdca26\"], [1.0, \"#f0f921\"]], \"sequentialminus\": [[0.0, \"#0d0887\"], [0.1111111111111111, \"#46039f\"], [0.2222222222222222, \"#7201a8\"], [0.3333333333333333, \"#9c179e\"], [0.4444444444444444, \"#bd3786\"], [0.5555555555555556, \"#d8576b\"], [0.6666666666666666, \"#ed7953\"], [0.7777777777777778, \"#fb9f3a\"], [0.8888888888888888, \"#fdca26\"], [1.0, \"#f0f921\"]]}, \"colorway\": [\"#636efa\", \"#EF553B\", \"#00cc96\", \"#ab63fa\", \"#FFA15A\", \"#19d3f3\", \"#FF6692\", \"#B6E880\", \"#FF97FF\", \"#FECB52\"], \"font\": {\"color\": \"#2a3f5f\"}, \"geo\": {\"bgcolor\": \"white\", \"lakecolor\": \"white\", \"landcolor\": \"#E5ECF6\", \"showlakes\": true, \"showland\": true, \"subunitcolor\": \"white\"}, \"hoverlabel\": {\"align\": \"left\"}, \"hovermode\": \"closest\", \"mapbox\": {\"style\": \"light\"}, \"paper_bgcolor\": \"white\", \"plot_bgcolor\": \"#E5ECF6\", \"polar\": {\"angularaxis\": {\"gridcolor\": \"white\", \"linecolor\": \"white\", \"ticks\": \"\"}, \"bgcolor\": \"#E5ECF6\", \"radialaxis\": {\"gridcolor\": \"white\", \"linecolor\": \"white\", \"ticks\": \"\"}}, \"scene\": {\"xaxis\": {\"backgroundcolor\": \"#E5ECF6\", \"gridcolor\": \"white\", \"gridwidth\": 2, \"linecolor\": \"white\", \"showbackground\": true, \"ticks\": \"\", \"zerolinecolor\": \"white\"}, \"yaxis\": {\"backgroundcolor\": \"#E5ECF6\", \"gridcolor\": \"white\", \"gridwidth\": 2, \"linecolor\": \"white\", \"showbackground\": true, \"ticks\": \"\", \"zerolinecolor\": \"white\"}, \"zaxis\": {\"backgroundcolor\": \"#E5ECF6\", \"gridcolor\": \"white\", \"gridwidth\": 2, \"linecolor\": \"white\", \"showbackground\": true, \"ticks\": \"\", \"zerolinecolor\": \"white\"}}, \"shapedefaults\": {\"line\": {\"color\": \"#2a3f5f\"}}, \"ternary\": {\"aaxis\": {\"gridcolor\": \"white\", \"linecolor\": \"white\", \"ticks\": \"\"}, \"baxis\": {\"gridcolor\": \"white\", \"linecolor\": \"white\", \"ticks\": \"\"}, \"bgcolor\": \"#E5ECF6\", \"caxis\": {\"gridcolor\": \"white\", \"linecolor\": \"white\", \"ticks\": \"\"}}, \"title\": {\"x\": 0.05}, \"xaxis\": {\"automargin\": true, \"gridcolor\": \"white\", \"linecolor\": \"white\", \"ticks\": \"\", \"title\": {\"standoff\": 15}, \"zerolinecolor\": \"white\", \"zerolinewidth\": 2}, \"yaxis\": {\"automargin\": true, \"gridcolor\": \"white\", \"linecolor\": \"white\", \"ticks\": \"\", \"title\": {\"standoff\": 15}, \"zerolinecolor\": \"white\", \"zerolinewidth\": 2}}}, \"title\": {\"text\": \"Apple's Stock Prices\"}, \"xaxis\": {\"title\": {\"text\": \"Date\"}}, \"yaxis\": {\"title\": {\"text\": \"Price\"}}},\n",
       "                        {\"responsive\": true}\n",
       "                    ).then(function(){\n",
       "                            \n",
       "var gd = document.getElementById('1b2678df-3dd8-4e8a-b09f-a77eebf5c4b8');\n",
       "var x = new MutationObserver(function (mutations, observer) {{\n",
       "        var display = window.getComputedStyle(gd).display;\n",
       "        if (!display || display === 'none') {{\n",
       "            console.log([gd, 'removed!']);\n",
       "            Plotly.purge(gd);\n",
       "            observer.disconnect();\n",
       "        }}\n",
       "}});\n",
       "\n",
       "// Listen for the removal of the full notebook cells\n",
       "var notebookContainer = gd.closest('#notebook-container');\n",
       "if (notebookContainer) {{\n",
       "    x.observe(notebookContainer, {childList: true});\n",
       "}}\n",
       "\n",
       "// Listen for the clearing of the current output cell\n",
       "var outputEl = gd.closest('.output');\n",
       "if (outputEl) {{\n",
       "    x.observe(outputEl, {childList: true});\n",
       "}}\n",
       "\n",
       "                        })\n",
       "                };\n",
       "                });\n",
       "            </script>\n",
       "        </div>"
      ]
     },
     "metadata": {},
     "output_type": "display_data"
    }
   ],
   "source": [
    "df1 = [{'x' : APPLE['Date'], 'y' : APPLE['Adj Close']}]\n",
    "fig0 = go.Figure(data = df1, layout = layout)\n",
    "iplot(fig0)"
   ]
  },
  {
   "cell_type": "code",
   "execution_count": 20,
   "metadata": {},
   "outputs": [
    {
     "data": {
      "text/html": [
       "<div>\n",
       "<style scoped>\n",
       "    .dataframe tbody tr th:only-of-type {\n",
       "        vertical-align: middle;\n",
       "    }\n",
       "\n",
       "    .dataframe tbody tr th {\n",
       "        vertical-align: top;\n",
       "    }\n",
       "\n",
       "    .dataframe thead th {\n",
       "        text-align: right;\n",
       "    }\n",
       "</style>\n",
       "<table border=\"1\" class=\"dataframe\">\n",
       "  <thead>\n",
       "    <tr style=\"text-align: right;\">\n",
       "      <th></th>\n",
       "      <th>Date</th>\n",
       "      <th>High</th>\n",
       "      <th>Low</th>\n",
       "      <th>Open</th>\n",
       "      <th>Close</th>\n",
       "      <th>Volume</th>\n",
       "      <th>Adj Close</th>\n",
       "    </tr>\n",
       "  </thead>\n",
       "  <tbody>\n",
       "    <tr>\n",
       "      <th>0</th>\n",
       "      <td>2018-09-04</td>\n",
       "      <td>57.294998</td>\n",
       "      <td>56.657501</td>\n",
       "      <td>57.102501</td>\n",
       "      <td>57.090000</td>\n",
       "      <td>109560400.0</td>\n",
       "      <td>55.665325</td>\n",
       "    </tr>\n",
       "    <tr>\n",
       "      <th>1</th>\n",
       "      <td>2018-09-05</td>\n",
       "      <td>57.417500</td>\n",
       "      <td>56.275002</td>\n",
       "      <td>57.247501</td>\n",
       "      <td>56.717499</td>\n",
       "      <td>133332000.0</td>\n",
       "      <td>55.302128</td>\n",
       "    </tr>\n",
       "    <tr>\n",
       "      <th>2</th>\n",
       "      <td>2018-09-06</td>\n",
       "      <td>56.837502</td>\n",
       "      <td>55.325001</td>\n",
       "      <td>56.557499</td>\n",
       "      <td>55.775002</td>\n",
       "      <td>137160000.0</td>\n",
       "      <td>54.383144</td>\n",
       "    </tr>\n",
       "    <tr>\n",
       "      <th>3</th>\n",
       "      <td>2018-09-07</td>\n",
       "      <td>56.342499</td>\n",
       "      <td>55.177502</td>\n",
       "      <td>55.462502</td>\n",
       "      <td>55.325001</td>\n",
       "      <td>150479200.0</td>\n",
       "      <td>53.944374</td>\n",
       "    </tr>\n",
       "    <tr>\n",
       "      <th>4</th>\n",
       "      <td>2018-09-10</td>\n",
       "      <td>55.462502</td>\n",
       "      <td>54.117500</td>\n",
       "      <td>55.237499</td>\n",
       "      <td>54.582500</td>\n",
       "      <td>158066000.0</td>\n",
       "      <td>53.220398</td>\n",
       "    </tr>\n",
       "  </tbody>\n",
       "</table>\n",
       "</div>"
      ],
      "text/plain": [
       "        Date       High        Low       Open      Close       Volume  \\\n",
       "0 2018-09-04  57.294998  56.657501  57.102501  57.090000  109560400.0   \n",
       "1 2018-09-05  57.417500  56.275002  57.247501  56.717499  133332000.0   \n",
       "2 2018-09-06  56.837502  55.325001  56.557499  55.775002  137160000.0   \n",
       "3 2018-09-07  56.342499  55.177502  55.462502  55.325001  150479200.0   \n",
       "4 2018-09-10  55.462502  54.117500  55.237499  54.582500  158066000.0   \n",
       "\n",
       "   Adj Close  \n",
       "0  55.665325  \n",
       "1  55.302128  \n",
       "2  54.383144  \n",
       "3  53.944374  \n",
       "4  53.220398  "
      ]
     },
     "execution_count": 20,
     "metadata": {},
     "output_type": "execute_result"
    }
   ],
   "source": [
    "APPLE.head()"
   ]
  },
  {
   "cell_type": "markdown",
   "metadata": {},
   "source": [
    "### Applying Machine Learning Model for Predictions"
   ]
  },
  {
   "cell_type": "markdown",
   "metadata": {},
   "source": [
    "#### Identifying Dependent and Independent Variable"
   ]
  },
  {
   "cell_type": "code",
   "execution_count": 21,
   "metadata": {},
   "outputs": [],
   "source": [
    "X = APPLE.drop(['Date','Close','Adj Close'],axis = 1)\n",
    "Y = APPLE['Adj Close']"
   ]
  },
  {
   "cell_type": "code",
   "execution_count": 22,
   "metadata": {},
   "outputs": [
    {
     "data": {
      "text/html": [
       "<div>\n",
       "<style scoped>\n",
       "    .dataframe tbody tr th:only-of-type {\n",
       "        vertical-align: middle;\n",
       "    }\n",
       "\n",
       "    .dataframe tbody tr th {\n",
       "        vertical-align: top;\n",
       "    }\n",
       "\n",
       "    .dataframe thead th {\n",
       "        text-align: right;\n",
       "    }\n",
       "</style>\n",
       "<table border=\"1\" class=\"dataframe\">\n",
       "  <thead>\n",
       "    <tr style=\"text-align: right;\">\n",
       "      <th></th>\n",
       "      <th>High</th>\n",
       "      <th>Low</th>\n",
       "      <th>Open</th>\n",
       "      <th>Volume</th>\n",
       "    </tr>\n",
       "  </thead>\n",
       "  <tbody>\n",
       "    <tr>\n",
       "      <th>0</th>\n",
       "      <td>57.294998</td>\n",
       "      <td>56.657501</td>\n",
       "      <td>57.102501</td>\n",
       "      <td>109560400.0</td>\n",
       "    </tr>\n",
       "    <tr>\n",
       "      <th>1</th>\n",
       "      <td>57.417500</td>\n",
       "      <td>56.275002</td>\n",
       "      <td>57.247501</td>\n",
       "      <td>133332000.0</td>\n",
       "    </tr>\n",
       "    <tr>\n",
       "      <th>2</th>\n",
       "      <td>56.837502</td>\n",
       "      <td>55.325001</td>\n",
       "      <td>56.557499</td>\n",
       "      <td>137160000.0</td>\n",
       "    </tr>\n",
       "    <tr>\n",
       "      <th>3</th>\n",
       "      <td>56.342499</td>\n",
       "      <td>55.177502</td>\n",
       "      <td>55.462502</td>\n",
       "      <td>150479200.0</td>\n",
       "    </tr>\n",
       "    <tr>\n",
       "      <th>4</th>\n",
       "      <td>55.462502</td>\n",
       "      <td>54.117500</td>\n",
       "      <td>55.237499</td>\n",
       "      <td>158066000.0</td>\n",
       "    </tr>\n",
       "    <tr>\n",
       "      <th>...</th>\n",
       "      <td>...</td>\n",
       "      <td>...</td>\n",
       "      <td>...</td>\n",
       "      <td>...</td>\n",
       "    </tr>\n",
       "    <tr>\n",
       "      <th>498</th>\n",
       "      <td>126.992500</td>\n",
       "      <td>125.082497</td>\n",
       "      <td>126.180000</td>\n",
       "      <td>163022400.0</td>\n",
       "    </tr>\n",
       "    <tr>\n",
       "      <th>499</th>\n",
       "      <td>127.485001</td>\n",
       "      <td>123.832497</td>\n",
       "      <td>127.142502</td>\n",
       "      <td>155552400.0</td>\n",
       "    </tr>\n",
       "    <tr>\n",
       "      <th>500</th>\n",
       "      <td>126.442497</td>\n",
       "      <td>124.577499</td>\n",
       "      <td>126.012497</td>\n",
       "      <td>187630000.0</td>\n",
       "    </tr>\n",
       "    <tr>\n",
       "      <th>501</th>\n",
       "      <td>131.000000</td>\n",
       "      <td>126.000000</td>\n",
       "      <td>127.580002</td>\n",
       "      <td>225702700.0</td>\n",
       "    </tr>\n",
       "    <tr>\n",
       "      <th>502</th>\n",
       "      <td>134.800003</td>\n",
       "      <td>130.529999</td>\n",
       "      <td>132.759995</td>\n",
       "      <td>151948100.0</td>\n",
       "    </tr>\n",
       "  </tbody>\n",
       "</table>\n",
       "<p>503 rows × 4 columns</p>\n",
       "</div>"
      ],
      "text/plain": [
       "           High         Low        Open       Volume\n",
       "0     57.294998   56.657501   57.102501  109560400.0\n",
       "1     57.417500   56.275002   57.247501  133332000.0\n",
       "2     56.837502   55.325001   56.557499  137160000.0\n",
       "3     56.342499   55.177502   55.462502  150479200.0\n",
       "4     55.462502   54.117500   55.237499  158066000.0\n",
       "..          ...         ...         ...          ...\n",
       "498  126.992500  125.082497  126.180000  163022400.0\n",
       "499  127.485001  123.832497  127.142502  155552400.0\n",
       "500  126.442497  124.577499  126.012497  187630000.0\n",
       "501  131.000000  126.000000  127.580002  225702700.0\n",
       "502  134.800003  130.529999  132.759995  151948100.0\n",
       "\n",
       "[503 rows x 4 columns]"
      ]
     },
     "execution_count": 22,
     "metadata": {},
     "output_type": "execute_result"
    }
   ],
   "source": [
    "X"
   ]
  },
  {
   "cell_type": "code",
   "execution_count": 23,
   "metadata": {},
   "outputs": [
    {
     "data": {
      "text/plain": [
       "0       55.665325\n",
       "1       55.302128\n",
       "2       54.383144\n",
       "3       53.944374\n",
       "4       53.220398\n",
       "          ...    \n",
       "498    126.522499\n",
       "499    125.010002\n",
       "500    124.807503\n",
       "501    129.039993\n",
       "502    134.179993\n",
       "Name: Adj Close, Length: 503, dtype: float64"
      ]
     },
     "execution_count": 23,
     "metadata": {},
     "output_type": "execute_result"
    }
   ],
   "source": [
    "Y"
   ]
  },
  {
   "cell_type": "markdown",
   "metadata": {},
   "source": [
    "#### Splitting Data Into test and Train Set"
   ]
  },
  {
   "cell_type": "code",
   "execution_count": 24,
   "metadata": {},
   "outputs": [],
   "source": [
    "from sklearn.model_selection import train_test_split\n",
    "X_train, X_test, y_train, y_test = train_test_split(X, Y, test_size = 0.2, random_state = 0)"
   ]
  },
  {
   "cell_type": "markdown",
   "metadata": {},
   "source": [
    "#### Performing feature Scaling"
   ]
  },
  {
   "cell_type": "code",
   "execution_count": 25,
   "metadata": {},
   "outputs": [],
   "source": [
    "from sklearn.preprocessing import StandardScaler\n",
    "sc = StandardScaler()\n",
    "X_train = sc.fit_transform(X_train)\n",
    "X_test = sc.transform(X_test)"
   ]
  },
  {
   "cell_type": "markdown",
   "metadata": {},
   "source": [
    "#### Using Linear Regression"
   ]
  },
  {
   "cell_type": "code",
   "execution_count": 26,
   "metadata": {},
   "outputs": [
    {
     "data": {
      "text/plain": [
       "LinearRegression(copy_X=True, fit_intercept=True, n_jobs=None, normalize=False)"
      ]
     },
     "execution_count": 26,
     "metadata": {},
     "output_type": "execute_result"
    }
   ],
   "source": [
    "from sklearn.linear_model import LinearRegression\n",
    "regressor = LinearRegression()\n",
    "regressor.fit(X_train,y_train)"
   ]
  },
  {
   "cell_type": "code",
   "execution_count": 27,
   "metadata": {},
   "outputs": [],
   "source": [
    "Y_pred = regressor.predict(X_test)"
   ]
  },
  {
   "cell_type": "markdown",
   "metadata": {},
   "source": [
    "#### Evaluation for model"
   ]
  },
  {
   "cell_type": "code",
   "execution_count": 28,
   "metadata": {},
   "outputs": [],
   "source": [
    "from sklearn.metrics import mean_squared_error as mse\n",
    "from sklearn.metrics import r2_score as rs"
   ]
  },
  {
   "cell_type": "code",
   "execution_count": 29,
   "metadata": {
    "scrolled": true
   },
   "outputs": [
    {
     "name": "stdout",
     "output_type": "stream",
     "text": [
      "\n",
      "Metric                    Train                  Test         \n",
      "R_Square_Score    0.9991583705963145\t0.9990158178468171\n",
      "MSE               0.3219727583447593\t0.3467800656789843\n",
      "\n"
     ]
    }
   ],
   "source": [
    "score = f'''\n",
    "{'Metric'.ljust(18)}{'Train'.center(22)}{'Test'.center(22)}\n",
    "{'R_Square_Score'.ljust(18)}{rs(y_train,regressor.predict(X_train))}\\t{rs(y_test,regressor.predict(X_test))}\n",
    "{'MSE'.ljust(18)}{mse(y_train,regressor.predict(X_train))}\\t{mse(y_test,regressor.predict(X_test))}\n",
    "'''\n",
    "print(score)"
   ]
  },
  {
   "cell_type": "markdown",
   "metadata": {},
   "source": [
    "#### Visualization and Comparison of True And Predicted STock Prices."
   ]
  },
  {
   "cell_type": "code",
   "execution_count": 30,
   "metadata": {},
   "outputs": [],
   "source": [
    "import plotly.graph_objects as go\n",
    "trace1 = go.Scatter(x = X_train.T[0], y = y_train, mode = 'markers', name = 'TRUE')\n",
    "trace2 = go.Scatter(x = X_train.T[0], y = regressor.predict(X_train).T, mode = 'markers', name = 'PREDICTED')\n",
    "\n",
    "df = [trace1,trace2]\n",
    "layout.xaxis.title.text = ' '\n",
    "fig = go.Figure(data = df, layout = layout)"
   ]
  },
  {
   "cell_type": "code",
   "execution_count": 35,
   "metadata": {},
   "outputs": [
    {
     "data": {
      "application/vnd.plotly.v1+json": {
       "config": {
        "linkText": "Export to plot.ly",
        "plotlyServerURL": "https://plot.ly",
        "showLink": false
       },
       "data": [
        {
         "mode": "markers",
         "name": "TRUE",
         "type": "scatter",
         "x": [
          -0.3744042288643291,
          -1.0636735092065372,
          1.6170032176656575,
          -0.34684379315633096,
          0.48215100084046214,
          -1.030088201313065,
          -0.49618324398344565,
          0.1630897934523461,
          -0.6239871312880361,
          0.13347829580886075,
          -0.30390058853220897,
          -0.696926383218544,
          -0.32325716769832025,
          -0.6097582069606433,
          0.9150432116476566,
          0.5873935980547544,
          0.10630240976376215,
          -0.6110401695703314,
          -0.5755319177623274,
          0.8547944897929102,
          -0.6692376338895586,
          -0.8084502842602546,
          -0.5309223964656494,
          0.1962905516829193,
          2.721346523900581,
          -0.9907342572760302,
          0.3733187518390187,
          0.04438737123646048,
          0.4329262967888892,
          2.577134532312154,
          -0.5778394113397585,
          -0.31107930530641503,
          -0.9048480436278171,
          0.07861366043477712,
          1.5179134150577647,
          -0.5577137328478474,
          2.7168598503667063,
          -0.6564187901928095,
          0.43510567234536474,
          3.372415704794486,
          -0.7702501848119515,
          -1.0845682870242486,
          -0.3295382759257072,
          0.6088008479562896,
          -0.3872230725610782,
          0.24410497950381507,
          -0.5848898144929773,
          0.3921624677212424,
          -0.35581694462404895,
          -0.8011436450651245,
          0.740066073427044,
          -0.80204086241188,
          -0.7319217717426602,
          -0.9858632296792869,
          -0.2526252137452126,
          -1.0289345523243651,
          -0.2827495746725854,
          -0.859725659047251,
          -0.3947863389981845,
          0.7482699299689302,
          0.1425795652975347,
          -0.8930547308988118,
          0.6017506404031032,
          0.0488738491703042,
          -1.1882726855869412,
          3.1715442519384,
          0.23000417319737898,
          3.680837052842263,
          1.746601539663761,
          1.4603569320433822,
          -0.5678407289042975,
          2.4931708713784095,
          0.9305539029847051,
          0.7472445946012184,
          0.8190301975430262,
          -0.5041310600834511,
          -0.7380749575491223,
          -0.6920551600217691,
          1.0215677714716365,
          0.8610759892203607,
          -0.47105841987383495,
          -0.9804791431986241,
          0.1773189133797716,
          -0.8603666403520952,
          0.8708180444138465,
          -0.9503549778712829,
          0.8647931722283718,
          1.0452827105506353,
          0.37972817368739326,
          -1.2608273878545488,
          2.6354601146523366,
          0.5208637679726215,
          -1.2100646807514084,
          0.13758041967983584,
          1.6223869129462571,
          0.1935987040426192,
          -0.21557876328560818,
          -1.2328822068836187,
          -0.3360760113950694,
          -0.3650465277337108,
          -0.668853084226658,
          -0.7121808385136805,
          -0.5679688469252531,
          -0.6578288708234524,
          -0.5939910839816512,
          2.4497151946704627,
          -0.5539963542398042,
          -1.3232550940657068,
          -0.622064382973537,
          -0.3986318356271833,
          -0.994323517863117,
          0.20411024976196881,
          -0.026372700737603203,
          -0.7985799154457814,
          -1.1012328229500288,
          0.08489476866216371,
          -0.3167194322289581,
          0.38062558663418106,
          -0.3283846269370071,
          -0.7138473507862678,
          -0.48823562348347105,
          1.542397453462563,
          -0.3726095985707848,
          -1.033421030258208,
          -0.6410362168767166,
          -1.0649554718162246,
          -0.412989073575564,
          0.20436648580388078,
          -0.7839664414554884,
          -0.5333580080640369,
          -1.0214995995082465,
          -0.5721990888171842,
          0.5336826116693705,
          -0.9877859779937864,
          -0.3781218030724039,
          -1.03572852383564,
          0.9506795814766165,
          0.04964294849610366,
          -0.1418704120293008,
          -0.7143600184701241,
          -0.7708911661167953,
          0.7654471335785663,
          -0.8962594418229991,
          -0.9949644991679608,
          -0.1855827159792233,
          -0.4522147039916112,
          0.3312729601616849,
          0.7158382710641574,
          0.9319641792153808,
          -0.6729552080976334,
          -0.8161416687183172,
          -0.3947863389981845,
          1.706606809921914,
          -0.590786373057464,
          -0.3678666889949982,
          -0.6110401695703314,
          -0.887798958039137,
          -0.6594953830960405,
          0.3825483349486806,
          1.4477943243885445,
          -0.5919400220461634,
          -1.0835427560565047,
          -0.3692767696256419,
          -0.03598683351016504,
          -0.3874795042030218,
          0.9476031841734172,
          0.8158254866188389,
          1.2273100563244341,
          -0.6020670181026134,
          -0.41734743348845105,
          1.6518704881688184,
          0.8583837503799974,
          -0.6141167624735627,
          1.7501908002508482,
          0.8653060355122597,
          -0.7701220667909952,
          -0.6195006533541931,
          -1.0306008689969208,
          0.9233753818105307,
          0.3738316151229066,
          0.9053007652541067,
          -0.5920683356671513,
          1.8941465557973638,
          -0.8535726688408207,
          -0.6160395107880623,
          -0.6471892070831472,
          -0.631934947388043,
          -0.4092714993674885,
          -1.0507265474888323,
          -0.3494075227756744,
          -0.5889917427639203,
          -0.5488686994010851,
          -0.8894654703117246,
          -1.0200895188776027,
          -0.5155398231495569,
          0.9150432116476566,
          -0.08854417090684918,
          -0.4727249321464226,
          -0.2836469876193732,
          0.89081540928477,
          -1.221473443817514,
          0.14424607757012234,
          0.32294078999881004,
          -0.39350437638849645,
          -0.09303064884069218,
          0.3967774548761054,
          3.1875678065593362,
          -0.4361911493706748,
          -0.6032206670913132,
          -1.3631217057865979,
          3.2523028107478926,
          1.6352057566430063,
          -1.0390613527807828,
          -0.6307811027993113,
          -0.6655202552815151,
          -0.3628673477772673,
          0.8397966617397495,
          -1.0363693095404516,
          0.7874955603849773,
          -0.7585849901039018,
          -0.5847615008719893,
          -0.4004264659207269,
          0.9209397702121432,
          0.2428230168941281,
          3.2805044233607674,
          0.2774340513553763,
          -0.5478431684333416,
          0.5372718722564577,
          0.8856879500460831,
          -0.2901845274887037,
          0.4126726958760538,
          0.06964031336702715,
          -0.35222768403696175,
          -0.5370753866720801,
          0.01003276841715659,
          -0.34210088358054364,
          0.9715743592943278,
          -0.9815046741663679,
          -0.1846854986324675,
          -0.1130280137116153,
          -1.2883878235625466,
          -0.9335623239245463,
          0.3337085717600716,
          2.225385429977353,
          -0.3076181627402838,
          0.07425530052188938,
          0.9504233454347045,
          -0.9161286886729666,
          1.299736836171118,
          -1.1990404673482031,
          0.1532194246378723,
          -0.40081121118365876,
          -0.415809234836851,
          0.6330286503191761,
          -1.2849266809964155,
          -0.39170974609495285,
          -0.35671435757083636,
          2.429333280136639,
          -0.9884269592986303,
          -0.4051695710965458,
          -0.30556710080479627,
          -0.7034641186879066,
          -0.6021951361235693,
          0.2517963639618781,
          0.1416821523507462,
          0.6273883277966014,
          -0.9525341578277264,
          -0.5500225439898171,
          -0.9194615176181098,
          0.4407459948679395,
          -0.8813895361907624,
          -0.9258709394664844,
          -0.3031314892064088,
          -0.49233774735444613,
          1.316657412538778,
          -0.293261120391935,
          -0.6652638236395712,
          0.8767149941783972,
          0.8519743285316228,
          -1.2040398085659334,
          0.9136329354169809,
          0.19705965100871842,
          2.66558447557971,
          -0.821141009936048,
          0.6681521568642482,
          -0.3633800154611232,
          -1.2072445194901207,
          1.8578690090635286,
          -1.2219863071014012,
          1.2690996119598568,
          -0.5988623071784261,
          -1.0272680400517775,
          0.20436648580388078,
          -0.5902737053736085,
          0.833387239891375,
          0.3378106956310467,
          -0.6271918422122233,
          -0.17853231282600454,
          -0.3933762583675401,
          -0.664366606292815,
          -0.7739677590200267,
          0.6222608685579145,
          -0.9167696699778104,
          0.8663317620800355,
          -0.8711344221133571,
          1.3396032522919767,
          3.4859904721716526,
          -0.36273922975631173,
          0.380881822676093,
          -0.6546241598992651,
          -1.326844354652794,
          -0.9889396269824862,
          2.5976447604669644,
          0.9010707189622077,
          1.6593052453849046,
          1.4115171688547725,
          0.09002222790084984,
          -1.264801198104536,
          -1.1948102254562718,
          -0.39888826726912724,
          -0.9839402857647553,
          0.9378607377798673,
          -0.08662122699231763,
          -0.967275749838975,
          0.26282038176505157,
          -0.32864105857895104,
          0.6581534744287865,
          1.4963778515352422,
          -0.3806855326917473,
          -0.9867604470260427,
          -0.002914193300548493,
          1.7557028091524343,
          -0.3149248019354138,
          1.2001341702793362,
          -0.40850240004168903,
          -0.30197784021770907,
          -0.7317936537217041,
          0.6561024124932989,
          0.9429881970185542,
          -0.9349724045551899,
          -0.02957741166179048,
          -0.3740196792014285,
          -0.932023929672915,
          0.647001143004625,
          -0.6237308952461245,
          -0.6544960418783096,
          -0.5128477799092255,
          -0.676800900326665,
          -0.3770962721046601,
          -0.4142708405852194,
          -1.0125262524404968,
          -0.9494575649244951,
          1.7926211415910827,
          1.3247333466597402,
          -0.06829037439398139,
          0.833130612649399,
          -0.08149376775363078,
          1.4780466077368417,
          -0.7044894540556187,
          -0.12635972069225265,
          1.7633941936104973,
          -0.8679297111891698,
          -1.2271137663400884,
          0.6714851814094235,
          1.2965321252469306,
          0.8823553167009719,
          0.6220042413159386,
          -0.6635975069670156,
          -0.48221075129799645,
          1.707632145289625,
          -1.0093215415163095,
          0.46394807066305027,
          -0.37901902041915936,
          -1.0730312103371553,
          0.5335542980483825,
          -0.31774496319670187,
          -0.5051565910511953,
          0.6261063651869136,
          2.602772219705652,
          -0.7730703460732389,
          2.719039225923182,
          -0.4149118218900636,
          -0.718974810024955,
          0.09579086404441325,
          -0.0427808050214395,
          -1.2573662452884176,
          1.857997322684516,
          -1.0189356742888713,
          -1.2501877241142432,
          -0.0370123644779088,
          -0.49233774735444613,
          -0.2771092521500107,
          -0.6479585020089794,
          -0.373122461854673,
          0.9145303483637687,
          -0.7494837206152282,
          -0.5457923020978858,
          0.3683196062213198,
          -0.7185902603620551,
          -1.0134236653872846,
          -0.5375882499559675,
          -0.802169176032868
         ],
         "y": [
          55.14535903930664,
          40.47835922241211,
          93.0846710205078,
          53.88830947875977,
          71.60919952392578,
          41.86553192138672,
          52.07333755493164,
          65.66448974609375,
          49.90109634399414,
          65.10087585449219,
          55.18999099731445,
          46.93351364135742,
          54.56352615356445,
          49.70363235473633,
          79.41930389404297,
          72.83366394042969,
          64.41311645507811,
          49.75294876098633,
          51.11781311035156,
          79.13655090332031,
          47.49626922607422,
          45.82312774658203,
          51.70853805541992,
          66.21853637695311,
          114.60749816894531,
          42.62116241455078,
          69.52535247802734,
          63.41618347167969,
          69.33197021484375,
          113.01000213623048,
          50.919776916503906,
          56.19989395141602,
          43.29139709472656,
          63.65097045898438,
          90.8636703491211,
          50.5385627746582,
          115.5625,
          49.02052307128906,
          68.07266235351561,
          125.85749816894531,
          46.821144104003906,
          39.3555908203125,
          52.74018478393555,
          72.90086364746094,
          53.22039794921875,
          67.22869873046875,
          50.31274795532226,
          69.38134765625,
          54.56597137451172,
          46.361122131347656,
          77.2457275390625,
          46.22355651855469,
          47.81462097167969,
          42.98328018188477,
          55.57513427734375,
          41.2488899230957,
          55.88958740234375,
          45.015621185302734,
          53.82005310058594,
          76.87713623046875,
          64.99659729003906,
          43.220458984375,
          71.94268798828125,
          61.6566276550293,
          38.58506774902344,
          124.37000274658205,
          61.77857971191406,
          134.17999267578122,
          92.67790222167969,
          91.03585815429688,
          50.42927169799805,
          108.74143981933594,
          79.715087890625,
          77.39295959472656,
          76.7740707397461,
          52.07086181640625,
          45.69348526000977,
          48.58156204223633,
          82.72584533691406,
          79.57902526855469,
          51.71653366088867,
          42.62116241455078,
          65.94008636474611,
          45.20915222167969,
          78.88082122802734,
          42.736976623535156,
          79.66387176513672,
          83.21495819091797,
          68.92132568359375,
          37.251930236816406,
          113.69750213623048,
          72.38065338134766,
          38.12519454956055,
          65.04128265380861,
          93.00481414794922,
          65.61978912353516,
          58.01686096191406,
          37.9001579284668,
          55.02667236328125,
          54.20221328735352,
          48.79611587524414,
          47.98986053466797,
          50.96971893310547,
          49.28448486328125,
          50.87770080566406,
          109.4676284790039,
          51.21538543701172,
          36.18542861938477,
          50.1672477722168,
          54.66264343261719,
          41.21464538574219,
          66.50121307373047,
          61.39033126831055,
          46.29970932006836,
          40.42210388183594,
          64.31961059570311,
          54.38314437866211,
          68.44846343994139,
          54.83409881591797,
          48.0733757019043,
          52.79616165161133,
          91.46758270263672,
          54.15156555175781,
          41.990814208984375,
          49.627601623535156,
          40.732757568359375,
          54.14280319213867,
          66.35472869873047,
          46.60871505737305,
          51.67231369018555,
          42.02275466918945,
          49.83477401733398,
          72.9605941772461,
          42.95872116088867,
          53.897727966308594,
          41.958885192871094,
          80.85246276855469,
          63.3266830444336,
          59.536781311035156,
          47.92597961425781,
          46.89230346679688,
          76.70829772949219,
          44.13524627685547,
          42.37650680541992,
          58.52185821533203,
          53.64276123046875,
          68.71475982666016,
          76.78904724121094,
          79.81189727783203,
          49.08464050292969,
          46.18916320800781,
          53.45928192138672,
          96.01688385009766,
          50.26467895507813,
          53.78592300415039,
          49.13983154296875,
          43.9200439453125,
          49.18821716308594,
          69.45583343505861,
          91.04584503173828,
          50.71718215942383,
          40.62268829345703,
          54.29294967651367,
          61.65081024169922,
          52.98394775390625,
          80.87237548828125,
          78.27001953125,
          84.54755401611328,
          50.14751815795898,
          52.27460861206055,
          94.86894989013672,
          78.60025024414062,
          50.0804328918457,
          96.15412902832031,
          79.26069641113281,
          46.36603164672852,
          50.11792755126953,
          41.8897705078125,
          80.4127426147461,
          68.54801177978516,
          76.84734344482422,
          50.60620880126953,
          95.3056640625,
          45.676536560058594,
          50.13519287109375,
          49.25727081298828,
          49.75384902954102,
          54.43490219116211,
          41.48616409301758,
          54.546470642089844,
          50.43111801147461,
          51.05257034301758,
          44.44251251220703,
          41.80656814575195,
          52.01869583129883,
          80.68951416015625,
          60.9572868347168,
          51.99428176879883,
          56.20731735229492,
          80.02619171142578,
          38.19613265991211,
          64.98666381835939,
          66.79094696044922,
          53.05708312988281,
          60.2967414855957,
          70.42454528808594,
          124.8249969482422,
          51.4002799987793,
          50.18852233886719,
          34.78135299682617,
          124.80750274658205,
          94.6393585205078,
          41.98099136352539,
          49.00934600830078,
          48.85457992553711,
          53.7298583984375,
          77.63440704345703,
          41.62232208251953,
          76.63629913330078,
          45.88699722290039,
          50.18952560424805,
          54.63294219970703,
          79.54336547851562,
          67.21379852294922,
          126.52249908447266,
          68.00547027587889,
          51.73915100097656,
          71.95359802246094,
          79.34194946289062,
          55.39718627929688,
          70.51353454589844,
          63.67819213867188,
          55.4424057006836,
          51.48659133911133,
          60.91995239257813,
          53.944374084472656,
          80.52943420410156,
          42.87274169921875,
          58.25203323364258,
          60.19772720336914,
          35.91635513305664,
          43.97002029418945,
          66.24342346191406,
          106.06875610351562,
          55.5488510131836,
          63.7425537109375,
          81.13371276855469,
          43.95275497436523,
          87.77424621582031,
          38.21570205688477,
          65.05370330810547,
          54.15023040771485,
          53.23014450073242,
          74.36673736572266,
          36.87522888183594,
          54.71462631225586,
          52.43061447143555,
          109.86441040039062,
          42.714111328125,
          53.34959411621094,
          55.59588623046875,
          47.02172470092773,
          50.36452865600586,
          64.56599426269531,
          65.32257843017578,
          74.05564880371094,
          43.19947052001953,
          51.45947265625,
          43.682777404785156,
          71.0143814086914,
          44.6390380859375,
          44.30046844482422,
          54.67321395874024,
          50.57558822631836,
          88.05123901367188,
          55.66532516479492,
          48.9712028503418,
          77.9107437133789,
          78.14411163330078,
          38.58996200561523,
          79.03226470947266,
          66.31748962402344,
          114.90750122070312,
          46.0168571472168,
          74.20994567871094,
          55.34834289550781,
          38.360023498535156,
          97.5491180419922,
          37.49898910522461,
          83.82386016845703,
          49.8445930480957,
          41.363853454589844,
          66.11637115478516,
          50.0157699584961,
          78.69707489013672,
          68.0328369140625,
          49.99462127685547,
          58.38817977905274,
          52.53713989257813,
          49.15674209594727,
          46.98019409179688,
          74.57303619384766,
          44.30540084838867,
          79.16633605957031,
          45.13527297973633,
          87.27264404296875,
          129.03999328613278,
          54.697303771972656,
          69.6221923828125,
          49.27206802368164,
          36.26614379882813,
          42.53618240356445,
          111.1125030517578,
          80.31768798828125,
          95.17090606689452,
          90.28221893310548,
          60.28034591674805,
          37.44273376464844,
          38.62909698486328,
          54.43243026733398,
          42.8260612487793,
          80.74544525146484,
          60.21752548217773,
          42.1441650390625,
          67.40001678466797,
          55.22456741333008,
          75.3448257446289,
          89.85299682617188,
          54.16862869262695,
          42.606483459472656,
          57.05241775512695,
          96.88282012939452,
          56.19494247436523,
          85.59317016601562,
          52.72556686401367,
          55.84038543701172,
          47.3397216796875,
          74.81969451904297,
          80.43497467041016,
          43.94873046875,
          60.224952697753906,
          54.14181900024414,
          43.74313735961914,
          71.69629669189453,
          49.29677200317383,
          48.87423324584961,
          50.16230010986328,
          48.228919982910156,
          53.91756057739258,
          52.65730667114258,
          42.47722625732422,
          43.17347717285156,
          97.0974349975586,
          87.73930358886719,
          61.03937530517578,
          78.61076354980469,
          60.08124160766602,
          90.8636703491211,
          48.39519119262695,
          59.400634765625,
          96.3487777709961,
          45.15126419067383,
          38.232826232910156,
          75.27816009521484,
          87.86157989501953,
          79.06993865966797,
          73.84803009033203,
          48.93914413452149,
          52.59318161010742,
          95.58016967773438,
          42.261043548583984,
          71.43995666503906,
          53.8853530883789,
          40.101661682128906,
          72.90950012207031,
          55.30212783813477,
          51.37997436523438,
          74.08639526367188,
          112.72750091552734,
          47.08219528198242,
          115.01000213623048,
          51.73589324951172,
          47.88860321044922,
          64.4180908203125,
          59.95680618286133,
          37.62129974365234,
          96.82542419433594,
          41.81638717651367,
          37.50143432617188,
          61.57902145385742,
          52.63773727416992,
          56.957374572753906,
          49.62718200683594,
          53.11071014404297,
          79.64789581298828,
          47.53102111816406,
          51.7837142944336,
          69.48561859130861,
          48.0414924621582,
          42.49196243286133,
          50.99911117553711,
          45.799842834472656
         ]
        },
        {
         "mode": "markers",
         "name": "PREDICTED",
         "type": "scatter",
         "x": [
          -0.3744042288643291,
          -1.0636735092065372,
          1.6170032176656575,
          -0.34684379315633096,
          0.48215100084046214,
          -1.030088201313065,
          -0.49618324398344565,
          0.1630897934523461,
          -0.6239871312880361,
          0.13347829580886075,
          -0.30390058853220897,
          -0.696926383218544,
          -0.32325716769832025,
          -0.6097582069606433,
          0.9150432116476566,
          0.5873935980547544,
          0.10630240976376215,
          -0.6110401695703314,
          -0.5755319177623274,
          0.8547944897929102,
          -0.6692376338895586,
          -0.8084502842602546,
          -0.5309223964656494,
          0.1962905516829193,
          2.721346523900581,
          -0.9907342572760302,
          0.3733187518390187,
          0.04438737123646048,
          0.4329262967888892,
          2.577134532312154,
          -0.5778394113397585,
          -0.31107930530641503,
          -0.9048480436278171,
          0.07861366043477712,
          1.5179134150577647,
          -0.5577137328478474,
          2.7168598503667063,
          -0.6564187901928095,
          0.43510567234536474,
          3.372415704794486,
          -0.7702501848119515,
          -1.0845682870242486,
          -0.3295382759257072,
          0.6088008479562896,
          -0.3872230725610782,
          0.24410497950381507,
          -0.5848898144929773,
          0.3921624677212424,
          -0.35581694462404895,
          -0.8011436450651245,
          0.740066073427044,
          -0.80204086241188,
          -0.7319217717426602,
          -0.9858632296792869,
          -0.2526252137452126,
          -1.0289345523243651,
          -0.2827495746725854,
          -0.859725659047251,
          -0.3947863389981845,
          0.7482699299689302,
          0.1425795652975347,
          -0.8930547308988118,
          0.6017506404031032,
          0.0488738491703042,
          -1.1882726855869412,
          3.1715442519384,
          0.23000417319737898,
          3.680837052842263,
          1.746601539663761,
          1.4603569320433822,
          -0.5678407289042975,
          2.4931708713784095,
          0.9305539029847051,
          0.7472445946012184,
          0.8190301975430262,
          -0.5041310600834511,
          -0.7380749575491223,
          -0.6920551600217691,
          1.0215677714716365,
          0.8610759892203607,
          -0.47105841987383495,
          -0.9804791431986241,
          0.1773189133797716,
          -0.8603666403520952,
          0.8708180444138465,
          -0.9503549778712829,
          0.8647931722283718,
          1.0452827105506353,
          0.37972817368739326,
          -1.2608273878545488,
          2.6354601146523366,
          0.5208637679726215,
          -1.2100646807514084,
          0.13758041967983584,
          1.6223869129462571,
          0.1935987040426192,
          -0.21557876328560818,
          -1.2328822068836187,
          -0.3360760113950694,
          -0.3650465277337108,
          -0.668853084226658,
          -0.7121808385136805,
          -0.5679688469252531,
          -0.6578288708234524,
          -0.5939910839816512,
          2.4497151946704627,
          -0.5539963542398042,
          -1.3232550940657068,
          -0.622064382973537,
          -0.3986318356271833,
          -0.994323517863117,
          0.20411024976196881,
          -0.026372700737603203,
          -0.7985799154457814,
          -1.1012328229500288,
          0.08489476866216371,
          -0.3167194322289581,
          0.38062558663418106,
          -0.3283846269370071,
          -0.7138473507862678,
          -0.48823562348347105,
          1.542397453462563,
          -0.3726095985707848,
          -1.033421030258208,
          -0.6410362168767166,
          -1.0649554718162246,
          -0.412989073575564,
          0.20436648580388078,
          -0.7839664414554884,
          -0.5333580080640369,
          -1.0214995995082465,
          -0.5721990888171842,
          0.5336826116693705,
          -0.9877859779937864,
          -0.3781218030724039,
          -1.03572852383564,
          0.9506795814766165,
          0.04964294849610366,
          -0.1418704120293008,
          -0.7143600184701241,
          -0.7708911661167953,
          0.7654471335785663,
          -0.8962594418229991,
          -0.9949644991679608,
          -0.1855827159792233,
          -0.4522147039916112,
          0.3312729601616849,
          0.7158382710641574,
          0.9319641792153808,
          -0.6729552080976334,
          -0.8161416687183172,
          -0.3947863389981845,
          1.706606809921914,
          -0.590786373057464,
          -0.3678666889949982,
          -0.6110401695703314,
          -0.887798958039137,
          -0.6594953830960405,
          0.3825483349486806,
          1.4477943243885445,
          -0.5919400220461634,
          -1.0835427560565047,
          -0.3692767696256419,
          -0.03598683351016504,
          -0.3874795042030218,
          0.9476031841734172,
          0.8158254866188389,
          1.2273100563244341,
          -0.6020670181026134,
          -0.41734743348845105,
          1.6518704881688184,
          0.8583837503799974,
          -0.6141167624735627,
          1.7501908002508482,
          0.8653060355122597,
          -0.7701220667909952,
          -0.6195006533541931,
          -1.0306008689969208,
          0.9233753818105307,
          0.3738316151229066,
          0.9053007652541067,
          -0.5920683356671513,
          1.8941465557973638,
          -0.8535726688408207,
          -0.6160395107880623,
          -0.6471892070831472,
          -0.631934947388043,
          -0.4092714993674885,
          -1.0507265474888323,
          -0.3494075227756744,
          -0.5889917427639203,
          -0.5488686994010851,
          -0.8894654703117246,
          -1.0200895188776027,
          -0.5155398231495569,
          0.9150432116476566,
          -0.08854417090684918,
          -0.4727249321464226,
          -0.2836469876193732,
          0.89081540928477,
          -1.221473443817514,
          0.14424607757012234,
          0.32294078999881004,
          -0.39350437638849645,
          -0.09303064884069218,
          0.3967774548761054,
          3.1875678065593362,
          -0.4361911493706748,
          -0.6032206670913132,
          -1.3631217057865979,
          3.2523028107478926,
          1.6352057566430063,
          -1.0390613527807828,
          -0.6307811027993113,
          -0.6655202552815151,
          -0.3628673477772673,
          0.8397966617397495,
          -1.0363693095404516,
          0.7874955603849773,
          -0.7585849901039018,
          -0.5847615008719893,
          -0.4004264659207269,
          0.9209397702121432,
          0.2428230168941281,
          3.2805044233607674,
          0.2774340513553763,
          -0.5478431684333416,
          0.5372718722564577,
          0.8856879500460831,
          -0.2901845274887037,
          0.4126726958760538,
          0.06964031336702715,
          -0.35222768403696175,
          -0.5370753866720801,
          0.01003276841715659,
          -0.34210088358054364,
          0.9715743592943278,
          -0.9815046741663679,
          -0.1846854986324675,
          -0.1130280137116153,
          -1.2883878235625466,
          -0.9335623239245463,
          0.3337085717600716,
          2.225385429977353,
          -0.3076181627402838,
          0.07425530052188938,
          0.9504233454347045,
          -0.9161286886729666,
          1.299736836171118,
          -1.1990404673482031,
          0.1532194246378723,
          -0.40081121118365876,
          -0.415809234836851,
          0.6330286503191761,
          -1.2849266809964155,
          -0.39170974609495285,
          -0.35671435757083636,
          2.429333280136639,
          -0.9884269592986303,
          -0.4051695710965458,
          -0.30556710080479627,
          -0.7034641186879066,
          -0.6021951361235693,
          0.2517963639618781,
          0.1416821523507462,
          0.6273883277966014,
          -0.9525341578277264,
          -0.5500225439898171,
          -0.9194615176181098,
          0.4407459948679395,
          -0.8813895361907624,
          -0.9258709394664844,
          -0.3031314892064088,
          -0.49233774735444613,
          1.316657412538778,
          -0.293261120391935,
          -0.6652638236395712,
          0.8767149941783972,
          0.8519743285316228,
          -1.2040398085659334,
          0.9136329354169809,
          0.19705965100871842,
          2.66558447557971,
          -0.821141009936048,
          0.6681521568642482,
          -0.3633800154611232,
          -1.2072445194901207,
          1.8578690090635286,
          -1.2219863071014012,
          1.2690996119598568,
          -0.5988623071784261,
          -1.0272680400517775,
          0.20436648580388078,
          -0.5902737053736085,
          0.833387239891375,
          0.3378106956310467,
          -0.6271918422122233,
          -0.17853231282600454,
          -0.3933762583675401,
          -0.664366606292815,
          -0.7739677590200267,
          0.6222608685579145,
          -0.9167696699778104,
          0.8663317620800355,
          -0.8711344221133571,
          1.3396032522919767,
          3.4859904721716526,
          -0.36273922975631173,
          0.380881822676093,
          -0.6546241598992651,
          -1.326844354652794,
          -0.9889396269824862,
          2.5976447604669644,
          0.9010707189622077,
          1.6593052453849046,
          1.4115171688547725,
          0.09002222790084984,
          -1.264801198104536,
          -1.1948102254562718,
          -0.39888826726912724,
          -0.9839402857647553,
          0.9378607377798673,
          -0.08662122699231763,
          -0.967275749838975,
          0.26282038176505157,
          -0.32864105857895104,
          0.6581534744287865,
          1.4963778515352422,
          -0.3806855326917473,
          -0.9867604470260427,
          -0.002914193300548493,
          1.7557028091524343,
          -0.3149248019354138,
          1.2001341702793362,
          -0.40850240004168903,
          -0.30197784021770907,
          -0.7317936537217041,
          0.6561024124932989,
          0.9429881970185542,
          -0.9349724045551899,
          -0.02957741166179048,
          -0.3740196792014285,
          -0.932023929672915,
          0.647001143004625,
          -0.6237308952461245,
          -0.6544960418783096,
          -0.5128477799092255,
          -0.676800900326665,
          -0.3770962721046601,
          -0.4142708405852194,
          -1.0125262524404968,
          -0.9494575649244951,
          1.7926211415910827,
          1.3247333466597402,
          -0.06829037439398139,
          0.833130612649399,
          -0.08149376775363078,
          1.4780466077368417,
          -0.7044894540556187,
          -0.12635972069225265,
          1.7633941936104973,
          -0.8679297111891698,
          -1.2271137663400884,
          0.6714851814094235,
          1.2965321252469306,
          0.8823553167009719,
          0.6220042413159386,
          -0.6635975069670156,
          -0.48221075129799645,
          1.707632145289625,
          -1.0093215415163095,
          0.46394807066305027,
          -0.37901902041915936,
          -1.0730312103371553,
          0.5335542980483825,
          -0.31774496319670187,
          -0.5051565910511953,
          0.6261063651869136,
          2.602772219705652,
          -0.7730703460732389,
          2.719039225923182,
          -0.4149118218900636,
          -0.718974810024955,
          0.09579086404441325,
          -0.0427808050214395,
          -1.2573662452884176,
          1.857997322684516,
          -1.0189356742888713,
          -1.2501877241142432,
          -0.0370123644779088,
          -0.49233774735444613,
          -0.2771092521500107,
          -0.6479585020089794,
          -0.373122461854673,
          0.9145303483637687,
          -0.7494837206152282,
          -0.5457923020978858,
          0.3683196062213198,
          -0.7185902603620551,
          -1.0134236653872846,
          -0.5375882499559675,
          -0.802169176032868
         ],
         "y": [
          54.6359476919876,
          40.55371594195893,
          93.59496391754212,
          54.43180358180522,
          71.53487905073722,
          41.73683836844131,
          52.377361560104355,
          65.48429360117012,
          49.6998285332818,
          64.92185905726834,
          55.89295146020109,
          47.54671724183291,
          55.331471266626345,
          49.81413241532462,
          79.9827140630831,
          73.3623816097712,
          64.36129059705921,
          50.02423050124861,
          50.803653601516636,
          78.94718647338146,
          47.97558327297319,
          45.89217377818953,
          51.84243989999189,
          65.70190255815663,
          114.74149636380383,
          42.42124414145029,
          69.65526545410947,
          62.71952073401981,
          69.68009489876789,
          112.70426894406552,
          50.59422763028958,
          56.03059412920073,
          43.51348010655789,
          63.844547358853994,
          91.57664612636835,
          50.54909405890785,
          115.68510475344794,
          49.04491550556133,
          68.90094724520873,
          125.22128642175895,
          46.57563259054347,
          39.42315408665954,
          53.995287740842905,
          73.38265670691058,
          53.78384768049793,
          67.15040115901851,
          49.965572912913224,
          69.16638196543127,
          54.751819593038206,
          46.308818048205076,
          76.19037498217318,
          46.077394312091016,
          47.789043304501966,
          42.604486569174064,
          56.556671599061026,
          41.01493536374837,
          56.597296910860784,
          44.75635604705585,
          54.35887877051585,
          76.7850759975281,
          64.97566573867624,
          43.68906349907067,
          73.43303746410251,
          62.00675811994917,
          38.40475376062099,
          123.77390816528288,
          64.27257844544212,
          133.22324679328844,
          93.13735869472931,
          91.00226144168185,
          50.87901276006823,
          110.568543246804,
          79.95672467490205,
          76.70794358137832,
          76.63802265335687,
          52.249685895068225,
          46.039054383497046,
          48.14444572622928,
          82.19610567867315,
          79.29187837902063,
          52.43245472938318,
          42.61487012878235,
          65.7056406462282,
          44.6488515060265,
          79.38176486553729,
          42.401234735415116,
          79.38456261458786,
          82.45427437246654,
          69.52675269431435,
          37.15534967277795,
          113.26496835942667,
          71.73657889717288,
          38.09940973444159,
          65.01210733046922,
          93.81306918748851,
          65.42832774823047,
          58.09947627542787,
          37.83075586251417,
          55.60451496429641,
          54.15772189465037,
          48.769225517297805,
          48.17662665682529,
          50.94994912207521,
          49.24515247965323,
          50.52199626307345,
          109.96594138073019,
          51.05274192228307,
          35.47180172835188,
          49.79780660972442,
          53.78645836461228,
          41.60148046369001,
          66.3866397456485,
          60.57438348088916,
          46.12734443481254,
          39.65469218951047,
          63.24448059821951,
          55.12730657892831,
          69.47573007944558,
          55.720703636167755,
          47.9642810535975,
          52.59322632515196,
          92.07124251344742,
          54.43736711956634,
          41.89332434341752,
          49.56052726470685,
          41.00027210863395,
          54.01915262392104,
          66.39319010514743,
          46.63527114413408,
          51.339609560122724,
          41.95828492975013,
          49.99124966052838,
          72.20968055058003,
          42.67820753096477,
          53.93464935861597,
          41.813377447849646,
          81.02878150523739,
          62.960867352206236,
          59.45581636041479,
          47.760998294026415,
          46.74046045725277,
          76.44167556148564,
          44.31242029592693,
          42.361029257755874,
          58.5736052811431,
          52.89593349251423,
          68.50917649046843,
          76.1191663083309,
          79.95707791672943,
          48.559396662052045,
          46.141272462977625,
          54.292121796082526,
          95.43427966604108,
          50.58395280732907,
          54.80084585976883,
          48.87680629246021,
          43.7969000511121,
          48.955321833891034,
          69.76103817306475,
          90.26646915862479,
          50.61968570984182,
          40.62459798632487,
          54.47007469467689,
          61.516843937930126,
          53.965523835913544,
          80.83739174199765,
          78.2047818025683,
          84.46976816406456,
          50.40237390841957,
          53.319833614884985,
          94.87777292041163,
          79.11393729138041,
          50.119852509924335,
          96.23878941226377,
          79.07198864158477,
          46.106139903262616,
          50.08058032307827,
          41.75543520473781,
          80.18176149144126,
          68.34385256260519,
          77.75671769705917,
          50.67280184734604,
          97.80407444064033,
          45.26703151529021,
          50.17380118205257,
          49.45660235928165,
          49.48319374564379,
          54.21828165748647,
          40.7988159201919,
          54.98939973348743,
          50.56102437854794,
          51.23340629097788,
          44.52245595724071,
          41.92791170598373,
          52.090343607578326,
          80.12530247043549,
          59.70033142002844,
          52.451853359872835,
          56.5289666331271,
          79.66764567535672,
          36.91465044455484,
          65.18216319071072,
          66.62403179191134,
          53.42068781042135,
          60.13894775582661,
          69.94364937977156,
          124.05339866334253,
          52.060065064493756,
          50.01691552681343,
          34.47996650101372,
          125.54653999772682,
          94.39734981193129,
          41.760378115765974,
          49.54213861351617,
          48.6359223809446,
          54.901779325726594,
          78.07266265634392,
          41.597973998077066,
          77.09049989439033,
          45.8532151396254,
          50.50998590528146,
          54.36100618163136,
          79.76915104025396,
          67.04084943551574,
          126.33311286259678,
          67.16804245726136,
          51.23720139827795,
          72.30417177638294,
          79.27504205737434,
          56.335697528463356,
          70.41423263049782,
          63.569553249778195,
          55.264268643919394,
          51.39682359936958,
          61.172144833629616,
          55.191864052812605,
          80.73419238901621,
          42.854304058242576,
          58.46508088374834,
          60.02866188741348,
          36.37944049360414,
          43.67815474533525,
          67.89831445060744,
          103.8227366157648,
          55.94238779125812,
          63.51549246373326,
          80.74577898263121,
          44.00401989163227,
          87.68839967847966,
          37.96020509285962,
          64.95010339183165,
          53.795438709208206,
          53.53995329676602,
          72.79856291392593,
          36.566181943971344,
          54.30597729824358,
          53.681589271742695,
          109.97301085201848,
          41.93447451291347,
          54.09757175250186,
          56.00388051975796,
          48.04871082496754,
          50.40539030933766,
          65.0000437210965,
          64.21198087412421,
          74.3906893632422,
          43.13778017639719,
          51.45835651132835,
          43.506173280518816,
          68.94993443801566,
          44.63721215654098,
          43.681363422073744,
          54.97872501798323,
          51.224947633603904,
          87.74096276534206,
          56.24396651855784,
          49.16860009151111,
          78.15826599463136,
          78.77574360953547,
          38.186111001995414,
          79.79798760140662,
          65.99991046210667,
          113.75547969791796,
          45.92274218870471,
          73.63524288749004,
          54.77118737642983,
          38.15707881386798,
          97.23520562365647,
          37.47343667146686,
          84.7383981534889,
          50.379727791508635,
          41.681842717843885,
          66.06015741876466,
          50.03989015237476,
          78.56488745033282,
          67.37586149396155,
          49.987305446549286,
          58.71728684363767,
          53.13118319037646,
          49.08198310103319,
          46.477825881902305,
          74.3009487203692,
          43.785986754262645,
          79.01793826723394,
          44.93430515277979,
          86.80973331771169,
          129.45338402117545,
          54.89034162875852,
          69.71043618673859,
          49.237296191936586,
          35.578346294098125,
          42.536450414102696,
          111.45815434457423,
          80.01220572092332,
          94.9862816888245,
          89.56674907690547,
          62.654465082587905,
          37.1724240818388,
          38.37522198148626,
          54.32281004798014,
          42.83515426314666,
          80.4541668358776,
          59.99098299113234,
          42.68590466031728,
          67.2680140005035,
          55.437875850026224,
          74.31488157136313,
          90.52578135346815,
          54.074195783771025,
          42.60990812006813,
          58.036658480336534,
          95.9251203649013,
          55.715908714541996,
          85.44584673351375,
          53.380736285127746,
          53.11606234643183,
          47.45385805291017,
          74.92963875974107,
          80.41372460116908,
          43.671842236477296,
          60.54723202597248,
          54.13503951300011,
          43.73725532364198,
          72.18481830585046,
          49.168672585732565,
          49.05017956564482,
          50.43034519087411,
          48.44116795350159,
          54.419097597884225,
          53.186761203049116,
          42.111292166152055,
          43.304170753578255,
          97.66513144535836,
          87.88456475826693,
          60.92040478109527,
          78.28503548564001,
          59.92359053427516,
          91.36585485890254,
          48.40541889775959,
          59.634515643226635,
          96.70418644509553,
          44.501905489271024,
          37.70152317534464,
          75.3446964160425,
          86.66430763662626,
          79.2901641444814,
          74.39114550362765,
          48.93192659223921,
          52.39697017500073,
          95.0228377270517,
          42.30132570823204,
          70.70802741119613,
          54.103527626656124,
          40.39825373927819,
          72.75666445794856,
          55.70558498750941,
          51.93203221638633,
          74.33517614659598,
          111.63584239727237,
          46.81667865579036,
          115.41708651765111,
          51.60851371889266,
          48.05119271165769,
          63.875954123662126,
          59.97677339579279,
          37.07712979790969,
          97.41747732273652,
          41.931674992770496,
          37.06380989752092,
          59.69230860167548,
          52.422971884684245,
          56.69136882473311,
          49.458303205682526,
          54.011491807386086,
          79.66047901874661,
          47.314349067999984,
          51.42200299118952,
          69.50149551142891,
          47.90228600470308,
          42.30761453481841,
          51.18016940261306,
          45.31725581212437
         ]
        }
       ],
       "layout": {
        "template": {
         "data": {
          "bar": [
           {
            "error_x": {
             "color": "#2a3f5f"
            },
            "error_y": {
             "color": "#2a3f5f"
            },
            "marker": {
             "line": {
              "color": "#E5ECF6",
              "width": 0.5
             }
            },
            "type": "bar"
           }
          ],
          "barpolar": [
           {
            "marker": {
             "line": {
              "color": "#E5ECF6",
              "width": 0.5
             }
            },
            "type": "barpolar"
           }
          ],
          "carpet": [
           {
            "aaxis": {
             "endlinecolor": "#2a3f5f",
             "gridcolor": "white",
             "linecolor": "white",
             "minorgridcolor": "white",
             "startlinecolor": "#2a3f5f"
            },
            "baxis": {
             "endlinecolor": "#2a3f5f",
             "gridcolor": "white",
             "linecolor": "white",
             "minorgridcolor": "white",
             "startlinecolor": "#2a3f5f"
            },
            "type": "carpet"
           }
          ],
          "choropleth": [
           {
            "colorbar": {
             "outlinewidth": 0,
             "ticks": ""
            },
            "type": "choropleth"
           }
          ],
          "contour": [
           {
            "colorbar": {
             "outlinewidth": 0,
             "ticks": ""
            },
            "colorscale": [
             [
              0,
              "#0d0887"
             ],
             [
              0.1111111111111111,
              "#46039f"
             ],
             [
              0.2222222222222222,
              "#7201a8"
             ],
             [
              0.3333333333333333,
              "#9c179e"
             ],
             [
              0.4444444444444444,
              "#bd3786"
             ],
             [
              0.5555555555555556,
              "#d8576b"
             ],
             [
              0.6666666666666666,
              "#ed7953"
             ],
             [
              0.7777777777777778,
              "#fb9f3a"
             ],
             [
              0.8888888888888888,
              "#fdca26"
             ],
             [
              1,
              "#f0f921"
             ]
            ],
            "type": "contour"
           }
          ],
          "contourcarpet": [
           {
            "colorbar": {
             "outlinewidth": 0,
             "ticks": ""
            },
            "type": "contourcarpet"
           }
          ],
          "heatmap": [
           {
            "colorbar": {
             "outlinewidth": 0,
             "ticks": ""
            },
            "colorscale": [
             [
              0,
              "#0d0887"
             ],
             [
              0.1111111111111111,
              "#46039f"
             ],
             [
              0.2222222222222222,
              "#7201a8"
             ],
             [
              0.3333333333333333,
              "#9c179e"
             ],
             [
              0.4444444444444444,
              "#bd3786"
             ],
             [
              0.5555555555555556,
              "#d8576b"
             ],
             [
              0.6666666666666666,
              "#ed7953"
             ],
             [
              0.7777777777777778,
              "#fb9f3a"
             ],
             [
              0.8888888888888888,
              "#fdca26"
             ],
             [
              1,
              "#f0f921"
             ]
            ],
            "type": "heatmap"
           }
          ],
          "heatmapgl": [
           {
            "colorbar": {
             "outlinewidth": 0,
             "ticks": ""
            },
            "colorscale": [
             [
              0,
              "#0d0887"
             ],
             [
              0.1111111111111111,
              "#46039f"
             ],
             [
              0.2222222222222222,
              "#7201a8"
             ],
             [
              0.3333333333333333,
              "#9c179e"
             ],
             [
              0.4444444444444444,
              "#bd3786"
             ],
             [
              0.5555555555555556,
              "#d8576b"
             ],
             [
              0.6666666666666666,
              "#ed7953"
             ],
             [
              0.7777777777777778,
              "#fb9f3a"
             ],
             [
              0.8888888888888888,
              "#fdca26"
             ],
             [
              1,
              "#f0f921"
             ]
            ],
            "type": "heatmapgl"
           }
          ],
          "histogram": [
           {
            "marker": {
             "colorbar": {
              "outlinewidth": 0,
              "ticks": ""
             }
            },
            "type": "histogram"
           }
          ],
          "histogram2d": [
           {
            "colorbar": {
             "outlinewidth": 0,
             "ticks": ""
            },
            "colorscale": [
             [
              0,
              "#0d0887"
             ],
             [
              0.1111111111111111,
              "#46039f"
             ],
             [
              0.2222222222222222,
              "#7201a8"
             ],
             [
              0.3333333333333333,
              "#9c179e"
             ],
             [
              0.4444444444444444,
              "#bd3786"
             ],
             [
              0.5555555555555556,
              "#d8576b"
             ],
             [
              0.6666666666666666,
              "#ed7953"
             ],
             [
              0.7777777777777778,
              "#fb9f3a"
             ],
             [
              0.8888888888888888,
              "#fdca26"
             ],
             [
              1,
              "#f0f921"
             ]
            ],
            "type": "histogram2d"
           }
          ],
          "histogram2dcontour": [
           {
            "colorbar": {
             "outlinewidth": 0,
             "ticks": ""
            },
            "colorscale": [
             [
              0,
              "#0d0887"
             ],
             [
              0.1111111111111111,
              "#46039f"
             ],
             [
              0.2222222222222222,
              "#7201a8"
             ],
             [
              0.3333333333333333,
              "#9c179e"
             ],
             [
              0.4444444444444444,
              "#bd3786"
             ],
             [
              0.5555555555555556,
              "#d8576b"
             ],
             [
              0.6666666666666666,
              "#ed7953"
             ],
             [
              0.7777777777777778,
              "#fb9f3a"
             ],
             [
              0.8888888888888888,
              "#fdca26"
             ],
             [
              1,
              "#f0f921"
             ]
            ],
            "type": "histogram2dcontour"
           }
          ],
          "mesh3d": [
           {
            "colorbar": {
             "outlinewidth": 0,
             "ticks": ""
            },
            "type": "mesh3d"
           }
          ],
          "parcoords": [
           {
            "line": {
             "colorbar": {
              "outlinewidth": 0,
              "ticks": ""
             }
            },
            "type": "parcoords"
           }
          ],
          "pie": [
           {
            "automargin": true,
            "type": "pie"
           }
          ],
          "scatter": [
           {
            "marker": {
             "colorbar": {
              "outlinewidth": 0,
              "ticks": ""
             }
            },
            "type": "scatter"
           }
          ],
          "scatter3d": [
           {
            "line": {
             "colorbar": {
              "outlinewidth": 0,
              "ticks": ""
             }
            },
            "marker": {
             "colorbar": {
              "outlinewidth": 0,
              "ticks": ""
             }
            },
            "type": "scatter3d"
           }
          ],
          "scattercarpet": [
           {
            "marker": {
             "colorbar": {
              "outlinewidth": 0,
              "ticks": ""
             }
            },
            "type": "scattercarpet"
           }
          ],
          "scattergeo": [
           {
            "marker": {
             "colorbar": {
              "outlinewidth": 0,
              "ticks": ""
             }
            },
            "type": "scattergeo"
           }
          ],
          "scattergl": [
           {
            "marker": {
             "colorbar": {
              "outlinewidth": 0,
              "ticks": ""
             }
            },
            "type": "scattergl"
           }
          ],
          "scattermapbox": [
           {
            "marker": {
             "colorbar": {
              "outlinewidth": 0,
              "ticks": ""
             }
            },
            "type": "scattermapbox"
           }
          ],
          "scatterpolar": [
           {
            "marker": {
             "colorbar": {
              "outlinewidth": 0,
              "ticks": ""
             }
            },
            "type": "scatterpolar"
           }
          ],
          "scatterpolargl": [
           {
            "marker": {
             "colorbar": {
              "outlinewidth": 0,
              "ticks": ""
             }
            },
            "type": "scatterpolargl"
           }
          ],
          "scatterternary": [
           {
            "marker": {
             "colorbar": {
              "outlinewidth": 0,
              "ticks": ""
             }
            },
            "type": "scatterternary"
           }
          ],
          "surface": [
           {
            "colorbar": {
             "outlinewidth": 0,
             "ticks": ""
            },
            "colorscale": [
             [
              0,
              "#0d0887"
             ],
             [
              0.1111111111111111,
              "#46039f"
             ],
             [
              0.2222222222222222,
              "#7201a8"
             ],
             [
              0.3333333333333333,
              "#9c179e"
             ],
             [
              0.4444444444444444,
              "#bd3786"
             ],
             [
              0.5555555555555556,
              "#d8576b"
             ],
             [
              0.6666666666666666,
              "#ed7953"
             ],
             [
              0.7777777777777778,
              "#fb9f3a"
             ],
             [
              0.8888888888888888,
              "#fdca26"
             ],
             [
              1,
              "#f0f921"
             ]
            ],
            "type": "surface"
           }
          ],
          "table": [
           {
            "cells": {
             "fill": {
              "color": "#EBF0F8"
             },
             "line": {
              "color": "white"
             }
            },
            "header": {
             "fill": {
              "color": "#C8D4E3"
             },
             "line": {
              "color": "white"
             }
            },
            "type": "table"
           }
          ]
         },
         "layout": {
          "annotationdefaults": {
           "arrowcolor": "#2a3f5f",
           "arrowhead": 0,
           "arrowwidth": 1
          },
          "coloraxis": {
           "colorbar": {
            "outlinewidth": 0,
            "ticks": ""
           }
          },
          "colorscale": {
           "diverging": [
            [
             0,
             "#8e0152"
            ],
            [
             0.1,
             "#c51b7d"
            ],
            [
             0.2,
             "#de77ae"
            ],
            [
             0.3,
             "#f1b6da"
            ],
            [
             0.4,
             "#fde0ef"
            ],
            [
             0.5,
             "#f7f7f7"
            ],
            [
             0.6,
             "#e6f5d0"
            ],
            [
             0.7,
             "#b8e186"
            ],
            [
             0.8,
             "#7fbc41"
            ],
            [
             0.9,
             "#4d9221"
            ],
            [
             1,
             "#276419"
            ]
           ],
           "sequential": [
            [
             0,
             "#0d0887"
            ],
            [
             0.1111111111111111,
             "#46039f"
            ],
            [
             0.2222222222222222,
             "#7201a8"
            ],
            [
             0.3333333333333333,
             "#9c179e"
            ],
            [
             0.4444444444444444,
             "#bd3786"
            ],
            [
             0.5555555555555556,
             "#d8576b"
            ],
            [
             0.6666666666666666,
             "#ed7953"
            ],
            [
             0.7777777777777778,
             "#fb9f3a"
            ],
            [
             0.8888888888888888,
             "#fdca26"
            ],
            [
             1,
             "#f0f921"
            ]
           ],
           "sequentialminus": [
            [
             0,
             "#0d0887"
            ],
            [
             0.1111111111111111,
             "#46039f"
            ],
            [
             0.2222222222222222,
             "#7201a8"
            ],
            [
             0.3333333333333333,
             "#9c179e"
            ],
            [
             0.4444444444444444,
             "#bd3786"
            ],
            [
             0.5555555555555556,
             "#d8576b"
            ],
            [
             0.6666666666666666,
             "#ed7953"
            ],
            [
             0.7777777777777778,
             "#fb9f3a"
            ],
            [
             0.8888888888888888,
             "#fdca26"
            ],
            [
             1,
             "#f0f921"
            ]
           ]
          },
          "colorway": [
           "#636efa",
           "#EF553B",
           "#00cc96",
           "#ab63fa",
           "#FFA15A",
           "#19d3f3",
           "#FF6692",
           "#B6E880",
           "#FF97FF",
           "#FECB52"
          ],
          "font": {
           "color": "#2a3f5f"
          },
          "geo": {
           "bgcolor": "white",
           "lakecolor": "white",
           "landcolor": "#E5ECF6",
           "showlakes": true,
           "showland": true,
           "subunitcolor": "white"
          },
          "hoverlabel": {
           "align": "left"
          },
          "hovermode": "closest",
          "mapbox": {
           "style": "light"
          },
          "paper_bgcolor": "white",
          "plot_bgcolor": "#E5ECF6",
          "polar": {
           "angularaxis": {
            "gridcolor": "white",
            "linecolor": "white",
            "ticks": ""
           },
           "bgcolor": "#E5ECF6",
           "radialaxis": {
            "gridcolor": "white",
            "linecolor": "white",
            "ticks": ""
           }
          },
          "scene": {
           "xaxis": {
            "backgroundcolor": "#E5ECF6",
            "gridcolor": "white",
            "gridwidth": 2,
            "linecolor": "white",
            "showbackground": true,
            "ticks": "",
            "zerolinecolor": "white"
           },
           "yaxis": {
            "backgroundcolor": "#E5ECF6",
            "gridcolor": "white",
            "gridwidth": 2,
            "linecolor": "white",
            "showbackground": true,
            "ticks": "",
            "zerolinecolor": "white"
           },
           "zaxis": {
            "backgroundcolor": "#E5ECF6",
            "gridcolor": "white",
            "gridwidth": 2,
            "linecolor": "white",
            "showbackground": true,
            "ticks": "",
            "zerolinecolor": "white"
           }
          },
          "shapedefaults": {
           "line": {
            "color": "#2a3f5f"
           }
          },
          "ternary": {
           "aaxis": {
            "gridcolor": "white",
            "linecolor": "white",
            "ticks": ""
           },
           "baxis": {
            "gridcolor": "white",
            "linecolor": "white",
            "ticks": ""
           },
           "bgcolor": "#E5ECF6",
           "caxis": {
            "gridcolor": "white",
            "linecolor": "white",
            "ticks": ""
           }
          },
          "title": {
           "x": 0.05
          },
          "xaxis": {
           "automargin": true,
           "gridcolor": "white",
           "linecolor": "white",
           "ticks": "",
           "title": {
            "standoff": 15
           },
           "zerolinecolor": "white",
           "zerolinewidth": 2
          },
          "yaxis": {
           "automargin": true,
           "gridcolor": "white",
           "linecolor": "white",
           "ticks": "",
           "title": {
            "standoff": 15
           },
           "zerolinecolor": "white",
           "zerolinewidth": 2
          }
         }
        },
        "title": {
         "text": "Apple's Stock Prices"
        },
        "xaxis": {
         "title": {
          "text": " "
         }
        },
        "yaxis": {
         "title": {
          "text": "Price"
         }
        }
       }
      },
      "text/html": [
       "<div>\n",
       "        \n",
       "        \n",
       "            <div id=\"d9124d2c-54eb-4c25-8916-a80426e4ce12\" class=\"plotly-graph-div\" style=\"height:525px; width:100%;\"></div>\n",
       "            <script type=\"text/javascript\">\n",
       "                require([\"plotly\"], function(Plotly) {\n",
       "                    window.PLOTLYENV=window.PLOTLYENV || {};\n",
       "                    \n",
       "                if (document.getElementById(\"d9124d2c-54eb-4c25-8916-a80426e4ce12\")) {\n",
       "                    Plotly.newPlot(\n",
       "                        'd9124d2c-54eb-4c25-8916-a80426e4ce12',\n",
       "                        [{\"mode\": \"markers\", \"name\": \"TRUE\", \"type\": \"scatter\", \"x\": [-0.3744042288643291, -1.0636735092065372, 1.6170032176656575, -0.34684379315633096, 0.48215100084046214, -1.030088201313065, -0.49618324398344565, 0.1630897934523461, -0.6239871312880361, 0.13347829580886075, -0.30390058853220897, -0.696926383218544, -0.32325716769832025, -0.6097582069606433, 0.9150432116476566, 0.5873935980547544, 0.10630240976376215, -0.6110401695703314, -0.5755319177623274, 0.8547944897929102, -0.6692376338895586, -0.8084502842602546, -0.5309223964656494, 0.1962905516829193, 2.721346523900581, -0.9907342572760302, 0.3733187518390187, 0.04438737123646048, 0.4329262967888892, 2.577134532312154, -0.5778394113397585, -0.31107930530641503, -0.9048480436278171, 0.07861366043477712, 1.5179134150577647, -0.5577137328478474, 2.7168598503667063, -0.6564187901928095, 0.43510567234536474, 3.372415704794486, -0.7702501848119515, -1.0845682870242486, -0.3295382759257072, 0.6088008479562896, -0.3872230725610782, 0.24410497950381507, -0.5848898144929773, 0.3921624677212424, -0.35581694462404895, -0.8011436450651245, 0.740066073427044, -0.80204086241188, -0.7319217717426602, -0.9858632296792869, -0.2526252137452126, -1.0289345523243651, -0.2827495746725854, -0.859725659047251, -0.3947863389981845, 0.7482699299689302, 0.1425795652975347, -0.8930547308988118, 0.6017506404031032, 0.0488738491703042, -1.1882726855869412, 3.1715442519384, 0.23000417319737898, 3.680837052842263, 1.746601539663761, 1.4603569320433822, -0.5678407289042975, 2.4931708713784095, 0.9305539029847051, 0.7472445946012184, 0.8190301975430262, -0.5041310600834511, -0.7380749575491223, -0.6920551600217691, 1.0215677714716365, 0.8610759892203607, -0.47105841987383495, -0.9804791431986241, 0.1773189133797716, -0.8603666403520952, 0.8708180444138465, -0.9503549778712829, 0.8647931722283718, 1.0452827105506353, 0.37972817368739326, -1.2608273878545488, 2.6354601146523366, 0.5208637679726215, -1.2100646807514084, 0.13758041967983584, 1.6223869129462571, 0.1935987040426192, -0.21557876328560818, -1.2328822068836187, -0.3360760113950694, -0.3650465277337108, -0.668853084226658, -0.7121808385136805, -0.5679688469252531, -0.6578288708234524, -0.5939910839816512, 2.4497151946704627, -0.5539963542398042, -1.3232550940657068, -0.622064382973537, -0.3986318356271833, -0.994323517863117, 0.20411024976196881, -0.026372700737603203, -0.7985799154457814, -1.1012328229500288, 0.08489476866216371, -0.3167194322289581, 0.38062558663418106, -0.3283846269370071, -0.7138473507862678, -0.48823562348347105, 1.542397453462563, -0.3726095985707848, -1.033421030258208, -0.6410362168767166, -1.0649554718162246, -0.412989073575564, 0.20436648580388078, -0.7839664414554884, -0.5333580080640369, -1.0214995995082465, -0.5721990888171842, 0.5336826116693705, -0.9877859779937864, -0.3781218030724039, -1.03572852383564, 0.9506795814766165, 0.04964294849610366, -0.1418704120293008, -0.7143600184701241, -0.7708911661167953, 0.7654471335785663, -0.8962594418229991, -0.9949644991679608, -0.1855827159792233, -0.4522147039916112, 0.3312729601616849, 0.7158382710641574, 0.9319641792153808, -0.6729552080976334, -0.8161416687183172, -0.3947863389981845, 1.706606809921914, -0.590786373057464, -0.3678666889949982, -0.6110401695703314, -0.887798958039137, -0.6594953830960405, 0.3825483349486806, 1.4477943243885445, -0.5919400220461634, -1.0835427560565047, -0.3692767696256419, -0.03598683351016504, -0.3874795042030218, 0.9476031841734172, 0.8158254866188389, 1.2273100563244341, -0.6020670181026134, -0.41734743348845105, 1.6518704881688184, 0.8583837503799974, -0.6141167624735627, 1.7501908002508482, 0.8653060355122597, -0.7701220667909952, -0.6195006533541931, -1.0306008689969208, 0.9233753818105307, 0.3738316151229066, 0.9053007652541067, -0.5920683356671513, 1.8941465557973638, -0.8535726688408207, -0.6160395107880623, -0.6471892070831472, -0.631934947388043, -0.4092714993674885, -1.0507265474888323, -0.3494075227756744, -0.5889917427639203, -0.5488686994010851, -0.8894654703117246, -1.0200895188776027, -0.5155398231495569, 0.9150432116476566, -0.08854417090684918, -0.4727249321464226, -0.2836469876193732, 0.89081540928477, -1.221473443817514, 0.14424607757012234, 0.32294078999881004, -0.39350437638849645, -0.09303064884069218, 0.3967774548761054, 3.1875678065593362, -0.4361911493706748, -0.6032206670913132, -1.3631217057865979, 3.2523028107478926, 1.6352057566430063, -1.0390613527807828, -0.6307811027993113, -0.6655202552815151, -0.3628673477772673, 0.8397966617397495, -1.0363693095404516, 0.7874955603849773, -0.7585849901039018, -0.5847615008719893, -0.4004264659207269, 0.9209397702121432, 0.2428230168941281, 3.2805044233607674, 0.2774340513553763, -0.5478431684333416, 0.5372718722564577, 0.8856879500460831, -0.2901845274887037, 0.4126726958760538, 0.06964031336702715, -0.35222768403696175, -0.5370753866720801, 0.01003276841715659, -0.34210088358054364, 0.9715743592943278, -0.9815046741663679, -0.1846854986324675, -0.1130280137116153, -1.2883878235625466, -0.9335623239245463, 0.3337085717600716, 2.225385429977353, -0.3076181627402838, 0.07425530052188938, 0.9504233454347045, -0.9161286886729666, 1.299736836171118, -1.1990404673482031, 0.1532194246378723, -0.40081121118365876, -0.415809234836851, 0.6330286503191761, -1.2849266809964155, -0.39170974609495285, -0.35671435757083636, 2.429333280136639, -0.9884269592986303, -0.4051695710965458, -0.30556710080479627, -0.7034641186879066, -0.6021951361235693, 0.2517963639618781, 0.1416821523507462, 0.6273883277966014, -0.9525341578277264, -0.5500225439898171, -0.9194615176181098, 0.4407459948679395, -0.8813895361907624, -0.9258709394664844, -0.3031314892064088, -0.49233774735444613, 1.316657412538778, -0.293261120391935, -0.6652638236395712, 0.8767149941783972, 0.8519743285316228, -1.2040398085659334, 0.9136329354169809, 0.19705965100871842, 2.66558447557971, -0.821141009936048, 0.6681521568642482, -0.3633800154611232, -1.2072445194901207, 1.8578690090635286, -1.2219863071014012, 1.2690996119598568, -0.5988623071784261, -1.0272680400517775, 0.20436648580388078, -0.5902737053736085, 0.833387239891375, 0.3378106956310467, -0.6271918422122233, -0.17853231282600454, -0.3933762583675401, -0.664366606292815, -0.7739677590200267, 0.6222608685579145, -0.9167696699778104, 0.8663317620800355, -0.8711344221133571, 1.3396032522919767, 3.4859904721716526, -0.36273922975631173, 0.380881822676093, -0.6546241598992651, -1.326844354652794, -0.9889396269824862, 2.5976447604669644, 0.9010707189622077, 1.6593052453849046, 1.4115171688547725, 0.09002222790084984, -1.264801198104536, -1.1948102254562718, -0.39888826726912724, -0.9839402857647553, 0.9378607377798673, -0.08662122699231763, -0.967275749838975, 0.26282038176505157, -0.32864105857895104, 0.6581534744287865, 1.4963778515352422, -0.3806855326917473, -0.9867604470260427, -0.002914193300548493, 1.7557028091524343, -0.3149248019354138, 1.2001341702793362, -0.40850240004168903, -0.30197784021770907, -0.7317936537217041, 0.6561024124932989, 0.9429881970185542, -0.9349724045551899, -0.02957741166179048, -0.3740196792014285, -0.932023929672915, 0.647001143004625, -0.6237308952461245, -0.6544960418783096, -0.5128477799092255, -0.676800900326665, -0.3770962721046601, -0.4142708405852194, -1.0125262524404968, -0.9494575649244951, 1.7926211415910827, 1.3247333466597402, -0.06829037439398139, 0.833130612649399, -0.08149376775363078, 1.4780466077368417, -0.7044894540556187, -0.12635972069225265, 1.7633941936104973, -0.8679297111891698, -1.2271137663400884, 0.6714851814094235, 1.2965321252469306, 0.8823553167009719, 0.6220042413159386, -0.6635975069670156, -0.48221075129799645, 1.707632145289625, -1.0093215415163095, 0.46394807066305027, -0.37901902041915936, -1.0730312103371553, 0.5335542980483825, -0.31774496319670187, -0.5051565910511953, 0.6261063651869136, 2.602772219705652, -0.7730703460732389, 2.719039225923182, -0.4149118218900636, -0.718974810024955, 0.09579086404441325, -0.0427808050214395, -1.2573662452884176, 1.857997322684516, -1.0189356742888713, -1.2501877241142432, -0.0370123644779088, -0.49233774735444613, -0.2771092521500107, -0.6479585020089794, -0.373122461854673, 0.9145303483637687, -0.7494837206152282, -0.5457923020978858, 0.3683196062213198, -0.7185902603620551, -1.0134236653872846, -0.5375882499559675, -0.802169176032868], \"y\": [55.14535903930664, 40.47835922241211, 93.0846710205078, 53.88830947875977, 71.60919952392578, 41.86553192138672, 52.07333755493164, 65.66448974609375, 49.90109634399414, 65.10087585449219, 55.18999099731445, 46.93351364135742, 54.56352615356445, 49.70363235473633, 79.41930389404297, 72.83366394042969, 64.41311645507811, 49.75294876098633, 51.11781311035156, 79.13655090332031, 47.49626922607422, 45.82312774658203, 51.70853805541992, 66.21853637695311, 114.60749816894531, 42.62116241455078, 69.52535247802734, 63.41618347167969, 69.33197021484375, 113.01000213623048, 50.919776916503906, 56.19989395141602, 43.29139709472656, 63.65097045898438, 90.8636703491211, 50.5385627746582, 115.5625, 49.02052307128906, 68.07266235351561, 125.85749816894531, 46.821144104003906, 39.3555908203125, 52.74018478393555, 72.90086364746094, 53.22039794921875, 67.22869873046875, 50.31274795532226, 69.38134765625, 54.56597137451172, 46.361122131347656, 77.2457275390625, 46.22355651855469, 47.81462097167969, 42.98328018188477, 55.57513427734375, 41.2488899230957, 55.88958740234375, 45.015621185302734, 53.82005310058594, 76.87713623046875, 64.99659729003906, 43.220458984375, 71.94268798828125, 61.6566276550293, 38.58506774902344, 124.37000274658205, 61.77857971191406, 134.17999267578122, 92.67790222167969, 91.03585815429688, 50.42927169799805, 108.74143981933594, 79.715087890625, 77.39295959472656, 76.7740707397461, 52.07086181640625, 45.69348526000977, 48.58156204223633, 82.72584533691406, 79.57902526855469, 51.71653366088867, 42.62116241455078, 65.94008636474611, 45.20915222167969, 78.88082122802734, 42.736976623535156, 79.66387176513672, 83.21495819091797, 68.92132568359375, 37.251930236816406, 113.69750213623048, 72.38065338134766, 38.12519454956055, 65.04128265380861, 93.00481414794922, 65.61978912353516, 58.01686096191406, 37.9001579284668, 55.02667236328125, 54.20221328735352, 48.79611587524414, 47.98986053466797, 50.96971893310547, 49.28448486328125, 50.87770080566406, 109.4676284790039, 51.21538543701172, 36.18542861938477, 50.1672477722168, 54.66264343261719, 41.21464538574219, 66.50121307373047, 61.39033126831055, 46.29970932006836, 40.42210388183594, 64.31961059570311, 54.38314437866211, 68.44846343994139, 54.83409881591797, 48.0733757019043, 52.79616165161133, 91.46758270263672, 54.15156555175781, 41.990814208984375, 49.627601623535156, 40.732757568359375, 54.14280319213867, 66.35472869873047, 46.60871505737305, 51.67231369018555, 42.02275466918945, 49.83477401733398, 72.9605941772461, 42.95872116088867, 53.897727966308594, 41.958885192871094, 80.85246276855469, 63.3266830444336, 59.536781311035156, 47.92597961425781, 46.89230346679688, 76.70829772949219, 44.13524627685547, 42.37650680541992, 58.52185821533203, 53.64276123046875, 68.71475982666016, 76.78904724121094, 79.81189727783203, 49.08464050292969, 46.18916320800781, 53.45928192138672, 96.01688385009766, 50.26467895507813, 53.78592300415039, 49.13983154296875, 43.9200439453125, 49.18821716308594, 69.45583343505861, 91.04584503173828, 50.71718215942383, 40.62268829345703, 54.29294967651367, 61.65081024169922, 52.98394775390625, 80.87237548828125, 78.27001953125, 84.54755401611328, 50.14751815795898, 52.27460861206055, 94.86894989013672, 78.60025024414062, 50.0804328918457, 96.15412902832031, 79.26069641113281, 46.36603164672852, 50.11792755126953, 41.8897705078125, 80.4127426147461, 68.54801177978516, 76.84734344482422, 50.60620880126953, 95.3056640625, 45.676536560058594, 50.13519287109375, 49.25727081298828, 49.75384902954102, 54.43490219116211, 41.48616409301758, 54.546470642089844, 50.43111801147461, 51.05257034301758, 44.44251251220703, 41.80656814575195, 52.01869583129883, 80.68951416015625, 60.9572868347168, 51.99428176879883, 56.20731735229492, 80.02619171142578, 38.19613265991211, 64.98666381835939, 66.79094696044922, 53.05708312988281, 60.2967414855957, 70.42454528808594, 124.8249969482422, 51.4002799987793, 50.18852233886719, 34.78135299682617, 124.80750274658205, 94.6393585205078, 41.98099136352539, 49.00934600830078, 48.85457992553711, 53.7298583984375, 77.63440704345703, 41.62232208251953, 76.63629913330078, 45.88699722290039, 50.18952560424805, 54.63294219970703, 79.54336547851562, 67.21379852294922, 126.52249908447266, 68.00547027587889, 51.73915100097656, 71.95359802246094, 79.34194946289062, 55.39718627929688, 70.51353454589844, 63.67819213867188, 55.4424057006836, 51.48659133911133, 60.91995239257813, 53.944374084472656, 80.52943420410156, 42.87274169921875, 58.25203323364258, 60.19772720336914, 35.91635513305664, 43.97002029418945, 66.24342346191406, 106.06875610351562, 55.5488510131836, 63.7425537109375, 81.13371276855469, 43.95275497436523, 87.77424621582031, 38.21570205688477, 65.05370330810547, 54.15023040771485, 53.23014450073242, 74.36673736572266, 36.87522888183594, 54.71462631225586, 52.43061447143555, 109.86441040039062, 42.714111328125, 53.34959411621094, 55.59588623046875, 47.02172470092773, 50.36452865600586, 64.56599426269531, 65.32257843017578, 74.05564880371094, 43.19947052001953, 51.45947265625, 43.682777404785156, 71.0143814086914, 44.6390380859375, 44.30046844482422, 54.67321395874024, 50.57558822631836, 88.05123901367188, 55.66532516479492, 48.9712028503418, 77.9107437133789, 78.14411163330078, 38.58996200561523, 79.03226470947266, 66.31748962402344, 114.90750122070312, 46.0168571472168, 74.20994567871094, 55.34834289550781, 38.360023498535156, 97.5491180419922, 37.49898910522461, 83.82386016845703, 49.8445930480957, 41.363853454589844, 66.11637115478516, 50.0157699584961, 78.69707489013672, 68.0328369140625, 49.99462127685547, 58.38817977905274, 52.53713989257813, 49.15674209594727, 46.98019409179688, 74.57303619384766, 44.30540084838867, 79.16633605957031, 45.13527297973633, 87.27264404296875, 129.03999328613278, 54.697303771972656, 69.6221923828125, 49.27206802368164, 36.26614379882813, 42.53618240356445, 111.1125030517578, 80.31768798828125, 95.17090606689452, 90.28221893310548, 60.28034591674805, 37.44273376464844, 38.62909698486328, 54.43243026733398, 42.8260612487793, 80.74544525146484, 60.21752548217773, 42.1441650390625, 67.40001678466797, 55.22456741333008, 75.3448257446289, 89.85299682617188, 54.16862869262695, 42.606483459472656, 57.05241775512695, 96.88282012939452, 56.19494247436523, 85.59317016601562, 52.72556686401367, 55.84038543701172, 47.3397216796875, 74.81969451904297, 80.43497467041016, 43.94873046875, 60.224952697753906, 54.14181900024414, 43.74313735961914, 71.69629669189453, 49.29677200317383, 48.87423324584961, 50.16230010986328, 48.228919982910156, 53.91756057739258, 52.65730667114258, 42.47722625732422, 43.17347717285156, 97.0974349975586, 87.73930358886719, 61.03937530517578, 78.61076354980469, 60.08124160766602, 90.8636703491211, 48.39519119262695, 59.400634765625, 96.3487777709961, 45.15126419067383, 38.232826232910156, 75.27816009521484, 87.86157989501953, 79.06993865966797, 73.84803009033203, 48.93914413452149, 52.59318161010742, 95.58016967773438, 42.261043548583984, 71.43995666503906, 53.8853530883789, 40.101661682128906, 72.90950012207031, 55.30212783813477, 51.37997436523438, 74.08639526367188, 112.72750091552734, 47.08219528198242, 115.01000213623048, 51.73589324951172, 47.88860321044922, 64.4180908203125, 59.95680618286133, 37.62129974365234, 96.82542419433594, 41.81638717651367, 37.50143432617188, 61.57902145385742, 52.63773727416992, 56.957374572753906, 49.62718200683594, 53.11071014404297, 79.64789581298828, 47.53102111816406, 51.7837142944336, 69.48561859130861, 48.0414924621582, 42.49196243286133, 50.99911117553711, 45.799842834472656]}, {\"mode\": \"markers\", \"name\": \"PREDICTED\", \"type\": \"scatter\", \"x\": [-0.3744042288643291, -1.0636735092065372, 1.6170032176656575, -0.34684379315633096, 0.48215100084046214, -1.030088201313065, -0.49618324398344565, 0.1630897934523461, -0.6239871312880361, 0.13347829580886075, -0.30390058853220897, -0.696926383218544, -0.32325716769832025, -0.6097582069606433, 0.9150432116476566, 0.5873935980547544, 0.10630240976376215, -0.6110401695703314, -0.5755319177623274, 0.8547944897929102, -0.6692376338895586, -0.8084502842602546, -0.5309223964656494, 0.1962905516829193, 2.721346523900581, -0.9907342572760302, 0.3733187518390187, 0.04438737123646048, 0.4329262967888892, 2.577134532312154, -0.5778394113397585, -0.31107930530641503, -0.9048480436278171, 0.07861366043477712, 1.5179134150577647, -0.5577137328478474, 2.7168598503667063, -0.6564187901928095, 0.43510567234536474, 3.372415704794486, -0.7702501848119515, -1.0845682870242486, -0.3295382759257072, 0.6088008479562896, -0.3872230725610782, 0.24410497950381507, -0.5848898144929773, 0.3921624677212424, -0.35581694462404895, -0.8011436450651245, 0.740066073427044, -0.80204086241188, -0.7319217717426602, -0.9858632296792869, -0.2526252137452126, -1.0289345523243651, -0.2827495746725854, -0.859725659047251, -0.3947863389981845, 0.7482699299689302, 0.1425795652975347, -0.8930547308988118, 0.6017506404031032, 0.0488738491703042, -1.1882726855869412, 3.1715442519384, 0.23000417319737898, 3.680837052842263, 1.746601539663761, 1.4603569320433822, -0.5678407289042975, 2.4931708713784095, 0.9305539029847051, 0.7472445946012184, 0.8190301975430262, -0.5041310600834511, -0.7380749575491223, -0.6920551600217691, 1.0215677714716365, 0.8610759892203607, -0.47105841987383495, -0.9804791431986241, 0.1773189133797716, -0.8603666403520952, 0.8708180444138465, -0.9503549778712829, 0.8647931722283718, 1.0452827105506353, 0.37972817368739326, -1.2608273878545488, 2.6354601146523366, 0.5208637679726215, -1.2100646807514084, 0.13758041967983584, 1.6223869129462571, 0.1935987040426192, -0.21557876328560818, -1.2328822068836187, -0.3360760113950694, -0.3650465277337108, -0.668853084226658, -0.7121808385136805, -0.5679688469252531, -0.6578288708234524, -0.5939910839816512, 2.4497151946704627, -0.5539963542398042, -1.3232550940657068, -0.622064382973537, -0.3986318356271833, -0.994323517863117, 0.20411024976196881, -0.026372700737603203, -0.7985799154457814, -1.1012328229500288, 0.08489476866216371, -0.3167194322289581, 0.38062558663418106, -0.3283846269370071, -0.7138473507862678, -0.48823562348347105, 1.542397453462563, -0.3726095985707848, -1.033421030258208, -0.6410362168767166, -1.0649554718162246, -0.412989073575564, 0.20436648580388078, -0.7839664414554884, -0.5333580080640369, -1.0214995995082465, -0.5721990888171842, 0.5336826116693705, -0.9877859779937864, -0.3781218030724039, -1.03572852383564, 0.9506795814766165, 0.04964294849610366, -0.1418704120293008, -0.7143600184701241, -0.7708911661167953, 0.7654471335785663, -0.8962594418229991, -0.9949644991679608, -0.1855827159792233, -0.4522147039916112, 0.3312729601616849, 0.7158382710641574, 0.9319641792153808, -0.6729552080976334, -0.8161416687183172, -0.3947863389981845, 1.706606809921914, -0.590786373057464, -0.3678666889949982, -0.6110401695703314, -0.887798958039137, -0.6594953830960405, 0.3825483349486806, 1.4477943243885445, -0.5919400220461634, -1.0835427560565047, -0.3692767696256419, -0.03598683351016504, -0.3874795042030218, 0.9476031841734172, 0.8158254866188389, 1.2273100563244341, -0.6020670181026134, -0.41734743348845105, 1.6518704881688184, 0.8583837503799974, -0.6141167624735627, 1.7501908002508482, 0.8653060355122597, -0.7701220667909952, -0.6195006533541931, -1.0306008689969208, 0.9233753818105307, 0.3738316151229066, 0.9053007652541067, -0.5920683356671513, 1.8941465557973638, -0.8535726688408207, -0.6160395107880623, -0.6471892070831472, -0.631934947388043, -0.4092714993674885, -1.0507265474888323, -0.3494075227756744, -0.5889917427639203, -0.5488686994010851, -0.8894654703117246, -1.0200895188776027, -0.5155398231495569, 0.9150432116476566, -0.08854417090684918, -0.4727249321464226, -0.2836469876193732, 0.89081540928477, -1.221473443817514, 0.14424607757012234, 0.32294078999881004, -0.39350437638849645, -0.09303064884069218, 0.3967774548761054, 3.1875678065593362, -0.4361911493706748, -0.6032206670913132, -1.3631217057865979, 3.2523028107478926, 1.6352057566430063, -1.0390613527807828, -0.6307811027993113, -0.6655202552815151, -0.3628673477772673, 0.8397966617397495, -1.0363693095404516, 0.7874955603849773, -0.7585849901039018, -0.5847615008719893, -0.4004264659207269, 0.9209397702121432, 0.2428230168941281, 3.2805044233607674, 0.2774340513553763, -0.5478431684333416, 0.5372718722564577, 0.8856879500460831, -0.2901845274887037, 0.4126726958760538, 0.06964031336702715, -0.35222768403696175, -0.5370753866720801, 0.01003276841715659, -0.34210088358054364, 0.9715743592943278, -0.9815046741663679, -0.1846854986324675, -0.1130280137116153, -1.2883878235625466, -0.9335623239245463, 0.3337085717600716, 2.225385429977353, -0.3076181627402838, 0.07425530052188938, 0.9504233454347045, -0.9161286886729666, 1.299736836171118, -1.1990404673482031, 0.1532194246378723, -0.40081121118365876, -0.415809234836851, 0.6330286503191761, -1.2849266809964155, -0.39170974609495285, -0.35671435757083636, 2.429333280136639, -0.9884269592986303, -0.4051695710965458, -0.30556710080479627, -0.7034641186879066, -0.6021951361235693, 0.2517963639618781, 0.1416821523507462, 0.6273883277966014, -0.9525341578277264, -0.5500225439898171, -0.9194615176181098, 0.4407459948679395, -0.8813895361907624, -0.9258709394664844, -0.3031314892064088, -0.49233774735444613, 1.316657412538778, -0.293261120391935, -0.6652638236395712, 0.8767149941783972, 0.8519743285316228, -1.2040398085659334, 0.9136329354169809, 0.19705965100871842, 2.66558447557971, -0.821141009936048, 0.6681521568642482, -0.3633800154611232, -1.2072445194901207, 1.8578690090635286, -1.2219863071014012, 1.2690996119598568, -0.5988623071784261, -1.0272680400517775, 0.20436648580388078, -0.5902737053736085, 0.833387239891375, 0.3378106956310467, -0.6271918422122233, -0.17853231282600454, -0.3933762583675401, -0.664366606292815, -0.7739677590200267, 0.6222608685579145, -0.9167696699778104, 0.8663317620800355, -0.8711344221133571, 1.3396032522919767, 3.4859904721716526, -0.36273922975631173, 0.380881822676093, -0.6546241598992651, -1.326844354652794, -0.9889396269824862, 2.5976447604669644, 0.9010707189622077, 1.6593052453849046, 1.4115171688547725, 0.09002222790084984, -1.264801198104536, -1.1948102254562718, -0.39888826726912724, -0.9839402857647553, 0.9378607377798673, -0.08662122699231763, -0.967275749838975, 0.26282038176505157, -0.32864105857895104, 0.6581534744287865, 1.4963778515352422, -0.3806855326917473, -0.9867604470260427, -0.002914193300548493, 1.7557028091524343, -0.3149248019354138, 1.2001341702793362, -0.40850240004168903, -0.30197784021770907, -0.7317936537217041, 0.6561024124932989, 0.9429881970185542, -0.9349724045551899, -0.02957741166179048, -0.3740196792014285, -0.932023929672915, 0.647001143004625, -0.6237308952461245, -0.6544960418783096, -0.5128477799092255, -0.676800900326665, -0.3770962721046601, -0.4142708405852194, -1.0125262524404968, -0.9494575649244951, 1.7926211415910827, 1.3247333466597402, -0.06829037439398139, 0.833130612649399, -0.08149376775363078, 1.4780466077368417, -0.7044894540556187, -0.12635972069225265, 1.7633941936104973, -0.8679297111891698, -1.2271137663400884, 0.6714851814094235, 1.2965321252469306, 0.8823553167009719, 0.6220042413159386, -0.6635975069670156, -0.48221075129799645, 1.707632145289625, -1.0093215415163095, 0.46394807066305027, -0.37901902041915936, -1.0730312103371553, 0.5335542980483825, -0.31774496319670187, -0.5051565910511953, 0.6261063651869136, 2.602772219705652, -0.7730703460732389, 2.719039225923182, -0.4149118218900636, -0.718974810024955, 0.09579086404441325, -0.0427808050214395, -1.2573662452884176, 1.857997322684516, -1.0189356742888713, -1.2501877241142432, -0.0370123644779088, -0.49233774735444613, -0.2771092521500107, -0.6479585020089794, -0.373122461854673, 0.9145303483637687, -0.7494837206152282, -0.5457923020978858, 0.3683196062213198, -0.7185902603620551, -1.0134236653872846, -0.5375882499559675, -0.802169176032868], \"y\": [54.6359476919876, 40.55371594195893, 93.59496391754212, 54.43180358180522, 71.53487905073722, 41.73683836844131, 52.377361560104355, 65.48429360117012, 49.6998285332818, 64.92185905726834, 55.89295146020109, 47.54671724183291, 55.331471266626345, 49.81413241532462, 79.9827140630831, 73.3623816097712, 64.36129059705921, 50.02423050124861, 50.803653601516636, 78.94718647338146, 47.97558327297319, 45.89217377818953, 51.84243989999189, 65.70190255815663, 114.74149636380383, 42.42124414145029, 69.65526545410947, 62.71952073401981, 69.68009489876789, 112.70426894406552, 50.59422763028958, 56.03059412920073, 43.51348010655789, 63.844547358853994, 91.57664612636835, 50.54909405890785, 115.68510475344794, 49.04491550556133, 68.90094724520873, 125.22128642175895, 46.57563259054347, 39.42315408665954, 53.995287740842905, 73.38265670691058, 53.78384768049793, 67.15040115901851, 49.965572912913224, 69.16638196543127, 54.751819593038206, 46.308818048205076, 76.19037498217318, 46.077394312091016, 47.789043304501966, 42.604486569174064, 56.556671599061026, 41.01493536374837, 56.597296910860784, 44.75635604705585, 54.35887877051585, 76.7850759975281, 64.97566573867624, 43.68906349907067, 73.43303746410251, 62.00675811994917, 38.40475376062099, 123.77390816528288, 64.27257844544212, 133.22324679328844, 93.13735869472931, 91.00226144168185, 50.87901276006823, 110.568543246804, 79.95672467490205, 76.70794358137832, 76.63802265335687, 52.249685895068225, 46.039054383497046, 48.14444572622928, 82.19610567867315, 79.29187837902063, 52.43245472938318, 42.61487012878235, 65.7056406462282, 44.6488515060265, 79.38176486553729, 42.401234735415116, 79.38456261458786, 82.45427437246654, 69.52675269431435, 37.15534967277795, 113.26496835942667, 71.73657889717288, 38.09940973444159, 65.01210733046922, 93.81306918748851, 65.42832774823047, 58.09947627542787, 37.83075586251417, 55.60451496429641, 54.15772189465037, 48.769225517297805, 48.17662665682529, 50.94994912207521, 49.24515247965323, 50.52199626307345, 109.96594138073019, 51.05274192228307, 35.47180172835188, 49.79780660972442, 53.78645836461228, 41.60148046369001, 66.3866397456485, 60.57438348088916, 46.12734443481254, 39.65469218951047, 63.24448059821951, 55.12730657892831, 69.47573007944558, 55.720703636167755, 47.9642810535975, 52.59322632515196, 92.07124251344742, 54.43736711956634, 41.89332434341752, 49.56052726470685, 41.00027210863395, 54.01915262392104, 66.39319010514743, 46.63527114413408, 51.339609560122724, 41.95828492975013, 49.99124966052838, 72.20968055058003, 42.67820753096477, 53.93464935861597, 41.813377447849646, 81.02878150523739, 62.960867352206236, 59.45581636041479, 47.760998294026415, 46.74046045725277, 76.44167556148564, 44.31242029592693, 42.361029257755874, 58.5736052811431, 52.89593349251423, 68.50917649046843, 76.1191663083309, 79.95707791672943, 48.559396662052045, 46.141272462977625, 54.292121796082526, 95.43427966604108, 50.58395280732907, 54.80084585976883, 48.87680629246021, 43.7969000511121, 48.955321833891034, 69.76103817306475, 90.26646915862479, 50.61968570984182, 40.62459798632487, 54.47007469467689, 61.516843937930126, 53.965523835913544, 80.83739174199765, 78.2047818025683, 84.46976816406456, 50.40237390841957, 53.319833614884985, 94.87777292041163, 79.11393729138041, 50.119852509924335, 96.23878941226377, 79.07198864158477, 46.106139903262616, 50.08058032307827, 41.75543520473781, 80.18176149144126, 68.34385256260519, 77.75671769705917, 50.67280184734604, 97.80407444064033, 45.26703151529021, 50.17380118205257, 49.45660235928165, 49.48319374564379, 54.21828165748647, 40.7988159201919, 54.98939973348743, 50.56102437854794, 51.23340629097788, 44.52245595724071, 41.92791170598373, 52.090343607578326, 80.12530247043549, 59.70033142002844, 52.451853359872835, 56.5289666331271, 79.66764567535672, 36.91465044455484, 65.18216319071072, 66.62403179191134, 53.42068781042135, 60.13894775582661, 69.94364937977156, 124.05339866334253, 52.060065064493756, 50.01691552681343, 34.47996650101372, 125.54653999772682, 94.39734981193129, 41.760378115765974, 49.54213861351617, 48.6359223809446, 54.901779325726594, 78.07266265634392, 41.597973998077066, 77.09049989439033, 45.8532151396254, 50.50998590528146, 54.36100618163136, 79.76915104025396, 67.04084943551574, 126.33311286259678, 67.16804245726136, 51.23720139827795, 72.30417177638294, 79.27504205737434, 56.335697528463356, 70.41423263049782, 63.569553249778195, 55.264268643919394, 51.39682359936958, 61.172144833629616, 55.191864052812605, 80.73419238901621, 42.854304058242576, 58.46508088374834, 60.02866188741348, 36.37944049360414, 43.67815474533525, 67.89831445060744, 103.8227366157648, 55.94238779125812, 63.51549246373326, 80.74577898263121, 44.00401989163227, 87.68839967847966, 37.96020509285962, 64.95010339183165, 53.795438709208206, 53.53995329676602, 72.79856291392593, 36.566181943971344, 54.30597729824358, 53.681589271742695, 109.97301085201848, 41.93447451291347, 54.09757175250186, 56.00388051975796, 48.04871082496754, 50.40539030933766, 65.0000437210965, 64.21198087412421, 74.3906893632422, 43.13778017639719, 51.45835651132835, 43.506173280518816, 68.94993443801566, 44.63721215654098, 43.681363422073744, 54.97872501798323, 51.224947633603904, 87.74096276534206, 56.24396651855784, 49.16860009151111, 78.15826599463136, 78.77574360953547, 38.186111001995414, 79.79798760140662, 65.99991046210667, 113.75547969791796, 45.92274218870471, 73.63524288749004, 54.77118737642983, 38.15707881386798, 97.23520562365647, 37.47343667146686, 84.7383981534889, 50.379727791508635, 41.681842717843885, 66.06015741876466, 50.03989015237476, 78.56488745033282, 67.37586149396155, 49.987305446549286, 58.71728684363767, 53.13118319037646, 49.08198310103319, 46.477825881902305, 74.3009487203692, 43.785986754262645, 79.01793826723394, 44.93430515277979, 86.80973331771169, 129.45338402117545, 54.89034162875852, 69.71043618673859, 49.237296191936586, 35.578346294098125, 42.536450414102696, 111.45815434457423, 80.01220572092332, 94.9862816888245, 89.56674907690547, 62.654465082587905, 37.1724240818388, 38.37522198148626, 54.32281004798014, 42.83515426314666, 80.4541668358776, 59.99098299113234, 42.68590466031728, 67.2680140005035, 55.437875850026224, 74.31488157136313, 90.52578135346815, 54.074195783771025, 42.60990812006813, 58.036658480336534, 95.9251203649013, 55.715908714541996, 85.44584673351375, 53.380736285127746, 53.11606234643183, 47.45385805291017, 74.92963875974107, 80.41372460116908, 43.671842236477296, 60.54723202597248, 54.13503951300011, 43.73725532364198, 72.18481830585046, 49.168672585732565, 49.05017956564482, 50.43034519087411, 48.44116795350159, 54.419097597884225, 53.186761203049116, 42.111292166152055, 43.304170753578255, 97.66513144535836, 87.88456475826693, 60.92040478109527, 78.28503548564001, 59.92359053427516, 91.36585485890254, 48.40541889775959, 59.634515643226635, 96.70418644509553, 44.501905489271024, 37.70152317534464, 75.3446964160425, 86.66430763662626, 79.2901641444814, 74.39114550362765, 48.93192659223921, 52.39697017500073, 95.0228377270517, 42.30132570823204, 70.70802741119613, 54.103527626656124, 40.39825373927819, 72.75666445794856, 55.70558498750941, 51.93203221638633, 74.33517614659598, 111.63584239727237, 46.81667865579036, 115.41708651765111, 51.60851371889266, 48.05119271165769, 63.875954123662126, 59.97677339579279, 37.07712979790969, 97.41747732273652, 41.931674992770496, 37.06380989752092, 59.69230860167548, 52.422971884684245, 56.69136882473311, 49.458303205682526, 54.011491807386086, 79.66047901874661, 47.314349067999984, 51.42200299118952, 69.50149551142891, 47.90228600470308, 42.30761453481841, 51.18016940261306, 45.31725581212437]}],\n",
       "                        {\"template\": {\"data\": {\"bar\": [{\"error_x\": {\"color\": \"#2a3f5f\"}, \"error_y\": {\"color\": \"#2a3f5f\"}, \"marker\": {\"line\": {\"color\": \"#E5ECF6\", \"width\": 0.5}}, \"type\": \"bar\"}], \"barpolar\": [{\"marker\": {\"line\": {\"color\": \"#E5ECF6\", \"width\": 0.5}}, \"type\": \"barpolar\"}], \"carpet\": [{\"aaxis\": {\"endlinecolor\": \"#2a3f5f\", \"gridcolor\": \"white\", \"linecolor\": \"white\", \"minorgridcolor\": \"white\", \"startlinecolor\": \"#2a3f5f\"}, \"baxis\": {\"endlinecolor\": \"#2a3f5f\", \"gridcolor\": \"white\", \"linecolor\": \"white\", \"minorgridcolor\": \"white\", \"startlinecolor\": \"#2a3f5f\"}, \"type\": \"carpet\"}], \"choropleth\": [{\"colorbar\": {\"outlinewidth\": 0, \"ticks\": \"\"}, \"type\": \"choropleth\"}], \"contour\": [{\"colorbar\": {\"outlinewidth\": 0, \"ticks\": \"\"}, \"colorscale\": [[0.0, \"#0d0887\"], [0.1111111111111111, \"#46039f\"], [0.2222222222222222, \"#7201a8\"], [0.3333333333333333, \"#9c179e\"], [0.4444444444444444, \"#bd3786\"], [0.5555555555555556, \"#d8576b\"], [0.6666666666666666, \"#ed7953\"], [0.7777777777777778, \"#fb9f3a\"], [0.8888888888888888, \"#fdca26\"], [1.0, \"#f0f921\"]], \"type\": \"contour\"}], \"contourcarpet\": [{\"colorbar\": {\"outlinewidth\": 0, \"ticks\": \"\"}, \"type\": \"contourcarpet\"}], \"heatmap\": [{\"colorbar\": {\"outlinewidth\": 0, \"ticks\": \"\"}, \"colorscale\": [[0.0, \"#0d0887\"], [0.1111111111111111, \"#46039f\"], [0.2222222222222222, \"#7201a8\"], [0.3333333333333333, \"#9c179e\"], [0.4444444444444444, \"#bd3786\"], [0.5555555555555556, \"#d8576b\"], [0.6666666666666666, \"#ed7953\"], [0.7777777777777778, \"#fb9f3a\"], [0.8888888888888888, \"#fdca26\"], [1.0, \"#f0f921\"]], \"type\": \"heatmap\"}], \"heatmapgl\": [{\"colorbar\": {\"outlinewidth\": 0, \"ticks\": \"\"}, \"colorscale\": [[0.0, \"#0d0887\"], [0.1111111111111111, \"#46039f\"], [0.2222222222222222, \"#7201a8\"], [0.3333333333333333, \"#9c179e\"], [0.4444444444444444, \"#bd3786\"], [0.5555555555555556, \"#d8576b\"], [0.6666666666666666, \"#ed7953\"], [0.7777777777777778, \"#fb9f3a\"], [0.8888888888888888, \"#fdca26\"], [1.0, \"#f0f921\"]], \"type\": \"heatmapgl\"}], \"histogram\": [{\"marker\": {\"colorbar\": {\"outlinewidth\": 0, \"ticks\": \"\"}}, \"type\": \"histogram\"}], \"histogram2d\": [{\"colorbar\": {\"outlinewidth\": 0, \"ticks\": \"\"}, \"colorscale\": [[0.0, \"#0d0887\"], [0.1111111111111111, \"#46039f\"], [0.2222222222222222, \"#7201a8\"], [0.3333333333333333, \"#9c179e\"], [0.4444444444444444, \"#bd3786\"], [0.5555555555555556, \"#d8576b\"], [0.6666666666666666, \"#ed7953\"], [0.7777777777777778, \"#fb9f3a\"], [0.8888888888888888, \"#fdca26\"], [1.0, \"#f0f921\"]], \"type\": \"histogram2d\"}], \"histogram2dcontour\": [{\"colorbar\": {\"outlinewidth\": 0, \"ticks\": \"\"}, \"colorscale\": [[0.0, \"#0d0887\"], [0.1111111111111111, \"#46039f\"], [0.2222222222222222, \"#7201a8\"], [0.3333333333333333, \"#9c179e\"], [0.4444444444444444, \"#bd3786\"], [0.5555555555555556, \"#d8576b\"], [0.6666666666666666, \"#ed7953\"], [0.7777777777777778, \"#fb9f3a\"], [0.8888888888888888, \"#fdca26\"], [1.0, \"#f0f921\"]], \"type\": \"histogram2dcontour\"}], \"mesh3d\": [{\"colorbar\": {\"outlinewidth\": 0, \"ticks\": \"\"}, \"type\": \"mesh3d\"}], \"parcoords\": [{\"line\": {\"colorbar\": {\"outlinewidth\": 0, \"ticks\": \"\"}}, \"type\": \"parcoords\"}], \"pie\": [{\"automargin\": true, \"type\": \"pie\"}], \"scatter\": [{\"marker\": {\"colorbar\": {\"outlinewidth\": 0, \"ticks\": \"\"}}, \"type\": \"scatter\"}], \"scatter3d\": [{\"line\": {\"colorbar\": {\"outlinewidth\": 0, \"ticks\": \"\"}}, \"marker\": {\"colorbar\": {\"outlinewidth\": 0, \"ticks\": \"\"}}, \"type\": \"scatter3d\"}], \"scattercarpet\": [{\"marker\": {\"colorbar\": {\"outlinewidth\": 0, \"ticks\": \"\"}}, \"type\": \"scattercarpet\"}], \"scattergeo\": [{\"marker\": {\"colorbar\": {\"outlinewidth\": 0, \"ticks\": \"\"}}, \"type\": \"scattergeo\"}], \"scattergl\": [{\"marker\": {\"colorbar\": {\"outlinewidth\": 0, \"ticks\": \"\"}}, \"type\": \"scattergl\"}], \"scattermapbox\": [{\"marker\": {\"colorbar\": {\"outlinewidth\": 0, \"ticks\": \"\"}}, \"type\": \"scattermapbox\"}], \"scatterpolar\": [{\"marker\": {\"colorbar\": {\"outlinewidth\": 0, \"ticks\": \"\"}}, \"type\": \"scatterpolar\"}], \"scatterpolargl\": [{\"marker\": {\"colorbar\": {\"outlinewidth\": 0, \"ticks\": \"\"}}, \"type\": \"scatterpolargl\"}], \"scatterternary\": [{\"marker\": {\"colorbar\": {\"outlinewidth\": 0, \"ticks\": \"\"}}, \"type\": \"scatterternary\"}], \"surface\": [{\"colorbar\": {\"outlinewidth\": 0, \"ticks\": \"\"}, \"colorscale\": [[0.0, \"#0d0887\"], [0.1111111111111111, \"#46039f\"], [0.2222222222222222, \"#7201a8\"], [0.3333333333333333, \"#9c179e\"], [0.4444444444444444, \"#bd3786\"], [0.5555555555555556, \"#d8576b\"], [0.6666666666666666, \"#ed7953\"], [0.7777777777777778, \"#fb9f3a\"], [0.8888888888888888, \"#fdca26\"], [1.0, \"#f0f921\"]], \"type\": \"surface\"}], \"table\": [{\"cells\": {\"fill\": {\"color\": \"#EBF0F8\"}, \"line\": {\"color\": \"white\"}}, \"header\": {\"fill\": {\"color\": \"#C8D4E3\"}, \"line\": {\"color\": \"white\"}}, \"type\": \"table\"}]}, \"layout\": {\"annotationdefaults\": {\"arrowcolor\": \"#2a3f5f\", \"arrowhead\": 0, \"arrowwidth\": 1}, \"coloraxis\": {\"colorbar\": {\"outlinewidth\": 0, \"ticks\": \"\"}}, \"colorscale\": {\"diverging\": [[0, \"#8e0152\"], [0.1, \"#c51b7d\"], [0.2, \"#de77ae\"], [0.3, \"#f1b6da\"], [0.4, \"#fde0ef\"], [0.5, \"#f7f7f7\"], [0.6, \"#e6f5d0\"], [0.7, \"#b8e186\"], [0.8, \"#7fbc41\"], [0.9, \"#4d9221\"], [1, \"#276419\"]], \"sequential\": [[0.0, \"#0d0887\"], [0.1111111111111111, \"#46039f\"], [0.2222222222222222, \"#7201a8\"], [0.3333333333333333, \"#9c179e\"], [0.4444444444444444, \"#bd3786\"], [0.5555555555555556, \"#d8576b\"], [0.6666666666666666, \"#ed7953\"], [0.7777777777777778, \"#fb9f3a\"], [0.8888888888888888, \"#fdca26\"], [1.0, \"#f0f921\"]], \"sequentialminus\": [[0.0, \"#0d0887\"], [0.1111111111111111, \"#46039f\"], [0.2222222222222222, \"#7201a8\"], [0.3333333333333333, \"#9c179e\"], [0.4444444444444444, \"#bd3786\"], [0.5555555555555556, \"#d8576b\"], [0.6666666666666666, \"#ed7953\"], [0.7777777777777778, \"#fb9f3a\"], [0.8888888888888888, \"#fdca26\"], [1.0, \"#f0f921\"]]}, \"colorway\": [\"#636efa\", \"#EF553B\", \"#00cc96\", \"#ab63fa\", \"#FFA15A\", \"#19d3f3\", \"#FF6692\", \"#B6E880\", \"#FF97FF\", \"#FECB52\"], \"font\": {\"color\": \"#2a3f5f\"}, \"geo\": {\"bgcolor\": \"white\", \"lakecolor\": \"white\", \"landcolor\": \"#E5ECF6\", \"showlakes\": true, \"showland\": true, \"subunitcolor\": \"white\"}, \"hoverlabel\": {\"align\": \"left\"}, \"hovermode\": \"closest\", \"mapbox\": {\"style\": \"light\"}, \"paper_bgcolor\": \"white\", \"plot_bgcolor\": \"#E5ECF6\", \"polar\": {\"angularaxis\": {\"gridcolor\": \"white\", \"linecolor\": \"white\", \"ticks\": \"\"}, \"bgcolor\": \"#E5ECF6\", \"radialaxis\": {\"gridcolor\": \"white\", \"linecolor\": \"white\", \"ticks\": \"\"}}, \"scene\": {\"xaxis\": {\"backgroundcolor\": \"#E5ECF6\", \"gridcolor\": \"white\", \"gridwidth\": 2, \"linecolor\": \"white\", \"showbackground\": true, \"ticks\": \"\", \"zerolinecolor\": \"white\"}, \"yaxis\": {\"backgroundcolor\": \"#E5ECF6\", \"gridcolor\": \"white\", \"gridwidth\": 2, \"linecolor\": \"white\", \"showbackground\": true, \"ticks\": \"\", \"zerolinecolor\": \"white\"}, \"zaxis\": {\"backgroundcolor\": \"#E5ECF6\", \"gridcolor\": \"white\", \"gridwidth\": 2, \"linecolor\": \"white\", \"showbackground\": true, \"ticks\": \"\", \"zerolinecolor\": \"white\"}}, \"shapedefaults\": {\"line\": {\"color\": \"#2a3f5f\"}}, \"ternary\": {\"aaxis\": {\"gridcolor\": \"white\", \"linecolor\": \"white\", \"ticks\": \"\"}, \"baxis\": {\"gridcolor\": \"white\", \"linecolor\": \"white\", \"ticks\": \"\"}, \"bgcolor\": \"#E5ECF6\", \"caxis\": {\"gridcolor\": \"white\", \"linecolor\": \"white\", \"ticks\": \"\"}}, \"title\": {\"x\": 0.05}, \"xaxis\": {\"automargin\": true, \"gridcolor\": \"white\", \"linecolor\": \"white\", \"ticks\": \"\", \"title\": {\"standoff\": 15}, \"zerolinecolor\": \"white\", \"zerolinewidth\": 2}, \"yaxis\": {\"automargin\": true, \"gridcolor\": \"white\", \"linecolor\": \"white\", \"ticks\": \"\", \"title\": {\"standoff\": 15}, \"zerolinecolor\": \"white\", \"zerolinewidth\": 2}}}, \"title\": {\"text\": \"Apple's Stock Prices\"}, \"xaxis\": {\"title\": {\"text\": \" \"}}, \"yaxis\": {\"title\": {\"text\": \"Price\"}}},\n",
       "                        {\"responsive\": true}\n",
       "                    ).then(function(){\n",
       "                            \n",
       "var gd = document.getElementById('d9124d2c-54eb-4c25-8916-a80426e4ce12');\n",
       "var x = new MutationObserver(function (mutations, observer) {{\n",
       "        var display = window.getComputedStyle(gd).display;\n",
       "        if (!display || display === 'none') {{\n",
       "            console.log([gd, 'removed!']);\n",
       "            Plotly.purge(gd);\n",
       "            observer.disconnect();\n",
       "        }}\n",
       "}});\n",
       "\n",
       "// Listen for the removal of the full notebook cells\n",
       "var notebookContainer = gd.closest('#notebook-container');\n",
       "if (notebookContainer) {{\n",
       "    x.observe(notebookContainer, {childList: true});\n",
       "}}\n",
       "\n",
       "// Listen for the clearing of the current output cell\n",
       "var outputEl = gd.closest('.output');\n",
       "if (outputEl) {{\n",
       "    x.observe(outputEl, {childList: true});\n",
       "}}\n",
       "\n",
       "                        })\n",
       "                };\n",
       "                });\n",
       "            </script>\n",
       "        </div>"
      ]
     },
     "metadata": {},
     "output_type": "display_data"
    }
   ],
   "source": [
    "iplot(fig)"
   ]
  },
  {
   "cell_type": "code",
   "execution_count": null,
   "metadata": {},
   "outputs": [],
   "source": []
  },
  {
   "cell_type": "code",
   "execution_count": null,
   "metadata": {},
   "outputs": [],
   "source": []
  }
 ],
 "metadata": {
  "kernelspec": {
   "display_name": "Python 3",
   "language": "python",
   "name": "python3"
  },
  "language_info": {
   "codemirror_mode": {
    "name": "ipython",
    "version": 3
   },
   "file_extension": ".py",
   "mimetype": "text/x-python",
   "name": "python",
   "nbconvert_exporter": "python",
   "pygments_lexer": "ipython3",
   "version": "3.7.6"
  }
 },
 "nbformat": 4,
 "nbformat_minor": 4
}
